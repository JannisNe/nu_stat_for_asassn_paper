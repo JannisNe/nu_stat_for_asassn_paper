{
 "cells": [
  {
   "cell_type": "code",
   "execution_count": 18,
   "id": "3480821b-98b6-4a0f-86a8-cf883e009a16",
   "metadata": {},
   "outputs": [
    {
     "name": "stdout",
     "output_type": "stream",
     "text": [
      "The autoreload extension is already loaded. To reload it, use:\n",
      "  %reload_ext autoreload\n"
     ]
    }
   ],
   "source": [
    "%matplotlib inline\n",
    "%load_ext autoreload\n",
    "%autoreload 2\n",
    "import matplotlib\n",
    "import matplotlib.pyplot as plt\n",
    "import pandas as pd\n",
    "import numpy as np\n",
    "import os, json, copy, tqdm, pickle\n",
    "from astropy.time import Time\n",
    "from astropy.table import Table\n",
    "from astropy.coordinates import SkyCoord, get_sun\n",
    "from astropy.coordinates import Angle\n",
    "from astropy.cosmology import WMAP9 as cosmo\n",
    "from astropy import constants\n",
    "from astropy import units as u\n",
    "from alerts import get_alerts\n",
    "from style import output_folder, big_fontsize, base_width, base_height, dpi, CB_color_cycle\n",
    "import seaborn as sns\n",
    "from astropy.time import Time\n",
    "\n",
    "from scipy.optimize import root\n",
    "from scipy.interpolate import interp1d\n",
    "from scipy.integrate import quad\n",
    "\n",
    "from flarestack.cosmo import get_rate, define_cosmology_functions\n",
    "plt.style.use('tableau-colorblind10')"
   ]
  },
  {
   "cell_type": "markdown",
   "id": "87875ad9-80cf-4936-b03c-3155db3908c1",
   "metadata": {},
   "source": [
    "## Define some style parameters"
   ]
  },
  {
   "cell_type": "code",
   "execution_count": 2,
   "id": "b8e94b05-10d2-49de-9596-a6c8e4d96c76",
   "metadata": {},
   "outputs": [],
   "source": [
    "rates = [\n",
    "    #(\"TDE\", get_rate(\"tde\")),\n",
    "    (\"GRB\", get_rate(\"GRB\")),\n",
    "#     (\"TDE (Jetted)\", get_rate(\"tde\", rate_name=\"sun_15_jetted\")),\n",
    "    #(\"CCSN (Madau)\", get_rate(\"ccsn\", rate_name=\"madau_14\", evolution_name=\"madau_14\", kcc_name=\"madau_14\")),\n",
    "    (\"SFR\", get_rate(\"ccsn\", rate_name=\"strolger_15\", evolution_name=\"strolger_15\", kcc_name=\"strolger_15\")),\n",
    "]\n",
    "\n",
    "labels = {\n",
    "    \"TDE\": \"TDE-like\",\n",
    "    \"GRB\": \"GRB-like\",\n",
    "    \"CCSN (Strolger)\": \"SFR-like\"\n",
    "}\n",
    "\n",
    "colors = {\n",
    "    \"TDE\": CB_color_cycle[0],\n",
    "    \"GRB\": CB_color_cycle[1],\n",
    "    \"CCSN (Madau)\": CB_color_cycle[3],\n",
    "    \"CCSN (Strolger)\": CB_color_cycle[5],\n",
    "    \"CCSN\": CB_color_cycle[5],\n",
    "    \"SFR\": CB_color_cycle[5]\n",
    "}"
   ]
  },
  {
   "cell_type": "code",
   "execution_count": 128,
   "id": "e6454adc-69c9-4ac5-9122-bf4ee50a712d",
   "metadata": {},
   "outputs": [],
   "source": [
    "nsteps = 1e4\n",
    "zrange, step = np.linspace(0.0, 500, int(nsteps + 1), retstep=True)\n",
    "cdf_mpc = dict()\n",
    "zplot = 0.5*(zrange[1:] + zrange[:-1])\n",
    "dlum_plot = cosmo.luminosity_distance(zplot)\n",
    "\n",
    "for label, rate in rates:\n",
    "    \n",
    "    rate_per_z, nu_flux_per_z, nu_flux_per_source, cumulative_nu_flux = \\\n",
    "            define_cosmology_functions(rate, 1., gamma=2.0)\n",
    "\n",
    "    y = [0] + [x.value for x in cumulative_nu_flux(zplot)]\n",
    "    y = np.array(y)/y[-1]\n",
    "    dls = [0.] + [dl.value for dl in dlum_plot[1:]]\n",
    "    cdf_mpc[label] = interp1d(dls, [0.] + list(y))"
   ]
  },
  {
   "cell_type": "code",
   "execution_count": 127,
   "id": "cc48f510-fb4f-40e8-ab09-cb6e872b59bf",
   "metadata": {},
   "outputs": [
    {
     "data": {
      "text/plain": [
       "9998"
      ]
     },
     "execution_count": 127,
     "metadata": {},
     "output_type": "execute_result"
    }
   ],
   "source": [
    "len(y)"
   ]
  },
  {
   "cell_type": "code",
   "execution_count": 116,
   "id": "0a53a77d-e7bd-4c26-8364-2c6fd31bc27a",
   "metadata": {},
   "outputs": [
    {
     "data": {
      "text/plain": [
       "6906082.303502253"
      ]
     },
     "execution_count": 116,
     "metadata": {},
     "output_type": "execute_result"
    }
   ],
   "source": [
    "max(dls)"
   ]
  },
  {
   "cell_type": "code",
   "execution_count": 97,
   "id": "5de2aaf1-0d67-49b1-8d86-64275e113d11",
   "metadata": {},
   "outputs": [
    {
     "data": {
      "text/latex": [
       "$1306348.7 \\; \\mathrm{Mpc}$"
      ],
      "text/plain": [
       "<Quantity 1306348.73498667 Mpc>"
      ]
     },
     "execution_count": 97,
     "metadata": {},
     "output_type": "execute_result"
    }
   ],
   "source": [
    "cosmo.luminosity_distance(100)"
   ]
  },
  {
   "cell_type": "code",
   "execution_count": 6,
   "id": "de02ad3a-1ac5-42e1-a67e-9f011cd1eab4",
   "metadata": {},
   "outputs": [],
   "source": [
    "average_absolute_magnitudes = {\n",
    "    'TDE': -19.5,\n",
    "    'SN IIn': -18.53\n",
    "#     'SN Ib': -17.45,\n",
    "#     'SN Ic': -17.66,\n",
    "    \n",
    "}\n",
    "\n",
    "mags_labels = {\n",
    "    'SN IIn': 'CCSN',\n",
    "    'TDE': 'TDE'\n",
    "}\n",
    "\n",
    "mag_label_map = np.array([\n",
    "    ('SN IIn', 'CCSN'),\n",
    "    ('TDE', 'TDE'),\n",
    "    ('GRB', 'GRB'),\n",
    "    ('SN IIn', 'SFR')\n",
    "])"
   ]
  },
  {
   "cell_type": "markdown",
   "id": "72a2ae10-4f3a-44f6-90e1-43cd9c7d0f2f",
   "metadata": {},
   "source": [
    "## Define some general functions"
   ]
  },
  {
   "cell_type": "code",
   "execution_count": 7,
   "id": "2ebc1972-18a8-4aa3-9df9-ab8b6e4fe81d",
   "metadata": {},
   "outputs": [],
   "source": [
    "def abs_mag(z, lim_mag):\n",
    "    \n",
    "    dl = cosmo.luminosity_distance(z=z).to(u.pc)\n",
    "    \n",
    "    ab_mag = lim_mag - 5. * np.log10(dl/(10.*u.pc))\n",
    "    \n",
    "    return ab_mag.value\n",
    "\n",
    "def max_dl(ab_mag, lim_mag):\n",
    "    \n",
    "    dl = (10.**(0.2*(lim_mag - ab_mag))) * (10.*u.pc)\n",
    "    \n",
    "    return dl.to(u.Mpc)\n",
    "\n",
    "def abs_mag_to_lum(ab_mag, wl):\n",
    "    am = (ab_mag * u.ABmag).to(u.Jansky)\n",
    "    f = (constants.c / wl).to(\"Hz\")\n",
    "    lum = (am * f * (4. * np.pi * (10. * u.pc)**2.)).to(\"erg s-1\")\n",
    "    return lum"
   ]
  },
  {
   "cell_type": "markdown",
   "id": "1a24f57a-1cb5-4483-bb04-8a3c2155aed4",
   "metadata": {},
   "source": [
    "## Load alerts"
   ]
  },
  {
   "cell_type": "code",
   "execution_count": 8,
   "id": "ed64278d-3b14-4a2f-bc1c-cd80289b194c",
   "metadata": {},
   "outputs": [],
   "source": [
    "alerts = get_alerts()"
   ]
  },
  {
   "cell_type": "code",
   "execution_count": 167,
   "id": "eda78c99-91a4-40a5-b507-fcaf4f45195c",
   "metadata": {},
   "outputs": [],
   "source": [
    "m = (~alerts.retracted)\n",
    "use_alerts = alerts[m]"
   ]
  },
  {
   "cell_type": "code",
   "execution_count": 168,
   "id": "4d488239-0d80-4211-b488-d2b9eca64ee3",
   "metadata": {},
   "outputs": [],
   "source": [
    "hese_m = use_alerts.Class == 'HESE'\n",
    "use_alerts.loc[hese_m, 'Signalness'] = 0."
   ]
  },
  {
   "cell_type": "code",
   "execution_count": 169,
   "id": "abacdf34-e11e-4f5a-9d6c-a180293bffd8",
   "metadata": {},
   "outputs": [
    {
     "name": "stdout",
     "output_type": "stream",
     "text": [
      "73 alerts used\n"
     ]
    }
   ],
   "source": [
    "N = len(use_alerts.Event.unique())\n",
    "print(N, 'alerts used')"
   ]
  },
  {
   "cell_type": "markdown",
   "id": "599a0349-92d3-420a-b539-6c30e0cc5a5c",
   "metadata": {},
   "source": [
    "## Define parameters for other instruments"
   ]
  },
  {
   "cell_type": "code",
   "execution_count": 150,
   "id": "49ecddbd-e176-4cce-a4d5-ab9234a13f83",
   "metadata": {},
   "outputs": [
    {
     "data": {
      "text/plain": [
       "{'ZTF': [0.5738981984832555, 20.8, '#984ea3', '-.'],\n",
       " 'LSST': [0.48481368404076497, 25, '#a65628', '--'],\n",
       " 'All-Sky LSST': [1, 25, '#999999', ':']}"
      ]
     },
     "execution_count": 150,
     "metadata": {},
     "output_type": "execute_result"
    }
   ],
   "source": [
    "full_sky_sqd = 41252.961\n",
    "# the list elements: observable sky fraction, completeness magnitude, color, linestyle\n",
    "instruments = {\n",
    "    'ZTF': [23675 / full_sky_sqd, 20.8, CB_color_cycle[5], \"-.\"],\n",
    "    'LSST': [20000 / full_sky_sqd, 25, CB_color_cycle[4], \"--\"],\n",
    "    'All-Sky LSST': [1, 25, CB_color_cycle[6], \":\"]\n",
    "}\n",
    "instruments"
   ]
  },
  {
   "cell_type": "code",
   "execution_count": 151,
   "id": "b2ac017b-8275-45d0-872c-5062c4cf830c",
   "metadata": {
    "scrolled": true,
    "tags": []
   },
   "outputs": [
    {
     "name": "stdout",
     "output_type": "stream",
     "text": [
      "---------- ZTF -----------\n"
     ]
    },
    {
     "name": "stderr",
     "output_type": "stream",
     "text": [
      "  1%|█▍                                                                                                                                            | 1/100 [00:01<02:04,  1.26s/it]"
     ]
    },
    {
     "name": "stdout",
     "output_type": "stream",
     "text": [
      "24h: Only 27.4% (90% CL) can lie above our limiting magnitude.\n"
     ]
    },
    {
     "name": "stderr",
     "output_type": "stream",
     "text": [
      "  2%|██▊                                                                                                                                           | 2/100 [00:02<02:04,  1.27s/it]"
     ]
    },
    {
     "name": "stdout",
     "output_type": "stream",
     "text": [
      "24h: Only 24.1% (90% CL) can lie above our limiting magnitude.\n"
     ]
    },
    {
     "name": "stderr",
     "output_type": "stream",
     "text": [
      "  3%|████▎                                                                                                                                         | 3/100 [00:03<02:02,  1.26s/it]"
     ]
    },
    {
     "name": "stdout",
     "output_type": "stream",
     "text": [
      "24h: Only 23.1% (90% CL) can lie above our limiting magnitude.\n"
     ]
    },
    {
     "name": "stderr",
     "output_type": "stream",
     "text": [
      "  4%|█████▋                                                                                                                                        | 4/100 [00:05<02:00,  1.26s/it]"
     ]
    },
    {
     "name": "stdout",
     "output_type": "stream",
     "text": [
      "24h: Only 23.0% (90% CL) can lie above our limiting magnitude.\n"
     ]
    },
    {
     "name": "stderr",
     "output_type": "stream",
     "text": [
      "  5%|███████                                                                                                                                       | 5/100 [00:06<01:59,  1.26s/it]"
     ]
    },
    {
     "name": "stdout",
     "output_type": "stream",
     "text": [
      "24h: Only 28.2% (90% CL) can lie above our limiting magnitude.\n"
     ]
    },
    {
     "name": "stderr",
     "output_type": "stream",
     "text": [
      "  6%|████████▌                                                                                                                                     | 6/100 [00:07<01:57,  1.25s/it]"
     ]
    },
    {
     "name": "stdout",
     "output_type": "stream",
     "text": [
      "24h: Only 32.5% (90% CL) can lie above our limiting magnitude.\n"
     ]
    },
    {
     "name": "stderr",
     "output_type": "stream",
     "text": [
      "  7%|█████████▉                                                                                                                                    | 7/100 [00:08<01:57,  1.26s/it]"
     ]
    },
    {
     "name": "stdout",
     "output_type": "stream",
     "text": [
      "24h: Only 21.9% (90% CL) can lie above our limiting magnitude.\n"
     ]
    },
    {
     "name": "stderr",
     "output_type": "stream",
     "text": [
      "  8%|███████████▎                                                                                                                                  | 8/100 [00:10<01:55,  1.25s/it]"
     ]
    },
    {
     "name": "stdout",
     "output_type": "stream",
     "text": [
      "24h: Only 25.3% (90% CL) can lie above our limiting magnitude.\n"
     ]
    },
    {
     "name": "stderr",
     "output_type": "stream",
     "text": [
      "  9%|████████████▊                                                                                                                                 | 9/100 [00:11<01:54,  1.26s/it]"
     ]
    },
    {
     "name": "stdout",
     "output_type": "stream",
     "text": [
      "24h: Only 23.0% (90% CL) can lie above our limiting magnitude.\n"
     ]
    },
    {
     "name": "stderr",
     "output_type": "stream",
     "text": [
      " 10%|██████████████                                                                                                                               | 10/100 [00:12<01:52,  1.25s/it]"
     ]
    },
    {
     "name": "stdout",
     "output_type": "stream",
     "text": [
      "24h: Only 26.7% (90% CL) can lie above our limiting magnitude.\n"
     ]
    },
    {
     "name": "stderr",
     "output_type": "stream",
     "text": [
      " 11%|███████████████▌                                                                                                                             | 11/100 [00:13<01:51,  1.25s/it]"
     ]
    },
    {
     "name": "stdout",
     "output_type": "stream",
     "text": [
      "24h: Only 32.4% (90% CL) can lie above our limiting magnitude.\n"
     ]
    },
    {
     "name": "stderr",
     "output_type": "stream",
     "text": [
      " 12%|████████████████▉                                                                                                                            | 12/100 [00:15<01:49,  1.25s/it]"
     ]
    },
    {
     "name": "stdout",
     "output_type": "stream",
     "text": [
      "24h: Only 23.1% (90% CL) can lie above our limiting magnitude.\n"
     ]
    },
    {
     "name": "stderr",
     "output_type": "stream",
     "text": [
      " 13%|██████████████████▎                                                                                                                          | 13/100 [00:16<01:48,  1.25s/it]"
     ]
    },
    {
     "name": "stdout",
     "output_type": "stream",
     "text": [
      "24h: Only 27.3% (90% CL) can lie above our limiting magnitude.\n"
     ]
    },
    {
     "name": "stderr",
     "output_type": "stream",
     "text": [
      " 14%|███████████████████▋                                                                                                                         | 14/100 [00:17<01:47,  1.25s/it]"
     ]
    },
    {
     "name": "stdout",
     "output_type": "stream",
     "text": [
      "24h: Only 26.4% (90% CL) can lie above our limiting magnitude.\n"
     ]
    },
    {
     "name": "stderr",
     "output_type": "stream",
     "text": [
      " 15%|█████████████████████▏                                                                                                                       | 15/100 [00:18<01:46,  1.25s/it]"
     ]
    },
    {
     "name": "stdout",
     "output_type": "stream",
     "text": [
      "24h: Only 33.7% (90% CL) can lie above our limiting magnitude.\n"
     ]
    },
    {
     "name": "stderr",
     "output_type": "stream",
     "text": [
      " 16%|██████████████████████▌                                                                                                                      | 16/100 [00:20<01:45,  1.25s/it]"
     ]
    },
    {
     "name": "stdout",
     "output_type": "stream",
     "text": [
      "24h: Only 25.3% (90% CL) can lie above our limiting magnitude.\n"
     ]
    },
    {
     "name": "stderr",
     "output_type": "stream",
     "text": [
      " 17%|███████████████████████▉                                                                                                                     | 17/100 [00:21<01:45,  1.27s/it]"
     ]
    },
    {
     "name": "stdout",
     "output_type": "stream",
     "text": [
      "24h: Only 23.7% (90% CL) can lie above our limiting magnitude.\n"
     ]
    },
    {
     "name": "stderr",
     "output_type": "stream",
     "text": [
      " 18%|█████████████████████████▍                                                                                                                   | 18/100 [00:22<01:44,  1.28s/it]"
     ]
    },
    {
     "name": "stdout",
     "output_type": "stream",
     "text": [
      "24h: Only 23.4% (90% CL) can lie above our limiting magnitude.\n"
     ]
    },
    {
     "name": "stderr",
     "output_type": "stream",
     "text": [
      " 19%|██████████████████████████▊                                                                                                                  | 19/100 [00:23<01:44,  1.29s/it]"
     ]
    },
    {
     "name": "stdout",
     "output_type": "stream",
     "text": [
      "24h: Only 24.0% (90% CL) can lie above our limiting magnitude.\n"
     ]
    },
    {
     "name": "stderr",
     "output_type": "stream",
     "text": [
      " 20%|████████████████████████████▏                                                                                                                | 20/100 [00:25<01:44,  1.30s/it]"
     ]
    },
    {
     "name": "stdout",
     "output_type": "stream",
     "text": [
      "24h: Only 24.9% (90% CL) can lie above our limiting magnitude.\n"
     ]
    },
    {
     "name": "stderr",
     "output_type": "stream",
     "text": [
      " 21%|█████████████████████████████▌                                                                                                               | 21/100 [00:26<01:42,  1.30s/it]"
     ]
    },
    {
     "name": "stdout",
     "output_type": "stream",
     "text": [
      "24h: Only 26.4% (90% CL) can lie above our limiting magnitude.\n"
     ]
    },
    {
     "name": "stderr",
     "output_type": "stream",
     "text": [
      " 22%|███████████████████████████████                                                                                                              | 22/100 [00:27<01:40,  1.29s/it]"
     ]
    },
    {
     "name": "stdout",
     "output_type": "stream",
     "text": [
      "24h: Only 28.8% (90% CL) can lie above our limiting magnitude.\n"
     ]
    },
    {
     "name": "stderr",
     "output_type": "stream",
     "text": [
      " 23%|████████████████████████████████▍                                                                                                            | 23/100 [00:29<01:39,  1.30s/it]"
     ]
    },
    {
     "name": "stdout",
     "output_type": "stream",
     "text": [
      "24h: Only 26.9% (90% CL) can lie above our limiting magnitude.\n"
     ]
    },
    {
     "name": "stderr",
     "output_type": "stream",
     "text": [
      " 24%|█████████████████████████████████▊                                                                                                           | 24/100 [00:30<01:40,  1.32s/it]"
     ]
    },
    {
     "name": "stdout",
     "output_type": "stream",
     "text": [
      "24h: Only 28.2% (90% CL) can lie above our limiting magnitude.\n"
     ]
    },
    {
     "name": "stderr",
     "output_type": "stream",
     "text": [
      " 25%|███████████████████████████████████▎                                                                                                         | 25/100 [00:31<01:37,  1.30s/it]"
     ]
    },
    {
     "name": "stdout",
     "output_type": "stream",
     "text": [
      "24h: Only 22.9% (90% CL) can lie above our limiting magnitude.\n"
     ]
    },
    {
     "name": "stderr",
     "output_type": "stream",
     "text": [
      " 26%|████████████████████████████████████▋                                                                                                        | 26/100 [00:33<01:35,  1.29s/it]"
     ]
    },
    {
     "name": "stdout",
     "output_type": "stream",
     "text": [
      "24h: Only 23.2% (90% CL) can lie above our limiting magnitude.\n"
     ]
    },
    {
     "name": "stderr",
     "output_type": "stream",
     "text": [
      " 27%|██████████████████████████████████████                                                                                                       | 27/100 [00:34<01:32,  1.27s/it]"
     ]
    },
    {
     "name": "stdout",
     "output_type": "stream",
     "text": [
      "24h: Only 25.1% (90% CL) can lie above our limiting magnitude.\n"
     ]
    },
    {
     "name": "stderr",
     "output_type": "stream",
     "text": [
      " 28%|███████████████████████████████████████▍                                                                                                     | 28/100 [00:35<01:31,  1.27s/it]"
     ]
    },
    {
     "name": "stdout",
     "output_type": "stream",
     "text": [
      "24h: Only 28.2% (90% CL) can lie above our limiting magnitude.\n"
     ]
    },
    {
     "name": "stderr",
     "output_type": "stream",
     "text": [
      " 29%|████████████████████████████████████████▉                                                                                                    | 29/100 [00:36<01:30,  1.27s/it]"
     ]
    },
    {
     "name": "stdout",
     "output_type": "stream",
     "text": [
      "24h: Only 21.5% (90% CL) can lie above our limiting magnitude.\n"
     ]
    },
    {
     "name": "stderr",
     "output_type": "stream",
     "text": [
      " 30%|██████████████████████████████████████████▎                                                                                                  | 30/100 [00:38<01:28,  1.26s/it]"
     ]
    },
    {
     "name": "stdout",
     "output_type": "stream",
     "text": [
      "24h: Only 27.5% (90% CL) can lie above our limiting magnitude.\n"
     ]
    },
    {
     "name": "stderr",
     "output_type": "stream",
     "text": [
      " 31%|███████████████████████████████████████████▋                                                                                                 | 31/100 [00:39<01:26,  1.25s/it]"
     ]
    },
    {
     "name": "stdout",
     "output_type": "stream",
     "text": [
      "24h: Only 23.8% (90% CL) can lie above our limiting magnitude.\n"
     ]
    },
    {
     "name": "stderr",
     "output_type": "stream",
     "text": [
      " 32%|█████████████████████████████████████████████                                                                                                | 32/100 [00:40<01:25,  1.25s/it]"
     ]
    },
    {
     "name": "stdout",
     "output_type": "stream",
     "text": [
      "24h: Only 31.1% (90% CL) can lie above our limiting magnitude.\n"
     ]
    },
    {
     "name": "stderr",
     "output_type": "stream",
     "text": [
      " 33%|██████████████████████████████████████████████▌                                                                                              | 33/100 [00:41<01:23,  1.25s/it]"
     ]
    },
    {
     "name": "stdout",
     "output_type": "stream",
     "text": [
      "24h: Only 22.4% (90% CL) can lie above our limiting magnitude.\n"
     ]
    },
    {
     "name": "stderr",
     "output_type": "stream",
     "text": [
      " 34%|███████████████████████████████████████████████▉                                                                                             | 34/100 [00:43<01:22,  1.25s/it]"
     ]
    },
    {
     "name": "stdout",
     "output_type": "stream",
     "text": [
      "24h: Only 25.7% (90% CL) can lie above our limiting magnitude.\n"
     ]
    },
    {
     "name": "stderr",
     "output_type": "stream",
     "text": [
      " 35%|█████████████████████████████████████████████████▎                                                                                           | 35/100 [00:44<01:20,  1.24s/it]"
     ]
    },
    {
     "name": "stdout",
     "output_type": "stream",
     "text": [
      "24h: Only 28.8% (90% CL) can lie above our limiting magnitude.\n"
     ]
    },
    {
     "name": "stderr",
     "output_type": "stream",
     "text": [
      " 36%|██████████████████████████████████████████████████▊                                                                                          | 36/100 [00:45<01:19,  1.25s/it]"
     ]
    },
    {
     "name": "stdout",
     "output_type": "stream",
     "text": [
      "24h: Only 26.5% (90% CL) can lie above our limiting magnitude.\n"
     ]
    },
    {
     "name": "stderr",
     "output_type": "stream",
     "text": [
      " 37%|████████████████████████████████████████████████████▏                                                                                        | 37/100 [00:46<01:18,  1.24s/it]"
     ]
    },
    {
     "name": "stdout",
     "output_type": "stream",
     "text": [
      "24h: Only 25.5% (90% CL) can lie above our limiting magnitude.\n"
     ]
    },
    {
     "name": "stderr",
     "output_type": "stream",
     "text": [
      " 38%|█████████████████████████████████████████████████████▌                                                                                       | 38/100 [00:48<01:17,  1.25s/it]"
     ]
    },
    {
     "name": "stdout",
     "output_type": "stream",
     "text": [
      "24h: Only 29.2% (90% CL) can lie above our limiting magnitude.\n"
     ]
    },
    {
     "name": "stderr",
     "output_type": "stream",
     "text": [
      " 39%|██████████████████████████████████████████████████████▉                                                                                      | 39/100 [00:49<01:15,  1.24s/it]"
     ]
    },
    {
     "name": "stdout",
     "output_type": "stream",
     "text": [
      "24h: Only 24.4% (90% CL) can lie above our limiting magnitude.\n"
     ]
    },
    {
     "name": "stderr",
     "output_type": "stream",
     "text": [
      " 40%|████████████████████████████████████████████████████████▍                                                                                    | 40/100 [00:50<01:14,  1.24s/it]"
     ]
    },
    {
     "name": "stdout",
     "output_type": "stream",
     "text": [
      "24h: Only 27.3% (90% CL) can lie above our limiting magnitude.\n"
     ]
    },
    {
     "name": "stderr",
     "output_type": "stream",
     "text": [
      " 41%|█████████████████████████████████████████████████████████▊                                                                                   | 41/100 [00:51<01:13,  1.24s/it]"
     ]
    },
    {
     "name": "stdout",
     "output_type": "stream",
     "text": [
      "24h: Only 26.4% (90% CL) can lie above our limiting magnitude.\n"
     ]
    },
    {
     "name": "stderr",
     "output_type": "stream",
     "text": [
      " 42%|███████████████████████████████████████████████████████████▏                                                                                 | 42/100 [00:53<01:12,  1.25s/it]"
     ]
    },
    {
     "name": "stdout",
     "output_type": "stream",
     "text": [
      "24h: Only 25.3% (90% CL) can lie above our limiting magnitude.\n"
     ]
    },
    {
     "name": "stderr",
     "output_type": "stream",
     "text": [
      " 43%|████████████████████████████████████████████████████████████▋                                                                                | 43/100 [00:54<01:10,  1.24s/it]"
     ]
    },
    {
     "name": "stdout",
     "output_type": "stream",
     "text": [
      "24h: Only 31.3% (90% CL) can lie above our limiting magnitude.\n"
     ]
    },
    {
     "name": "stderr",
     "output_type": "stream",
     "text": [
      " 44%|██████████████████████████████████████████████████████████████                                                                               | 44/100 [00:55<01:09,  1.25s/it]"
     ]
    },
    {
     "name": "stdout",
     "output_type": "stream",
     "text": [
      "24h: Only 26.7% (90% CL) can lie above our limiting magnitude.\n"
     ]
    },
    {
     "name": "stderr",
     "output_type": "stream",
     "text": [
      " 45%|███████████████████████████████████████████████████████████████▍                                                                             | 45/100 [00:56<01:08,  1.24s/it]"
     ]
    },
    {
     "name": "stdout",
     "output_type": "stream",
     "text": [
      "24h: Only 23.9% (90% CL) can lie above our limiting magnitude.\n"
     ]
    },
    {
     "name": "stderr",
     "output_type": "stream",
     "text": [
      " 46%|████████████████████████████████████████████████████████████████▊                                                                            | 46/100 [00:57<01:07,  1.25s/it]"
     ]
    },
    {
     "name": "stdout",
     "output_type": "stream",
     "text": [
      "24h: Only 25.4% (90% CL) can lie above our limiting magnitude.\n"
     ]
    },
    {
     "name": "stderr",
     "output_type": "stream",
     "text": [
      " 47%|██████████████████████████████████████████████████████████████████▎                                                                          | 47/100 [00:59<01:05,  1.24s/it]"
     ]
    },
    {
     "name": "stdout",
     "output_type": "stream",
     "text": [
      "24h: Only 28.8% (90% CL) can lie above our limiting magnitude.\n"
     ]
    },
    {
     "name": "stderr",
     "output_type": "stream",
     "text": [
      " 48%|███████████████████████████████████████████████████████████████████▋                                                                         | 48/100 [01:00<01:04,  1.24s/it]"
     ]
    },
    {
     "name": "stdout",
     "output_type": "stream",
     "text": [
      "24h: Only 25.2% (90% CL) can lie above our limiting magnitude.\n"
     ]
    },
    {
     "name": "stderr",
     "output_type": "stream",
     "text": [
      " 49%|█████████████████████████████████████████████████████████████████████                                                                        | 49/100 [01:01<01:03,  1.24s/it]"
     ]
    },
    {
     "name": "stdout",
     "output_type": "stream",
     "text": [
      "24h: Only 24.2% (90% CL) can lie above our limiting magnitude.\n"
     ]
    },
    {
     "name": "stderr",
     "output_type": "stream",
     "text": [
      " 50%|██████████████████████████████████████████████████████████████████████▌                                                                      | 50/100 [01:02<01:02,  1.25s/it]"
     ]
    },
    {
     "name": "stdout",
     "output_type": "stream",
     "text": [
      "24h: Only 27.6% (90% CL) can lie above our limiting magnitude.\n"
     ]
    },
    {
     "name": "stderr",
     "output_type": "stream",
     "text": [
      " 51%|███████████████████████████████████████████████████████████████████████▉                                                                     | 51/100 [01:04<01:00,  1.24s/it]"
     ]
    },
    {
     "name": "stdout",
     "output_type": "stream",
     "text": [
      "24h: Only 23.1% (90% CL) can lie above our limiting magnitude.\n"
     ]
    },
    {
     "name": "stderr",
     "output_type": "stream",
     "text": [
      " 52%|█████████████████████████████████████████████████████████████████████████▎                                                                   | 52/100 [01:05<00:59,  1.24s/it]"
     ]
    },
    {
     "name": "stdout",
     "output_type": "stream",
     "text": [
      "24h: Only 22.9% (90% CL) can lie above our limiting magnitude.\n"
     ]
    },
    {
     "name": "stderr",
     "output_type": "stream",
     "text": [
      " 54%|████████████████████████████████████████████████████████████████████████████▏                                                                | 54/100 [01:07<00:57,  1.24s/it]"
     ]
    },
    {
     "name": "stdout",
     "output_type": "stream",
     "text": [
      "24h: Only 24.0% (90% CL) can lie above our limiting magnitude.\n",
      "24h: Only 27.2% (90% CL) can lie above our limiting magnitude.\n"
     ]
    },
    {
     "name": "stderr",
     "output_type": "stream",
     "text": [
      " 55%|█████████████████████████████████████████████████████████████████████████████▌                                                               | 55/100 [01:09<00:55,  1.24s/it]"
     ]
    },
    {
     "name": "stdout",
     "output_type": "stream",
     "text": [
      "24h: Only 25.5% (90% CL) can lie above our limiting magnitude.\n"
     ]
    },
    {
     "name": "stderr",
     "output_type": "stream",
     "text": [
      " 56%|██████████████████████████████████████████████████████████████████████████████▉                                                              | 56/100 [01:10<00:54,  1.25s/it]"
     ]
    },
    {
     "name": "stdout",
     "output_type": "stream",
     "text": [
      "24h: Only 24.0% (90% CL) can lie above our limiting magnitude.\n"
     ]
    },
    {
     "name": "stderr",
     "output_type": "stream",
     "text": [
      " 57%|████████████████████████████████████████████████████████████████████████████████▎                                                            | 57/100 [01:11<00:53,  1.24s/it]"
     ]
    },
    {
     "name": "stdout",
     "output_type": "stream",
     "text": [
      "24h: Only 26.6% (90% CL) can lie above our limiting magnitude.\n"
     ]
    },
    {
     "name": "stderr",
     "output_type": "stream",
     "text": [
      " 58%|█████████████████████████████████████████████████████████████████████████████████▊                                                           | 58/100 [01:12<00:52,  1.24s/it]"
     ]
    },
    {
     "name": "stdout",
     "output_type": "stream",
     "text": [
      "24h: Only 25.9% (90% CL) can lie above our limiting magnitude.\n"
     ]
    },
    {
     "name": "stderr",
     "output_type": "stream",
     "text": [
      " 59%|███████████████████████████████████████████████████████████████████████████████████▏                                                         | 59/100 [01:14<00:50,  1.24s/it]"
     ]
    },
    {
     "name": "stdout",
     "output_type": "stream",
     "text": [
      "24h: Only 23.1% (90% CL) can lie above our limiting magnitude.\n"
     ]
    },
    {
     "name": "stderr",
     "output_type": "stream",
     "text": [
      " 60%|████████████████████████████████████████████████████████████████████████████████████▌                                                        | 60/100 [01:15<00:49,  1.24s/it]"
     ]
    },
    {
     "name": "stdout",
     "output_type": "stream",
     "text": [
      "24h: Only 25.5% (90% CL) can lie above our limiting magnitude.\n"
     ]
    },
    {
     "name": "stderr",
     "output_type": "stream",
     "text": [
      " 61%|██████████████████████████████████████████████████████████████████████████████████████                                                       | 61/100 [01:16<00:48,  1.24s/it]"
     ]
    },
    {
     "name": "stdout",
     "output_type": "stream",
     "text": [
      "24h: Only 24.0% (90% CL) can lie above our limiting magnitude.\n"
     ]
    },
    {
     "name": "stderr",
     "output_type": "stream",
     "text": [
      " 62%|███████████████████████████████████████████████████████████████████████████████████████▍                                                     | 62/100 [01:17<00:47,  1.24s/it]"
     ]
    },
    {
     "name": "stdout",
     "output_type": "stream",
     "text": [
      "24h: Only 26.1% (90% CL) can lie above our limiting magnitude.\n"
     ]
    },
    {
     "name": "stderr",
     "output_type": "stream",
     "text": [
      " 63%|████████████████████████████████████████████████████████████████████████████████████████▊                                                    | 63/100 [01:19<00:45,  1.24s/it]"
     ]
    },
    {
     "name": "stdout",
     "output_type": "stream",
     "text": [
      "24h: Only 26.4% (90% CL) can lie above our limiting magnitude.\n"
     ]
    },
    {
     "name": "stderr",
     "output_type": "stream",
     "text": [
      " 64%|██████████████████████████████████████████████████████████████████████████████████████████▏                                                  | 64/100 [01:20<00:44,  1.25s/it]"
     ]
    },
    {
     "name": "stdout",
     "output_type": "stream",
     "text": [
      "24h: Only 28.5% (90% CL) can lie above our limiting magnitude.\n"
     ]
    },
    {
     "name": "stderr",
     "output_type": "stream",
     "text": [
      " 65%|███████████████████████████████████████████████████████████████████████████████████████████▋                                                 | 65/100 [01:21<00:43,  1.25s/it]"
     ]
    },
    {
     "name": "stdout",
     "output_type": "stream",
     "text": [
      "24h: Only 26.6% (90% CL) can lie above our limiting magnitude.\n"
     ]
    },
    {
     "name": "stderr",
     "output_type": "stream",
     "text": [
      " 66%|█████████████████████████████████████████████████████████████████████████████████████████████                                                | 66/100 [01:22<00:42,  1.25s/it]"
     ]
    },
    {
     "name": "stdout",
     "output_type": "stream",
     "text": [
      "24h: Only 31.5% (90% CL) can lie above our limiting magnitude.\n"
     ]
    },
    {
     "name": "stderr",
     "output_type": "stream",
     "text": [
      " 68%|███████████████████████████████████████████████████████████████████████████████████████████████▉                                             | 68/100 [01:25<00:40,  1.25s/it]"
     ]
    },
    {
     "name": "stdout",
     "output_type": "stream",
     "text": [
      "24h: Only 33.4% (90% CL) can lie above our limiting magnitude.\n",
      "24h: Only 26.5% (90% CL) can lie above our limiting magnitude.\n"
     ]
    },
    {
     "name": "stderr",
     "output_type": "stream",
     "text": [
      " 69%|█████████████████████████████████████████████████████████████████████████████████████████████████▎                                           | 69/100 [01:26<00:38,  1.25s/it]"
     ]
    },
    {
     "name": "stdout",
     "output_type": "stream",
     "text": [
      "24h: Only 30.7% (90% CL) can lie above our limiting magnitude.\n"
     ]
    },
    {
     "name": "stderr",
     "output_type": "stream",
     "text": [
      " 70%|██████████████████████████████████████████████████████████████████████████████████████████████████▋                                          | 70/100 [01:27<00:37,  1.25s/it]"
     ]
    },
    {
     "name": "stdout",
     "output_type": "stream",
     "text": [
      "24h: Only 27.1% (90% CL) can lie above our limiting magnitude.\n"
     ]
    },
    {
     "name": "stderr",
     "output_type": "stream",
     "text": [
      " 71%|████████████████████████████████████████████████████████████████████████████████████████████████████                                         | 71/100 [01:29<00:36,  1.25s/it]"
     ]
    },
    {
     "name": "stdout",
     "output_type": "stream",
     "text": [
      "24h: Only 23.6% (90% CL) can lie above our limiting magnitude.\n"
     ]
    },
    {
     "name": "stderr",
     "output_type": "stream",
     "text": [
      " 72%|█████████████████████████████████████████████████████████████████████████████████████████████████████▌                                       | 72/100 [01:30<00:34,  1.25s/it]"
     ]
    },
    {
     "name": "stdout",
     "output_type": "stream",
     "text": [
      "24h: Only 29.0% (90% CL) can lie above our limiting magnitude.\n"
     ]
    },
    {
     "name": "stderr",
     "output_type": "stream",
     "text": [
      " 73%|██████████████████████████████████████████████████████████████████████████████████████████████████████▉                                      | 73/100 [01:31<00:33,  1.25s/it]"
     ]
    },
    {
     "name": "stdout",
     "output_type": "stream",
     "text": [
      "24h: Only 27.7% (90% CL) can lie above our limiting magnitude.\n"
     ]
    },
    {
     "name": "stderr",
     "output_type": "stream",
     "text": [
      " 74%|████████████████████████████████████████████████████████████████████████████████████████████████████████▎                                    | 74/100 [01:32<00:32,  1.26s/it]"
     ]
    },
    {
     "name": "stdout",
     "output_type": "stream",
     "text": [
      "24h: Only 30.0% (90% CL) can lie above our limiting magnitude.\n"
     ]
    },
    {
     "name": "stderr",
     "output_type": "stream",
     "text": [
      " 75%|█████████████████████████████████████████████████████████████████████████████████████████████████████████▊                                   | 75/100 [01:34<00:31,  1.25s/it]"
     ]
    },
    {
     "name": "stdout",
     "output_type": "stream",
     "text": [
      "24h: Only 26.4% (90% CL) can lie above our limiting magnitude.\n"
     ]
    },
    {
     "name": "stderr",
     "output_type": "stream",
     "text": [
      " 76%|███████████████████████████████████████████████████████████████████████████████████████████████████████████▏                                 | 76/100 [01:35<00:30,  1.25s/it]"
     ]
    },
    {
     "name": "stdout",
     "output_type": "stream",
     "text": [
      "24h: Only 26.3% (90% CL) can lie above our limiting magnitude.\n"
     ]
    },
    {
     "name": "stderr",
     "output_type": "stream",
     "text": [
      " 77%|████████████████████████████████████████████████████████████████████████████████████████████████████████████▌                                | 77/100 [01:36<00:28,  1.24s/it]"
     ]
    },
    {
     "name": "stdout",
     "output_type": "stream",
     "text": [
      "24h: Only 23.9% (90% CL) can lie above our limiting magnitude.\n"
     ]
    },
    {
     "name": "stderr",
     "output_type": "stream",
     "text": [
      " 78%|█████████████████████████████████████████████████████████████████████████████████████████████████████████████▉                               | 78/100 [01:37<00:27,  1.25s/it]"
     ]
    },
    {
     "name": "stdout",
     "output_type": "stream",
     "text": [
      "24h: Only 21.8% (90% CL) can lie above our limiting magnitude.\n"
     ]
    },
    {
     "name": "stderr",
     "output_type": "stream",
     "text": [
      " 79%|███████████████████████████████████████████████████████████████████████████████████████████████████████████████▍                             | 79/100 [01:39<00:26,  1.24s/it]"
     ]
    },
    {
     "name": "stdout",
     "output_type": "stream",
     "text": [
      "24h: Only 26.4% (90% CL) can lie above our limiting magnitude.\n"
     ]
    },
    {
     "name": "stderr",
     "output_type": "stream",
     "text": [
      " 81%|██████████████████████████████████████████████████████████████████████████████████████████████████████████████████▏                          | 81/100 [01:41<00:24,  1.26s/it]"
     ]
    },
    {
     "name": "stdout",
     "output_type": "stream",
     "text": [
      "24h: Only 26.5% (90% CL) can lie above our limiting magnitude.\n",
      "24h: Only 24.9% (90% CL) can lie above our limiting magnitude.\n"
     ]
    },
    {
     "name": "stderr",
     "output_type": "stream",
     "text": [
      " 82%|███████████████████████████████████████████████████████████████████████████████████████████████████████████████████▌                         | 82/100 [01:42<00:22,  1.27s/it]"
     ]
    },
    {
     "name": "stdout",
     "output_type": "stream",
     "text": [
      "24h: Only 25.1% (90% CL) can lie above our limiting magnitude.\n"
     ]
    },
    {
     "name": "stderr",
     "output_type": "stream",
     "text": [
      " 83%|█████████████████████████████████████████████████████████████████████████████████████████████████████████████████████                        | 83/100 [01:44<00:21,  1.26s/it]"
     ]
    },
    {
     "name": "stdout",
     "output_type": "stream",
     "text": [
      "24h: Only 21.1% (90% CL) can lie above our limiting magnitude.\n"
     ]
    },
    {
     "name": "stderr",
     "output_type": "stream",
     "text": [
      " 84%|██████████████████████████████████████████████████████████████████████████████████████████████████████████████████████▍                      | 84/100 [01:45<00:20,  1.25s/it]"
     ]
    },
    {
     "name": "stdout",
     "output_type": "stream",
     "text": [
      "24h: Only 21.9% (90% CL) can lie above our limiting magnitude.\n"
     ]
    },
    {
     "name": "stderr",
     "output_type": "stream",
     "text": [
      " 85%|███████████████████████████████████████████████████████████████████████████████████████████████████████████████████████▊                     | 85/100 [01:46<00:18,  1.26s/it]"
     ]
    },
    {
     "name": "stdout",
     "output_type": "stream",
     "text": [
      "24h: Only 22.6% (90% CL) can lie above our limiting magnitude.\n"
     ]
    },
    {
     "name": "stderr",
     "output_type": "stream",
     "text": [
      " 86%|█████████████████████████████████████████████████████████████████████████████████████████████████████████████████████████▎                   | 86/100 [01:47<00:17,  1.27s/it]"
     ]
    },
    {
     "name": "stdout",
     "output_type": "stream",
     "text": [
      "24h: Only 26.5% (90% CL) can lie above our limiting magnitude.\n"
     ]
    },
    {
     "name": "stderr",
     "output_type": "stream",
     "text": [
      " 87%|██████████████████████████████████████████████████████████████████████████████████████████████████████████████████████████▋                  | 87/100 [01:49<00:16,  1.26s/it]"
     ]
    },
    {
     "name": "stdout",
     "output_type": "stream",
     "text": [
      "24h: Only 24.3% (90% CL) can lie above our limiting magnitude.\n"
     ]
    },
    {
     "name": "stderr",
     "output_type": "stream",
     "text": [
      " 89%|█████████████████████████████████████████████████████████████████████████████████████████████████████████████████████████████▍               | 89/100 [01:51<00:13,  1.27s/it]"
     ]
    },
    {
     "name": "stdout",
     "output_type": "stream",
     "text": [
      "24h: Only 28.4% (90% CL) can lie above our limiting magnitude.\n",
      "24h: Only 23.8% (90% CL) can lie above our limiting magnitude.\n"
     ]
    },
    {
     "name": "stderr",
     "output_type": "stream",
     "text": [
      " 90%|██████████████████████████████████████████████████████████████████████████████████████████████████████████████████████████████▉              | 90/100 [01:52<00:12,  1.27s/it]"
     ]
    },
    {
     "name": "stdout",
     "output_type": "stream",
     "text": [
      "24h: Only 30.1% (90% CL) can lie above our limiting magnitude.\n"
     ]
    },
    {
     "name": "stderr",
     "output_type": "stream",
     "text": [
      " 91%|████████████████████████████████████████████████████████████████████████████████████████████████████████████████████████████████▎            | 91/100 [01:54<00:11,  1.26s/it]"
     ]
    },
    {
     "name": "stdout",
     "output_type": "stream",
     "text": [
      "24h: Only 26.5% (90% CL) can lie above our limiting magnitude.\n"
     ]
    },
    {
     "name": "stderr",
     "output_type": "stream",
     "text": [
      " 92%|█████████████████████████████████████████████████████████████████████████████████████████████████████████████████████████████████▋           | 92/100 [01:55<00:10,  1.26s/it]"
     ]
    },
    {
     "name": "stdout",
     "output_type": "stream",
     "text": [
      "24h: Only 34.0% (90% CL) can lie above our limiting magnitude.\n"
     ]
    },
    {
     "name": "stderr",
     "output_type": "stream",
     "text": [
      " 93%|███████████████████████████████████████████████████████████████████████████████████████████████████████████████████████████████████▏         | 93/100 [01:56<00:08,  1.25s/it]"
     ]
    },
    {
     "name": "stdout",
     "output_type": "stream",
     "text": [
      "24h: Only 27.2% (90% CL) can lie above our limiting magnitude.\n"
     ]
    },
    {
     "name": "stderr",
     "output_type": "stream",
     "text": [
      " 94%|████████████████████████████████████████████████████████████████████████████████████████████████████████████████████████████████████▌        | 94/100 [01:57<00:07,  1.26s/it]"
     ]
    },
    {
     "name": "stdout",
     "output_type": "stream",
     "text": [
      "24h: Only 24.9% (90% CL) can lie above our limiting magnitude.\n"
     ]
    },
    {
     "name": "stderr",
     "output_type": "stream",
     "text": [
      " 95%|█████████████████████████████████████████████████████████████████████████████████████████████████████████████████████████████████████▉       | 95/100 [01:59<00:06,  1.25s/it]"
     ]
    },
    {
     "name": "stdout",
     "output_type": "stream",
     "text": [
      "24h: Only 27.7% (90% CL) can lie above our limiting magnitude.\n"
     ]
    },
    {
     "name": "stderr",
     "output_type": "stream",
     "text": [
      " 96%|███████████████████████████████████████████████████████████████████████████████████████████████████████████████████████████████████████▎     | 96/100 [02:00<00:05,  1.25s/it]"
     ]
    },
    {
     "name": "stdout",
     "output_type": "stream",
     "text": [
      "24h: Only 25.6% (90% CL) can lie above our limiting magnitude.\n"
     ]
    },
    {
     "name": "stderr",
     "output_type": "stream",
     "text": [
      " 97%|████████████████████████████████████████████████████████████████████████████████████████████████████████████████████████████████████████▊    | 97/100 [02:01<00:03,  1.24s/it]"
     ]
    },
    {
     "name": "stdout",
     "output_type": "stream",
     "text": [
      "24h: Only 27.1% (90% CL) can lie above our limiting magnitude.\n"
     ]
    },
    {
     "name": "stderr",
     "output_type": "stream",
     "text": [
      " 98%|██████████████████████████████████████████████████████████████████████████████████████████████████████████████████████████████████████████▏  | 98/100 [02:02<00:02,  1.24s/it]"
     ]
    },
    {
     "name": "stdout",
     "output_type": "stream",
     "text": [
      "24h: Only 25.5% (90% CL) can lie above our limiting magnitude.\n"
     ]
    },
    {
     "name": "stderr",
     "output_type": "stream",
     "text": [
      "100%|████████████████████████████████████████████████████████████████████████████████████████████████████████████████████████████████████████████| 100/100 [02:05<00:00,  1.25s/it]"
     ]
    },
    {
     "name": "stdout",
     "output_type": "stream",
     "text": [
      "24h: Only 24.8% (90% CL) can lie above our limiting magnitude.\n",
      "24h: Only 31.2% (90% CL) can lie above our limiting magnitude.\n"
     ]
    },
    {
     "name": "stderr",
     "output_type": "stream",
     "text": [
      "100%|████████████████████████████████████████████████████████████████████████████████████████████████████████████████████████████████████████████| 100/100 [02:05<00:00,  1.25s/it]\n"
     ]
    },
    {
     "name": "stdout",
     "output_type": "stream",
     "text": [
      "---------- LSST -----------\n"
     ]
    },
    {
     "name": "stderr",
     "output_type": "stream",
     "text": [
      "  1%|█▍                                                                                                                                            | 1/100 [00:01<01:44,  1.05s/it]"
     ]
    },
    {
     "name": "stdout",
     "output_type": "stream",
     "text": [
      "24h: Only 28.8% (90% CL) can lie above our limiting magnitude.\n"
     ]
    },
    {
     "name": "stderr",
     "output_type": "stream",
     "text": [
      "  2%|██▊                                                                                                                                           | 2/100 [00:02<01:44,  1.07s/it]"
     ]
    },
    {
     "name": "stdout",
     "output_type": "stream",
     "text": [
      "24h: Only 38.9% (90% CL) can lie above our limiting magnitude.\n"
     ]
    },
    {
     "name": "stderr",
     "output_type": "stream",
     "text": [
      "  3%|████▎                                                                                                                                         | 3/100 [00:03<01:42,  1.05s/it]"
     ]
    },
    {
     "name": "stdout",
     "output_type": "stream",
     "text": [
      "24h: Only 33.5% (90% CL) can lie above our limiting magnitude.\n"
     ]
    },
    {
     "name": "stderr",
     "output_type": "stream",
     "text": [
      "  4%|█████▋                                                                                                                                        | 4/100 [00:04<01:42,  1.06s/it]"
     ]
    },
    {
     "name": "stdout",
     "output_type": "stream",
     "text": [
      "24h: Only 27.5% (90% CL) can lie above our limiting magnitude.\n"
     ]
    },
    {
     "name": "stderr",
     "output_type": "stream",
     "text": [
      "  5%|███████                                                                                                                                       | 5/100 [00:05<01:40,  1.06s/it]"
     ]
    },
    {
     "name": "stdout",
     "output_type": "stream",
     "text": [
      "24h: Only 33.4% (90% CL) can lie above our limiting magnitude.\n"
     ]
    },
    {
     "name": "stderr",
     "output_type": "stream",
     "text": [
      "  6%|████████▌                                                                                                                                     | 6/100 [00:06<01:40,  1.07s/it]"
     ]
    },
    {
     "name": "stdout",
     "output_type": "stream",
     "text": [
      "24h: Only 35.9% (90% CL) can lie above our limiting magnitude.\n"
     ]
    },
    {
     "name": "stderr",
     "output_type": "stream",
     "text": [
      "  7%|█████████▉                                                                                                                                    | 7/100 [00:07<01:38,  1.06s/it]"
     ]
    },
    {
     "name": "stdout",
     "output_type": "stream",
     "text": [
      "24h: Only 25.9% (90% CL) can lie above our limiting magnitude.\n"
     ]
    },
    {
     "name": "stderr",
     "output_type": "stream",
     "text": [
      "  8%|███████████▎                                                                                                                                  | 8/100 [00:08<01:38,  1.07s/it]"
     ]
    },
    {
     "name": "stdout",
     "output_type": "stream",
     "text": [
      "24h: Only 30.1% (90% CL) can lie above our limiting magnitude.\n"
     ]
    },
    {
     "name": "stderr",
     "output_type": "stream",
     "text": [
      "  9%|████████████▊                                                                                                                                 | 9/100 [00:09<01:36,  1.06s/it]"
     ]
    },
    {
     "name": "stdout",
     "output_type": "stream",
     "text": [
      "24h: Only 31.5% (90% CL) can lie above our limiting magnitude.\n"
     ]
    },
    {
     "name": "stderr",
     "output_type": "stream",
     "text": [
      " 10%|██████████████                                                                                                                               | 10/100 [00:10<01:35,  1.07s/it]"
     ]
    },
    {
     "name": "stdout",
     "output_type": "stream",
     "text": [
      "24h: Only 30.5% (90% CL) can lie above our limiting magnitude.\n"
     ]
    },
    {
     "name": "stderr",
     "output_type": "stream",
     "text": [
      " 11%|███████████████▌                                                                                                                             | 11/100 [00:11<01:34,  1.06s/it]"
     ]
    },
    {
     "name": "stdout",
     "output_type": "stream",
     "text": [
      "24h: Only 25.1% (90% CL) can lie above our limiting magnitude.\n"
     ]
    },
    {
     "name": "stderr",
     "output_type": "stream",
     "text": [
      " 12%|████████████████▉                                                                                                                            | 12/100 [00:12<01:33,  1.07s/it]"
     ]
    },
    {
     "name": "stdout",
     "output_type": "stream",
     "text": [
      "24h: Only 26.8% (90% CL) can lie above our limiting magnitude.\n"
     ]
    },
    {
     "name": "stderr",
     "output_type": "stream",
     "text": [
      " 13%|██████████████████▎                                                                                                                          | 13/100 [00:13<01:32,  1.06s/it]"
     ]
    },
    {
     "name": "stdout",
     "output_type": "stream",
     "text": [
      "24h: Only 31.1% (90% CL) can lie above our limiting magnitude.\n"
     ]
    },
    {
     "name": "stderr",
     "output_type": "stream",
     "text": [
      " 14%|███████████████████▋                                                                                                                         | 14/100 [00:14<01:31,  1.07s/it]"
     ]
    },
    {
     "name": "stdout",
     "output_type": "stream",
     "text": [
      "24h: Only 33.8% (90% CL) can lie above our limiting magnitude.\n"
     ]
    },
    {
     "name": "stderr",
     "output_type": "stream",
     "text": [
      " 15%|█████████████████████▏                                                                                                                       | 15/100 [00:15<01:30,  1.07s/it]"
     ]
    },
    {
     "name": "stdout",
     "output_type": "stream",
     "text": [
      "24h: Only 28.5% (90% CL) can lie above our limiting magnitude.\n"
     ]
    },
    {
     "name": "stderr",
     "output_type": "stream",
     "text": [
      " 16%|██████████████████████▌                                                                                                                      | 16/100 [00:17<01:29,  1.07s/it]"
     ]
    },
    {
     "name": "stdout",
     "output_type": "stream",
     "text": [
      "24h: Only 37.1% (90% CL) can lie above our limiting magnitude.\n"
     ]
    },
    {
     "name": "stderr",
     "output_type": "stream",
     "text": [
      " 17%|███████████████████████▉                                                                                                                     | 17/100 [00:18<01:28,  1.06s/it]"
     ]
    },
    {
     "name": "stdout",
     "output_type": "stream",
     "text": [
      "24h: Only 32.9% (90% CL) can lie above our limiting magnitude.\n"
     ]
    },
    {
     "name": "stderr",
     "output_type": "stream",
     "text": [
      " 18%|█████████████████████████▍                                                                                                                   | 18/100 [00:19<01:26,  1.06s/it]"
     ]
    },
    {
     "name": "stdout",
     "output_type": "stream",
     "text": [
      "24h: Only 24.1% (90% CL) can lie above our limiting magnitude.\n"
     ]
    },
    {
     "name": "stderr",
     "output_type": "stream",
     "text": [
      " 19%|██████████████████████████▊                                                                                                                  | 19/100 [00:20<01:27,  1.07s/it]"
     ]
    },
    {
     "name": "stdout",
     "output_type": "stream",
     "text": [
      "24h: Only 30.7% (90% CL) can lie above our limiting magnitude.\n"
     ]
    },
    {
     "name": "stderr",
     "output_type": "stream",
     "text": [
      " 20%|████████████████████████████▏                                                                                                                | 20/100 [00:21<01:26,  1.09s/it]"
     ]
    },
    {
     "name": "stdout",
     "output_type": "stream",
     "text": [
      "24h: Only 30.3% (90% CL) can lie above our limiting magnitude.\n"
     ]
    },
    {
     "name": "stderr",
     "output_type": "stream",
     "text": [
      " 21%|█████████████████████████████▌                                                                                                               | 21/100 [00:22<01:25,  1.09s/it]"
     ]
    },
    {
     "name": "stdout",
     "output_type": "stream",
     "text": [
      "24h: Only 30.3% (90% CL) can lie above our limiting magnitude.\n"
     ]
    },
    {
     "name": "stderr",
     "output_type": "stream",
     "text": [
      " 22%|███████████████████████████████                                                                                                              | 22/100 [00:23<01:25,  1.10s/it]"
     ]
    },
    {
     "name": "stdout",
     "output_type": "stream",
     "text": [
      "24h: Only 27.8% (90% CL) can lie above our limiting magnitude.\n"
     ]
    },
    {
     "name": "stderr",
     "output_type": "stream",
     "text": [
      " 23%|████████████████████████████████▍                                                                                                            | 23/100 [00:24<01:24,  1.09s/it]"
     ]
    },
    {
     "name": "stdout",
     "output_type": "stream",
     "text": [
      "24h: Only 27.9% (90% CL) can lie above our limiting magnitude.\n"
     ]
    },
    {
     "name": "stderr",
     "output_type": "stream",
     "text": [
      " 24%|█████████████████████████████████▊                                                                                                           | 24/100 [00:25<01:23,  1.10s/it]"
     ]
    },
    {
     "name": "stdout",
     "output_type": "stream",
     "text": [
      "24h: Only 25.7% (90% CL) can lie above our limiting magnitude.\n"
     ]
    },
    {
     "name": "stderr",
     "output_type": "stream",
     "text": [
      " 25%|███████████████████████████████████▎                                                                                                         | 25/100 [00:26<01:20,  1.08s/it]"
     ]
    },
    {
     "name": "stdout",
     "output_type": "stream",
     "text": [
      "24h: Only 27.3% (90% CL) can lie above our limiting magnitude.\n"
     ]
    },
    {
     "name": "stderr",
     "output_type": "stream",
     "text": [
      " 26%|████████████████████████████████████▋                                                                                                        | 26/100 [00:27<01:19,  1.08s/it]"
     ]
    },
    {
     "name": "stdout",
     "output_type": "stream",
     "text": [
      "24h: Only 29.2% (90% CL) can lie above our limiting magnitude.\n"
     ]
    },
    {
     "name": "stderr",
     "output_type": "stream",
     "text": [
      " 27%|██████████████████████████████████████                                                                                                       | 27/100 [00:28<01:18,  1.07s/it]"
     ]
    },
    {
     "name": "stdout",
     "output_type": "stream",
     "text": [
      "24h: Only 32.5% (90% CL) can lie above our limiting magnitude.\n"
     ]
    },
    {
     "name": "stderr",
     "output_type": "stream",
     "text": [
      " 28%|███████████████████████████████████████▍                                                                                                     | 28/100 [00:29<01:16,  1.07s/it]"
     ]
    },
    {
     "name": "stdout",
     "output_type": "stream",
     "text": [
      "24h: Only 36.9% (90% CL) can lie above our limiting magnitude.\n"
     ]
    },
    {
     "name": "stderr",
     "output_type": "stream",
     "text": [
      " 29%|████████████████████████████████████████▉                                                                                                    | 29/100 [00:31<01:15,  1.06s/it]"
     ]
    },
    {
     "name": "stdout",
     "output_type": "stream",
     "text": [
      "24h: Only 24.6% (90% CL) can lie above our limiting magnitude.\n"
     ]
    },
    {
     "name": "stderr",
     "output_type": "stream",
     "text": [
      " 30%|██████████████████████████████████████████▎                                                                                                  | 30/100 [00:32<01:14,  1.07s/it]"
     ]
    },
    {
     "name": "stdout",
     "output_type": "stream",
     "text": [
      "24h: Only 28.0% (90% CL) can lie above our limiting magnitude.\n"
     ]
    },
    {
     "name": "stderr",
     "output_type": "stream",
     "text": [
      " 31%|███████████████████████████████████████████▋                                                                                                 | 31/100 [00:33<01:13,  1.06s/it]"
     ]
    },
    {
     "name": "stdout",
     "output_type": "stream",
     "text": [
      "24h: Only 26.4% (90% CL) can lie above our limiting magnitude.\n"
     ]
    },
    {
     "name": "stderr",
     "output_type": "stream",
     "text": [
      " 32%|█████████████████████████████████████████████                                                                                                | 32/100 [00:34<01:12,  1.06s/it]"
     ]
    },
    {
     "name": "stdout",
     "output_type": "stream",
     "text": [
      "24h: Only 32.0% (90% CL) can lie above our limiting magnitude.\n"
     ]
    },
    {
     "name": "stderr",
     "output_type": "stream",
     "text": [
      " 33%|██████████████████████████████████████████████▌                                                                                              | 33/100 [00:35<01:10,  1.06s/it]"
     ]
    },
    {
     "name": "stdout",
     "output_type": "stream",
     "text": [
      "24h: Only 32.6% (90% CL) can lie above our limiting magnitude.\n"
     ]
    },
    {
     "name": "stderr",
     "output_type": "stream",
     "text": [
      " 34%|███████████████████████████████████████████████▉                                                                                             | 34/100 [00:36<01:10,  1.06s/it]"
     ]
    },
    {
     "name": "stdout",
     "output_type": "stream",
     "text": [
      "24h: Only 28.1% (90% CL) can lie above our limiting magnitude.\n"
     ]
    },
    {
     "name": "stderr",
     "output_type": "stream",
     "text": [
      " 35%|█████████████████████████████████████████████████▎                                                                                           | 35/100 [00:37<01:08,  1.06s/it]"
     ]
    },
    {
     "name": "stdout",
     "output_type": "stream",
     "text": [
      "24h: Only 25.6% (90% CL) can lie above our limiting magnitude.\n"
     ]
    },
    {
     "name": "stderr",
     "output_type": "stream",
     "text": [
      " 36%|██████████████████████████████████████████████████▊                                                                                          | 36/100 [00:38<01:08,  1.06s/it]"
     ]
    },
    {
     "name": "stdout",
     "output_type": "stream",
     "text": [
      "24h: Only 43.1% (90% CL) can lie above our limiting magnitude.\n"
     ]
    },
    {
     "name": "stderr",
     "output_type": "stream",
     "text": [
      " 37%|████████████████████████████████████████████████████▏                                                                                        | 37/100 [00:39<01:06,  1.05s/it]"
     ]
    },
    {
     "name": "stdout",
     "output_type": "stream",
     "text": [
      "24h: Only 35.2% (90% CL) can lie above our limiting magnitude.\n"
     ]
    },
    {
     "name": "stderr",
     "output_type": "stream",
     "text": [
      " 38%|█████████████████████████████████████████████████████▌                                                                                       | 38/100 [00:40<01:05,  1.06s/it]"
     ]
    },
    {
     "name": "stdout",
     "output_type": "stream",
     "text": [
      "24h: Only 34.6% (90% CL) can lie above our limiting magnitude.\n"
     ]
    },
    {
     "name": "stderr",
     "output_type": "stream",
     "text": [
      " 39%|██████████████████████████████████████████████████████▉                                                                                      | 39/100 [00:41<01:04,  1.05s/it]"
     ]
    },
    {
     "name": "stdout",
     "output_type": "stream",
     "text": [
      "24h: Only 30.6% (90% CL) can lie above our limiting magnitude.\n"
     ]
    },
    {
     "name": "stderr",
     "output_type": "stream",
     "text": [
      " 40%|████████████████████████████████████████████████████████▍                                                                                    | 40/100 [00:42<01:03,  1.06s/it]"
     ]
    },
    {
     "name": "stdout",
     "output_type": "stream",
     "text": [
      "24h: Only 26.0% (90% CL) can lie above our limiting magnitude.\n"
     ]
    },
    {
     "name": "stderr",
     "output_type": "stream",
     "text": [
      " 41%|█████████████████████████████████████████████████████████▊                                                                                   | 41/100 [00:43<01:03,  1.07s/it]"
     ]
    },
    {
     "name": "stdout",
     "output_type": "stream",
     "text": [
      "24h: Only 30.0% (90% CL) can lie above our limiting magnitude.\n"
     ]
    },
    {
     "name": "stderr",
     "output_type": "stream",
     "text": [
      " 42%|███████████████████████████████████████████████████████████▏                                                                                 | 42/100 [00:44<01:02,  1.08s/it]"
     ]
    },
    {
     "name": "stdout",
     "output_type": "stream",
     "text": [
      "24h: Only 27.1% (90% CL) can lie above our limiting magnitude.\n"
     ]
    },
    {
     "name": "stderr",
     "output_type": "stream",
     "text": [
      " 43%|████████████████████████████████████████████████████████████▋                                                                                | 43/100 [00:45<01:01,  1.07s/it]"
     ]
    },
    {
     "name": "stdout",
     "output_type": "stream",
     "text": [
      "24h: Only 29.6% (90% CL) can lie above our limiting magnitude.\n"
     ]
    },
    {
     "name": "stderr",
     "output_type": "stream",
     "text": [
      " 44%|██████████████████████████████████████████████████████████████                                                                               | 44/100 [00:47<01:00,  1.07s/it]"
     ]
    },
    {
     "name": "stdout",
     "output_type": "stream",
     "text": [
      "24h: Only 26.5% (90% CL) can lie above our limiting magnitude.\n"
     ]
    },
    {
     "name": "stderr",
     "output_type": "stream",
     "text": [
      " 45%|███████████████████████████████████████████████████████████████▍                                                                             | 45/100 [00:48<00:58,  1.06s/it]"
     ]
    },
    {
     "name": "stdout",
     "output_type": "stream",
     "text": [
      "24h: Only 37.7% (90% CL) can lie above our limiting magnitude.\n"
     ]
    },
    {
     "name": "stderr",
     "output_type": "stream",
     "text": [
      " 46%|████████████████████████████████████████████████████████████████▊                                                                            | 46/100 [00:49<00:57,  1.07s/it]"
     ]
    },
    {
     "name": "stdout",
     "output_type": "stream",
     "text": [
      "24h: Only 33.2% (90% CL) can lie above our limiting magnitude.\n"
     ]
    },
    {
     "name": "stderr",
     "output_type": "stream",
     "text": [
      " 47%|██████████████████████████████████████████████████████████████████▎                                                                          | 47/100 [00:50<00:56,  1.07s/it]"
     ]
    },
    {
     "name": "stdout",
     "output_type": "stream",
     "text": [
      "24h: Only 30.1% (90% CL) can lie above our limiting magnitude.\n"
     ]
    },
    {
     "name": "stderr",
     "output_type": "stream",
     "text": [
      " 48%|███████████████████████████████████████████████████████████████████▋                                                                         | 48/100 [00:51<00:55,  1.06s/it]"
     ]
    },
    {
     "name": "stdout",
     "output_type": "stream",
     "text": [
      "24h: Only 34.4% (90% CL) can lie above our limiting magnitude.\n"
     ]
    },
    {
     "name": "stderr",
     "output_type": "stream",
     "text": [
      " 49%|█████████████████████████████████████████████████████████████████████                                                                        | 49/100 [00:52<00:54,  1.07s/it]"
     ]
    },
    {
     "name": "stdout",
     "output_type": "stream",
     "text": [
      "24h: Only 29.4% (90% CL) can lie above our limiting magnitude.\n"
     ]
    },
    {
     "name": "stderr",
     "output_type": "stream",
     "text": [
      " 50%|██████████████████████████████████████████████████████████████████████▌                                                                      | 50/100 [00:53<00:52,  1.06s/it]"
     ]
    },
    {
     "name": "stdout",
     "output_type": "stream",
     "text": [
      "24h: Only 29.2% (90% CL) can lie above our limiting magnitude.\n"
     ]
    },
    {
     "name": "stderr",
     "output_type": "stream",
     "text": [
      " 51%|███████████████████████████████████████████████████████████████████████▉                                                                     | 51/100 [00:54<00:52,  1.06s/it]"
     ]
    },
    {
     "name": "stdout",
     "output_type": "stream",
     "text": [
      "24h: Only 35.0% (90% CL) can lie above our limiting magnitude.\n"
     ]
    },
    {
     "name": "stderr",
     "output_type": "stream",
     "text": [
      " 52%|█████████████████████████████████████████████████████████████████████████▎                                                                   | 52/100 [00:55<00:51,  1.07s/it]"
     ]
    },
    {
     "name": "stdout",
     "output_type": "stream",
     "text": [
      "24h: Only 34.7% (90% CL) can lie above our limiting magnitude.\n"
     ]
    },
    {
     "name": "stderr",
     "output_type": "stream",
     "text": [
      " 53%|██████████████████████████████████████████████████████████████████████████▋                                                                  | 53/100 [00:56<00:50,  1.07s/it]"
     ]
    },
    {
     "name": "stdout",
     "output_type": "stream",
     "text": [
      "24h: Only 25.5% (90% CL) can lie above our limiting magnitude.\n"
     ]
    },
    {
     "name": "stderr",
     "output_type": "stream",
     "text": [
      " 54%|████████████████████████████████████████████████████████████████████████████▏                                                                | 54/100 [00:57<00:48,  1.06s/it]"
     ]
    },
    {
     "name": "stdout",
     "output_type": "stream",
     "text": [
      "24h: Only 30.9% (90% CL) can lie above our limiting magnitude.\n"
     ]
    },
    {
     "name": "stderr",
     "output_type": "stream",
     "text": [
      " 55%|█████████████████████████████████████████████████████████████████████████████▌                                                               | 55/100 [00:58<00:47,  1.07s/it]"
     ]
    },
    {
     "name": "stdout",
     "output_type": "stream",
     "text": [
      "24h: Only 28.2% (90% CL) can lie above our limiting magnitude.\n"
     ]
    },
    {
     "name": "stderr",
     "output_type": "stream",
     "text": [
      " 56%|██████████████████████████████████████████████████████████████████████████████▉                                                              | 56/100 [00:59<00:46,  1.06s/it]"
     ]
    },
    {
     "name": "stdout",
     "output_type": "stream",
     "text": [
      "24h: Only 29.8% (90% CL) can lie above our limiting magnitude.\n"
     ]
    },
    {
     "name": "stderr",
     "output_type": "stream",
     "text": [
      " 57%|████████████████████████████████████████████████████████████████████████████████▎                                                            | 57/100 [01:00<00:45,  1.06s/it]"
     ]
    },
    {
     "name": "stdout",
     "output_type": "stream",
     "text": [
      "24h: Only 36.0% (90% CL) can lie above our limiting magnitude.\n"
     ]
    },
    {
     "name": "stderr",
     "output_type": "stream",
     "text": [
      " 58%|█████████████████████████████████████████████████████████████████████████████████▊                                                           | 58/100 [01:01<00:44,  1.07s/it]"
     ]
    },
    {
     "name": "stdout",
     "output_type": "stream",
     "text": [
      "24h: Only 29.8% (90% CL) can lie above our limiting magnitude.\n"
     ]
    },
    {
     "name": "stderr",
     "output_type": "stream",
     "text": [
      " 59%|███████████████████████████████████████████████████████████████████████████████████▏                                                         | 59/100 [01:02<00:43,  1.07s/it]"
     ]
    },
    {
     "name": "stdout",
     "output_type": "stream",
     "text": [
      "24h: Only 31.1% (90% CL) can lie above our limiting magnitude.\n"
     ]
    },
    {
     "name": "stderr",
     "output_type": "stream",
     "text": [
      " 60%|████████████████████████████████████████████████████████████████████████████████████▌                                                        | 60/100 [01:04<00:42,  1.06s/it]"
     ]
    },
    {
     "name": "stdout",
     "output_type": "stream",
     "text": [
      "24h: Only 28.1% (90% CL) can lie above our limiting magnitude.\n"
     ]
    },
    {
     "name": "stderr",
     "output_type": "stream",
     "text": [
      " 61%|██████████████████████████████████████████████████████████████████████████████████████                                                       | 61/100 [01:05<00:41,  1.06s/it]"
     ]
    },
    {
     "name": "stdout",
     "output_type": "stream",
     "text": [
      "24h: Only 25.8% (90% CL) can lie above our limiting magnitude.\n"
     ]
    },
    {
     "name": "stderr",
     "output_type": "stream",
     "text": [
      " 62%|███████████████████████████████████████████████████████████████████████████████████████▍                                                     | 62/100 [01:06<00:40,  1.06s/it]"
     ]
    },
    {
     "name": "stdout",
     "output_type": "stream",
     "text": [
      "24h: Only 32.4% (90% CL) can lie above our limiting magnitude.\n"
     ]
    },
    {
     "name": "stderr",
     "output_type": "stream",
     "text": [
      " 63%|████████████████████████████████████████████████████████████████████████████████████████▊                                                    | 63/100 [01:07<00:39,  1.06s/it]"
     ]
    },
    {
     "name": "stdout",
     "output_type": "stream",
     "text": [
      "24h: Only 35.6% (90% CL) can lie above our limiting magnitude.\n"
     ]
    },
    {
     "name": "stderr",
     "output_type": "stream",
     "text": [
      " 64%|██████████████████████████████████████████████████████████████████████████████████████████▏                                                  | 64/100 [01:08<00:37,  1.05s/it]"
     ]
    },
    {
     "name": "stdout",
     "output_type": "stream",
     "text": [
      "24h: Only 32.0% (90% CL) can lie above our limiting magnitude.\n"
     ]
    },
    {
     "name": "stderr",
     "output_type": "stream",
     "text": [
      " 65%|███████████████████████████████████████████████████████████████████████████████████████████▋                                                 | 65/100 [01:09<00:37,  1.06s/it]"
     ]
    },
    {
     "name": "stdout",
     "output_type": "stream",
     "text": [
      "24h: Only 34.7% (90% CL) can lie above our limiting magnitude.\n"
     ]
    },
    {
     "name": "stderr",
     "output_type": "stream",
     "text": [
      " 66%|█████████████████████████████████████████████████████████████████████████████████████████████                                                | 66/100 [01:10<00:36,  1.06s/it]"
     ]
    },
    {
     "name": "stdout",
     "output_type": "stream",
     "text": [
      "24h: Only 30.8% (90% CL) can lie above our limiting magnitude.\n"
     ]
    },
    {
     "name": "stderr",
     "output_type": "stream",
     "text": [
      " 67%|██████████████████████████████████████████████████████████████████████████████████████████████▍                                              | 67/100 [01:11<00:35,  1.06s/it]"
     ]
    },
    {
     "name": "stdout",
     "output_type": "stream",
     "text": [
      "24h: Only 27.7% (90% CL) can lie above our limiting magnitude.\n"
     ]
    },
    {
     "name": "stderr",
     "output_type": "stream",
     "text": [
      " 68%|███████████████████████████████████████████████████████████████████████████████████████████████▉                                             | 68/100 [01:12<00:34,  1.07s/it]"
     ]
    },
    {
     "name": "stdout",
     "output_type": "stream",
     "text": [
      "24h: Only 26.2% (90% CL) can lie above our limiting magnitude.\n"
     ]
    },
    {
     "name": "stderr",
     "output_type": "stream",
     "text": [
      " 69%|█████████████████████████████████████████████████████████████████████████████████████████████████▎                                           | 69/100 [01:13<00:33,  1.07s/it]"
     ]
    },
    {
     "name": "stdout",
     "output_type": "stream",
     "text": [
      "24h: Only 30.8% (90% CL) can lie above our limiting magnitude.\n"
     ]
    },
    {
     "name": "stderr",
     "output_type": "stream",
     "text": [
      " 70%|██████████████████████████████████████████████████████████████████████████████████████████████████▋                                          | 70/100 [01:14<00:31,  1.06s/it]"
     ]
    },
    {
     "name": "stdout",
     "output_type": "stream",
     "text": [
      "24h: Only 31.1% (90% CL) can lie above our limiting magnitude.\n"
     ]
    },
    {
     "name": "stderr",
     "output_type": "stream",
     "text": [
      " 71%|████████████████████████████████████████████████████████████████████████████████████████████████████                                         | 71/100 [01:15<00:30,  1.07s/it]"
     ]
    },
    {
     "name": "stdout",
     "output_type": "stream",
     "text": [
      "24h: Only 28.1% (90% CL) can lie above our limiting magnitude.\n"
     ]
    },
    {
     "name": "stderr",
     "output_type": "stream",
     "text": [
      " 72%|█████████████████████████████████████████████████████████████████████████████████████████████████████▌                                       | 72/100 [01:16<00:29,  1.06s/it]"
     ]
    },
    {
     "name": "stdout",
     "output_type": "stream",
     "text": [
      "24h: Only 30.6% (90% CL) can lie above our limiting magnitude.\n"
     ]
    },
    {
     "name": "stderr",
     "output_type": "stream",
     "text": [
      " 73%|██████████████████████████████████████████████████████████████████████████████████████████████████████▉                                      | 73/100 [01:17<00:28,  1.07s/it]"
     ]
    },
    {
     "name": "stdout",
     "output_type": "stream",
     "text": [
      "24h: Only 27.9% (90% CL) can lie above our limiting magnitude.\n"
     ]
    },
    {
     "name": "stderr",
     "output_type": "stream",
     "text": [
      " 74%|████████████████████████████████████████████████████████████████████████████████████████████████████████▎                                    | 74/100 [01:18<00:27,  1.07s/it]"
     ]
    },
    {
     "name": "stdout",
     "output_type": "stream",
     "text": [
      "24h: Only 24.3% (90% CL) can lie above our limiting magnitude.\n"
     ]
    },
    {
     "name": "stderr",
     "output_type": "stream",
     "text": [
      " 75%|█████████████████████████████████████████████████████████████████████████████████████████████████████████▊                                   | 75/100 [01:20<00:26,  1.08s/it]"
     ]
    },
    {
     "name": "stdout",
     "output_type": "stream",
     "text": [
      "24h: Only 29.9% (90% CL) can lie above our limiting magnitude.\n"
     ]
    },
    {
     "name": "stderr",
     "output_type": "stream",
     "text": [
      " 76%|███████████████████████████████████████████████████████████████████████████████████████████████████████████▏                                 | 76/100 [01:21<00:25,  1.07s/it]"
     ]
    },
    {
     "name": "stdout",
     "output_type": "stream",
     "text": [
      "24h: Only 28.5% (90% CL) can lie above our limiting magnitude.\n"
     ]
    },
    {
     "name": "stderr",
     "output_type": "stream",
     "text": [
      " 77%|████████████████████████████████████████████████████████████████████████████████████████████████████████████▌                                | 77/100 [01:22<00:24,  1.07s/it]"
     ]
    },
    {
     "name": "stdout",
     "output_type": "stream",
     "text": [
      "24h: Only 33.4% (90% CL) can lie above our limiting magnitude.\n"
     ]
    },
    {
     "name": "stderr",
     "output_type": "stream",
     "text": [
      " 78%|█████████████████████████████████████████████████████████████████████████████████████████████████████████████▉                               | 78/100 [01:23<00:23,  1.06s/it]"
     ]
    },
    {
     "name": "stdout",
     "output_type": "stream",
     "text": [
      "24h: Only 30.0% (90% CL) can lie above our limiting magnitude.\n"
     ]
    },
    {
     "name": "stderr",
     "output_type": "stream",
     "text": [
      " 79%|███████████████████████████████████████████████████████████████████████████████████████████████████████████████▍                             | 79/100 [01:24<00:22,  1.06s/it]"
     ]
    },
    {
     "name": "stdout",
     "output_type": "stream",
     "text": [
      "24h: Only 34.1% (90% CL) can lie above our limiting magnitude.\n"
     ]
    },
    {
     "name": "stderr",
     "output_type": "stream",
     "text": [
      " 80%|████████████████████████████████████████████████████████████████████████████████████████████████████████████████▊                            | 80/100 [01:25<00:21,  1.06s/it]"
     ]
    },
    {
     "name": "stdout",
     "output_type": "stream",
     "text": [
      "24h: Only 30.1% (90% CL) can lie above our limiting magnitude.\n"
     ]
    },
    {
     "name": "stderr",
     "output_type": "stream",
     "text": [
      " 81%|██████████████████████████████████████████████████████████████████████████████████████████████████████████████████▏                          | 81/100 [01:26<00:20,  1.06s/it]"
     ]
    },
    {
     "name": "stdout",
     "output_type": "stream",
     "text": [
      "24h: Only 22.1% (90% CL) can lie above our limiting magnitude.\n"
     ]
    },
    {
     "name": "stderr",
     "output_type": "stream",
     "text": [
      " 82%|███████████████████████████████████████████████████████████████████████████████████████████████████████████████████▌                         | 82/100 [01:27<00:19,  1.06s/it]"
     ]
    },
    {
     "name": "stdout",
     "output_type": "stream",
     "text": [
      "24h: Only 32.5% (90% CL) can lie above our limiting magnitude.\n"
     ]
    },
    {
     "name": "stderr",
     "output_type": "stream",
     "text": [
      " 83%|█████████████████████████████████████████████████████████████████████████████████████████████████████████████████████                        | 83/100 [01:28<00:18,  1.07s/it]"
     ]
    },
    {
     "name": "stdout",
     "output_type": "stream",
     "text": [
      "24h: Only 32.9% (90% CL) can lie above our limiting magnitude.\n"
     ]
    },
    {
     "name": "stderr",
     "output_type": "stream",
     "text": [
      " 84%|██████████████████████████████████████████████████████████████████████████████████████████████████████████████████████▍                      | 84/100 [01:29<00:17,  1.07s/it]"
     ]
    },
    {
     "name": "stdout",
     "output_type": "stream",
     "text": [
      "24h: Only 30.2% (90% CL) can lie above our limiting magnitude.\n"
     ]
    },
    {
     "name": "stderr",
     "output_type": "stream",
     "text": [
      " 85%|███████████████████████████████████████████████████████████████████████████████████████████████████████████████████████▊                     | 85/100 [01:30<00:16,  1.07s/it]"
     ]
    },
    {
     "name": "stdout",
     "output_type": "stream",
     "text": [
      "24h: Only 32.6% (90% CL) can lie above our limiting magnitude.\n"
     ]
    },
    {
     "name": "stderr",
     "output_type": "stream",
     "text": [
      " 86%|█████████████████████████████████████████████████████████████████████████████████████████████████████████████████████████▎                   | 86/100 [01:31<00:14,  1.06s/it]"
     ]
    },
    {
     "name": "stdout",
     "output_type": "stream",
     "text": [
      "24h: Only 28.7% (90% CL) can lie above our limiting magnitude.\n"
     ]
    },
    {
     "name": "stderr",
     "output_type": "stream",
     "text": [
      " 87%|██████████████████████████████████████████████████████████████████████████████████████████████████████████████████████████▋                  | 87/100 [01:32<00:13,  1.07s/it]"
     ]
    },
    {
     "name": "stdout",
     "output_type": "stream",
     "text": [
      "24h: Only 38.6% (90% CL) can lie above our limiting magnitude.\n"
     ]
    },
    {
     "name": "stderr",
     "output_type": "stream",
     "text": [
      " 88%|████████████████████████████████████████████████████████████████████████████████████████████████████████████████████████████                 | 88/100 [01:33<00:12,  1.06s/it]"
     ]
    },
    {
     "name": "stdout",
     "output_type": "stream",
     "text": [
      "24h: Only 34.0% (90% CL) can lie above our limiting magnitude.\n"
     ]
    },
    {
     "name": "stderr",
     "output_type": "stream",
     "text": [
      " 89%|█████████████████████████████████████████████████████████████████████████████████████████████████████████████████████████████▍               | 89/100 [01:34<00:11,  1.06s/it]"
     ]
    },
    {
     "name": "stdout",
     "output_type": "stream",
     "text": [
      "24h: Only 29.0% (90% CL) can lie above our limiting magnitude.\n"
     ]
    },
    {
     "name": "stderr",
     "output_type": "stream",
     "text": [
      " 90%|██████████████████████████████████████████████████████████████████████████████████████████████████████████████████████████████▉              | 90/100 [01:35<00:10,  1.06s/it]"
     ]
    },
    {
     "name": "stdout",
     "output_type": "stream",
     "text": [
      "24h: Only 29.2% (90% CL) can lie above our limiting magnitude.\n"
     ]
    },
    {
     "name": "stderr",
     "output_type": "stream",
     "text": [
      " 91%|████████████████████████████████████████████████████████████████████████████████████████████████████████████████████████████████▎            | 91/100 [01:36<00:09,  1.06s/it]"
     ]
    },
    {
     "name": "stdout",
     "output_type": "stream",
     "text": [
      "24h: Only 32.1% (90% CL) can lie above our limiting magnitude.\n"
     ]
    },
    {
     "name": "stderr",
     "output_type": "stream",
     "text": [
      " 92%|█████████████████████████████████████████████████████████████████████████████████████████████████████████████████████████████████▋           | 92/100 [01:38<00:08,  1.05s/it]"
     ]
    },
    {
     "name": "stdout",
     "output_type": "stream",
     "text": [
      "24h: Only 26.2% (90% CL) can lie above our limiting magnitude.\n"
     ]
    },
    {
     "name": "stderr",
     "output_type": "stream",
     "text": [
      " 93%|███████████████████████████████████████████████████████████████████████████████████████████████████████████████████████████████████▏         | 93/100 [01:39<00:07,  1.06s/it]"
     ]
    },
    {
     "name": "stdout",
     "output_type": "stream",
     "text": [
      "24h: Only 26.8% (90% CL) can lie above our limiting magnitude.\n"
     ]
    },
    {
     "name": "stderr",
     "output_type": "stream",
     "text": [
      " 94%|████████████████████████████████████████████████████████████████████████████████████████████████████████████████████████████████████▌        | 94/100 [01:40<00:06,  1.05s/it]"
     ]
    },
    {
     "name": "stdout",
     "output_type": "stream",
     "text": [
      "24h: Only 35.6% (90% CL) can lie above our limiting magnitude.\n"
     ]
    },
    {
     "name": "stderr",
     "output_type": "stream",
     "text": [
      " 95%|█████████████████████████████████████████████████████████████████████████████████████████████████████████████████████████████████████▉       | 95/100 [01:41<00:05,  1.06s/it]"
     ]
    },
    {
     "name": "stdout",
     "output_type": "stream",
     "text": [
      "24h: Only 25.6% (90% CL) can lie above our limiting magnitude.\n"
     ]
    },
    {
     "name": "stderr",
     "output_type": "stream",
     "text": [
      " 96%|███████████████████████████████████████████████████████████████████████████████████████████████████████████████████████████████████████▎     | 96/100 [01:42<00:04,  1.05s/it]"
     ]
    },
    {
     "name": "stdout",
     "output_type": "stream",
     "text": [
      "24h: Only 27.0% (90% CL) can lie above our limiting magnitude.\n"
     ]
    },
    {
     "name": "stderr",
     "output_type": "stream",
     "text": [
      " 97%|████████████████████████████████████████████████████████████████████████████████████████████████████████████████████████████████████████▊    | 97/100 [01:43<00:03,  1.06s/it]"
     ]
    },
    {
     "name": "stdout",
     "output_type": "stream",
     "text": [
      "24h: Only 48.1% (90% CL) can lie above our limiting magnitude.\n"
     ]
    },
    {
     "name": "stderr",
     "output_type": "stream",
     "text": [
      " 98%|██████████████████████████████████████████████████████████████████████████████████████████████████████████████████████████████████████████▏  | 98/100 [01:44<00:02,  1.06s/it]"
     ]
    },
    {
     "name": "stdout",
     "output_type": "stream",
     "text": [
      "24h: Only 35.7% (90% CL) can lie above our limiting magnitude.\n"
     ]
    },
    {
     "name": "stderr",
     "output_type": "stream",
     "text": [
      " 99%|███████████████████████████████████████████████████████████████████████████████████████████████████████████████████████████████████████████▌ | 99/100 [01:45<00:01,  1.07s/it]"
     ]
    },
    {
     "name": "stdout",
     "output_type": "stream",
     "text": [
      "24h: Only 41.3% (90% CL) can lie above our limiting magnitude.\n"
     ]
    },
    {
     "name": "stderr",
     "output_type": "stream",
     "text": [
      "100%|████████████████████████████████████████████████████████████████████████████████████████████████████████████████████████████████████████████| 100/100 [01:46<00:00,  1.07s/it]\n"
     ]
    },
    {
     "name": "stdout",
     "output_type": "stream",
     "text": [
      "24h: Only 31.1% (90% CL) can lie above our limiting magnitude.\n",
      "---------- All-Sky LSST -----------\n"
     ]
    },
    {
     "name": "stderr",
     "output_type": "stream",
     "text": [
      "  2%|██▊                                                                                                                                           | 2/100 [00:04<03:29,  2.14s/it]"
     ]
    },
    {
     "name": "stdout",
     "output_type": "stream",
     "text": [
      "24h: Only 15.3% (90% CL) can lie above our limiting magnitude.\n",
      "24h: Only 15.3% (90% CL) can lie above our limiting magnitude.\n"
     ]
    },
    {
     "name": "stderr",
     "output_type": "stream",
     "text": [
      "  4%|█████▋                                                                                                                                        | 4/100 [00:08<03:27,  2.16s/it]"
     ]
    },
    {
     "name": "stdout",
     "output_type": "stream",
     "text": [
      "24h: Only 15.3% (90% CL) can lie above our limiting magnitude.\n",
      "24h: Only 15.3% (90% CL) can lie above our limiting magnitude.\n"
     ]
    },
    {
     "name": "stderr",
     "output_type": "stream",
     "text": [
      "  6%|████████▌                                                                                                                                     | 6/100 [00:13<03:24,  2.18s/it]"
     ]
    },
    {
     "name": "stdout",
     "output_type": "stream",
     "text": [
      "24h: Only 15.3% (90% CL) can lie above our limiting magnitude.\n",
      "24h: Only 15.3% (90% CL) can lie above our limiting magnitude.\n"
     ]
    },
    {
     "name": "stderr",
     "output_type": "stream",
     "text": [
      "  8%|███████████▎                                                                                                                                  | 8/100 [00:17<03:17,  2.15s/it]"
     ]
    },
    {
     "name": "stdout",
     "output_type": "stream",
     "text": [
      "24h: Only 15.3% (90% CL) can lie above our limiting magnitude.\n",
      "24h: Only 15.3% (90% CL) can lie above our limiting magnitude.\n"
     ]
    },
    {
     "name": "stderr",
     "output_type": "stream",
     "text": [
      " 10%|██████████████                                                                                                                               | 10/100 [00:21<03:14,  2.16s/it]"
     ]
    },
    {
     "name": "stdout",
     "output_type": "stream",
     "text": [
      "24h: Only 15.3% (90% CL) can lie above our limiting magnitude.\n",
      "24h: Only 15.3% (90% CL) can lie above our limiting magnitude.\n"
     ]
    },
    {
     "name": "stderr",
     "output_type": "stream",
     "text": [
      " 12%|████████████████▉                                                                                                                            | 12/100 [00:25<03:10,  2.16s/it]"
     ]
    },
    {
     "name": "stdout",
     "output_type": "stream",
     "text": [
      "24h: Only 15.3% (90% CL) can lie above our limiting magnitude.\n",
      "24h: Only 15.3% (90% CL) can lie above our limiting magnitude.\n"
     ]
    },
    {
     "name": "stderr",
     "output_type": "stream",
     "text": [
      " 13%|██████████████████▎                                                                                                                          | 13/100 [00:28<03:09,  2.18s/it]"
     ]
    },
    {
     "name": "stdout",
     "output_type": "stream",
     "text": [
      "24h: Only 15.3% (90% CL) can lie above our limiting magnitude.\n"
     ]
    },
    {
     "name": "stderr",
     "output_type": "stream",
     "text": [
      " 15%|█████████████████████▏                                                                                                                       | 15/100 [00:32<03:04,  2.17s/it]"
     ]
    },
    {
     "name": "stdout",
     "output_type": "stream",
     "text": [
      "24h: Only 15.3% (90% CL) can lie above our limiting magnitude.\n",
      "24h: Only 15.3% (90% CL) can lie above our limiting magnitude.\n"
     ]
    },
    {
     "name": "stderr",
     "output_type": "stream",
     "text": [
      " 18%|█████████████████████████▍                                                                                                                   | 18/100 [00:38<02:57,  2.17s/it]"
     ]
    },
    {
     "name": "stdout",
     "output_type": "stream",
     "text": [
      "24h: Only 15.3% (90% CL) can lie above our limiting magnitude.\n",
      "24h: Only 15.3% (90% CL) can lie above our limiting magnitude.\n",
      "24h: Only 15.3% (90% CL) can lie above our limiting magnitude.\n"
     ]
    },
    {
     "name": "stderr",
     "output_type": "stream",
     "text": [
      " 20%|████████████████████████████▏                                                                                                                | 20/100 [00:43<02:54,  2.18s/it]"
     ]
    },
    {
     "name": "stdout",
     "output_type": "stream",
     "text": [
      "24h: Only 15.3% (90% CL) can lie above our limiting magnitude.\n",
      "24h: Only 15.3% (90% CL) can lie above our limiting magnitude.\n"
     ]
    },
    {
     "name": "stderr",
     "output_type": "stream",
     "text": [
      " 22%|███████████████████████████████                                                                                                              | 22/100 [00:47<02:47,  2.15s/it]"
     ]
    },
    {
     "name": "stdout",
     "output_type": "stream",
     "text": [
      "24h: Only 15.3% (90% CL) can lie above our limiting magnitude.\n",
      "24h: Only 15.3% (90% CL) can lie above our limiting magnitude.\n"
     ]
    },
    {
     "name": "stderr",
     "output_type": "stream",
     "text": [
      " 24%|█████████████████████████████████▊                                                                                                           | 24/100 [00:51<02:44,  2.17s/it]"
     ]
    },
    {
     "name": "stdout",
     "output_type": "stream",
     "text": [
      "24h: Only 15.3% (90% CL) can lie above our limiting magnitude.\n",
      "24h: Only 15.3% (90% CL) can lie above our limiting magnitude.\n"
     ]
    },
    {
     "name": "stderr",
     "output_type": "stream",
     "text": [
      " 26%|████████████████████████████████████▋                                                                                                        | 26/100 [00:56<02:39,  2.16s/it]"
     ]
    },
    {
     "name": "stdout",
     "output_type": "stream",
     "text": [
      "24h: Only 15.3% (90% CL) can lie above our limiting magnitude.\n",
      "24h: Only 15.3% (90% CL) can lie above our limiting magnitude.\n"
     ]
    },
    {
     "name": "stderr",
     "output_type": "stream",
     "text": [
      " 28%|███████████████████████████████████████▍                                                                                                     | 28/100 [01:00<02:36,  2.18s/it]"
     ]
    },
    {
     "name": "stdout",
     "output_type": "stream",
     "text": [
      "24h: Only 15.3% (90% CL) can lie above our limiting magnitude.\n",
      "24h: Only 15.3% (90% CL) can lie above our limiting magnitude.\n"
     ]
    },
    {
     "name": "stderr",
     "output_type": "stream",
     "text": [
      " 30%|██████████████████████████████████████████▎                                                                                                  | 30/100 [01:04<02:30,  2.16s/it]"
     ]
    },
    {
     "name": "stdout",
     "output_type": "stream",
     "text": [
      "24h: Only 15.3% (90% CL) can lie above our limiting magnitude.\n",
      "24h: Only 15.3% (90% CL) can lie above our limiting magnitude.\n"
     ]
    },
    {
     "name": "stderr",
     "output_type": "stream",
     "text": [
      " 31%|███████████████████████████████████████████▋                                                                                                 | 31/100 [01:06<02:27,  2.13s/it]"
     ]
    },
    {
     "name": "stdout",
     "output_type": "stream",
     "text": [
      "24h: Only 15.3% (90% CL) can lie above our limiting magnitude.\n"
     ]
    },
    {
     "name": "stderr",
     "output_type": "stream",
     "text": [
      " 34%|███████████████████████████████████████████████▉                                                                                             | 34/100 [01:13<02:21,  2.14s/it]"
     ]
    },
    {
     "name": "stdout",
     "output_type": "stream",
     "text": [
      "24h: Only 15.3% (90% CL) can lie above our limiting magnitude.\n",
      "24h: Only 15.3% (90% CL) can lie above our limiting magnitude.\n",
      "24h: Only 15.3% (90% CL) can lie above our limiting magnitude.\n"
     ]
    },
    {
     "name": "stderr",
     "output_type": "stream",
     "text": [
      " 35%|█████████████████████████████████████████████████▎                                                                                           | 35/100 [01:15<02:21,  2.17s/it]"
     ]
    },
    {
     "name": "stdout",
     "output_type": "stream",
     "text": [
      "24h: Only 15.3% (90% CL) can lie above our limiting magnitude.\n"
     ]
    },
    {
     "name": "stderr",
     "output_type": "stream",
     "text": [
      " 36%|██████████████████████████████████████████████████▊                                                                                          | 36/100 [01:17<02:19,  2.19s/it]"
     ]
    },
    {
     "name": "stdout",
     "output_type": "stream",
     "text": [
      "24h: Only 15.3% (90% CL) can lie above our limiting magnitude.\n"
     ]
    },
    {
     "name": "stderr",
     "output_type": "stream",
     "text": [
      " 37%|████████████████████████████████████████████████████▏                                                                                        | 37/100 [01:20<02:17,  2.18s/it]"
     ]
    },
    {
     "name": "stdout",
     "output_type": "stream",
     "text": [
      "24h: Only 15.3% (90% CL) can lie above our limiting magnitude.\n"
     ]
    },
    {
     "name": "stderr",
     "output_type": "stream",
     "text": [
      " 39%|██████████████████████████████████████████████████████▉                                                                                      | 39/100 [01:24<02:12,  2.18s/it]"
     ]
    },
    {
     "name": "stdout",
     "output_type": "stream",
     "text": [
      "24h: Only 15.3% (90% CL) can lie above our limiting magnitude.\n",
      "24h: Only 15.3% (90% CL) can lie above our limiting magnitude.\n"
     ]
    },
    {
     "name": "stderr",
     "output_type": "stream",
     "text": [
      " 41%|█████████████████████████████████████████████████████████▊                                                                                   | 41/100 [01:28<02:07,  2.16s/it]"
     ]
    },
    {
     "name": "stdout",
     "output_type": "stream",
     "text": [
      "24h: Only 15.3% (90% CL) can lie above our limiting magnitude.\n",
      "24h: Only 15.3% (90% CL) can lie above our limiting magnitude.\n"
     ]
    },
    {
     "name": "stderr",
     "output_type": "stream",
     "text": [
      " 42%|███████████████████████████████████████████████████████████▏                                                                                 | 42/100 [01:30<02:06,  2.18s/it]"
     ]
    },
    {
     "name": "stdout",
     "output_type": "stream",
     "text": [
      "24h: Only 15.3% (90% CL) can lie above our limiting magnitude.\n"
     ]
    },
    {
     "name": "stderr",
     "output_type": "stream",
     "text": [
      " 43%|████████████████████████████████████████████████████████████▋                                                                                | 43/100 [01:33<02:04,  2.18s/it]"
     ]
    },
    {
     "name": "stdout",
     "output_type": "stream",
     "text": [
      "24h: Only 15.3% (90% CL) can lie above our limiting magnitude.\n"
     ]
    },
    {
     "name": "stderr",
     "output_type": "stream",
     "text": [
      " 44%|██████████████████████████████████████████████████████████████                                                                               | 44/100 [01:35<02:01,  2.18s/it]"
     ]
    },
    {
     "name": "stdout",
     "output_type": "stream",
     "text": [
      "24h: Only 15.3% (90% CL) can lie above our limiting magnitude.\n"
     ]
    },
    {
     "name": "stderr",
     "output_type": "stream",
     "text": [
      " 45%|███████████████████████████████████████████████████████████████▍                                                                             | 45/100 [01:37<01:58,  2.16s/it]"
     ]
    },
    {
     "name": "stdout",
     "output_type": "stream",
     "text": [
      "24h: Only 15.3% (90% CL) can lie above our limiting magnitude.\n"
     ]
    },
    {
     "name": "stderr",
     "output_type": "stream",
     "text": [
      " 46%|████████████████████████████████████████████████████████████████▊                                                                            | 46/100 [01:39<01:56,  2.15s/it]"
     ]
    },
    {
     "name": "stdout",
     "output_type": "stream",
     "text": [
      "24h: Only 15.3% (90% CL) can lie above our limiting magnitude.\n"
     ]
    },
    {
     "name": "stderr",
     "output_type": "stream",
     "text": [
      " 47%|██████████████████████████████████████████████████████████████████▎                                                                          | 47/100 [01:41<01:53,  2.14s/it]"
     ]
    },
    {
     "name": "stdout",
     "output_type": "stream",
     "text": [
      "24h: Only 15.3% (90% CL) can lie above our limiting magnitude.\n"
     ]
    },
    {
     "name": "stderr",
     "output_type": "stream",
     "text": [
      " 48%|███████████████████████████████████████████████████████████████████▋                                                                         | 48/100 [01:43<01:51,  2.15s/it]"
     ]
    },
    {
     "name": "stdout",
     "output_type": "stream",
     "text": [
      "24h: Only 15.3% (90% CL) can lie above our limiting magnitude.\n"
     ]
    },
    {
     "name": "stderr",
     "output_type": "stream",
     "text": [
      " 49%|█████████████████████████████████████████████████████████████████████                                                                        | 49/100 [01:45<01:49,  2.16s/it]"
     ]
    },
    {
     "name": "stdout",
     "output_type": "stream",
     "text": [
      "24h: Only 15.3% (90% CL) can lie above our limiting magnitude.\n"
     ]
    },
    {
     "name": "stderr",
     "output_type": "stream",
     "text": [
      " 50%|██████████████████████████████████████████████████████████████████████▌                                                                      | 50/100 [01:48<01:46,  2.13s/it]"
     ]
    },
    {
     "name": "stdout",
     "output_type": "stream",
     "text": [
      "24h: Only 15.3% (90% CL) can lie above our limiting magnitude.\n"
     ]
    },
    {
     "name": "stderr",
     "output_type": "stream",
     "text": [
      " 51%|███████████████████████████████████████████████████████████████████████▉                                                                     | 51/100 [01:50<01:44,  2.14s/it]"
     ]
    },
    {
     "name": "stdout",
     "output_type": "stream",
     "text": [
      "24h: Only 15.3% (90% CL) can lie above our limiting magnitude.\n"
     ]
    },
    {
     "name": "stderr",
     "output_type": "stream",
     "text": [
      " 52%|█████████████████████████████████████████████████████████████████████████▎                                                                   | 52/100 [01:52<01:43,  2.15s/it]"
     ]
    },
    {
     "name": "stdout",
     "output_type": "stream",
     "text": [
      "24h: Only 15.3% (90% CL) can lie above our limiting magnitude.\n"
     ]
    },
    {
     "name": "stderr",
     "output_type": "stream",
     "text": [
      " 53%|██████████████████████████████████████████████████████████████████████████▋                                                                  | 53/100 [01:54<01:40,  2.14s/it]"
     ]
    },
    {
     "name": "stdout",
     "output_type": "stream",
     "text": [
      "24h: Only 15.3% (90% CL) can lie above our limiting magnitude.\n"
     ]
    },
    {
     "name": "stderr",
     "output_type": "stream",
     "text": [
      " 54%|████████████████████████████████████████████████████████████████████████████▏                                                                | 54/100 [01:56<01:38,  2.14s/it]"
     ]
    },
    {
     "name": "stdout",
     "output_type": "stream",
     "text": [
      "24h: Only 15.3% (90% CL) can lie above our limiting magnitude.\n"
     ]
    },
    {
     "name": "stderr",
     "output_type": "stream",
     "text": [
      " 55%|█████████████████████████████████████████████████████████████████████████████▌                                                               | 55/100 [01:58<01:35,  2.13s/it]"
     ]
    },
    {
     "name": "stdout",
     "output_type": "stream",
     "text": [
      "24h: Only 15.3% (90% CL) can lie above our limiting magnitude.\n"
     ]
    },
    {
     "name": "stderr",
     "output_type": "stream",
     "text": [
      " 56%|██████████████████████████████████████████████████████████████████████████████▉                                                              | 56/100 [02:00<01:34,  2.14s/it]"
     ]
    },
    {
     "name": "stdout",
     "output_type": "stream",
     "text": [
      "24h: Only 15.3% (90% CL) can lie above our limiting magnitude.\n"
     ]
    },
    {
     "name": "stderr",
     "output_type": "stream",
     "text": [
      " 57%|████████████████████████████████████████████████████████████████████████████████▎                                                            | 57/100 [02:02<01:31,  2.12s/it]"
     ]
    },
    {
     "name": "stdout",
     "output_type": "stream",
     "text": [
      "24h: Only 15.3% (90% CL) can lie above our limiting magnitude.\n"
     ]
    },
    {
     "name": "stderr",
     "output_type": "stream",
     "text": [
      " 58%|█████████████████████████████████████████████████████████████████████████████████▊                                                           | 58/100 [02:05<01:29,  2.13s/it]"
     ]
    },
    {
     "name": "stdout",
     "output_type": "stream",
     "text": [
      "24h: Only 15.3% (90% CL) can lie above our limiting magnitude.\n"
     ]
    },
    {
     "name": "stderr",
     "output_type": "stream",
     "text": [
      " 59%|███████████████████████████████████████████████████████████████████████████████████▏                                                         | 59/100 [02:07<01:27,  2.13s/it]"
     ]
    },
    {
     "name": "stdout",
     "output_type": "stream",
     "text": [
      "24h: Only 15.3% (90% CL) can lie above our limiting magnitude.\n"
     ]
    },
    {
     "name": "stderr",
     "output_type": "stream",
     "text": [
      " 60%|████████████████████████████████████████████████████████████████████████████████████▌                                                        | 60/100 [02:09<01:24,  2.12s/it]"
     ]
    },
    {
     "name": "stdout",
     "output_type": "stream",
     "text": [
      "24h: Only 15.3% (90% CL) can lie above our limiting magnitude.\n"
     ]
    },
    {
     "name": "stderr",
     "output_type": "stream",
     "text": [
      " 61%|██████████████████████████████████████████████████████████████████████████████████████                                                       | 61/100 [02:11<01:23,  2.14s/it]"
     ]
    },
    {
     "name": "stdout",
     "output_type": "stream",
     "text": [
      "24h: Only 15.3% (90% CL) can lie above our limiting magnitude.\n"
     ]
    },
    {
     "name": "stderr",
     "output_type": "stream",
     "text": [
      " 62%|███████████████████████████████████████████████████████████████████████████████████████▍                                                     | 62/100 [02:13<01:20,  2.13s/it]"
     ]
    },
    {
     "name": "stdout",
     "output_type": "stream",
     "text": [
      "24h: Only 15.3% (90% CL) can lie above our limiting magnitude.\n"
     ]
    },
    {
     "name": "stderr",
     "output_type": "stream",
     "text": [
      " 63%|████████████████████████████████████████████████████████████████████████████████████████▊                                                    | 63/100 [02:15<01:18,  2.13s/it]"
     ]
    },
    {
     "name": "stdout",
     "output_type": "stream",
     "text": [
      "24h: Only 15.3% (90% CL) can lie above our limiting magnitude.\n"
     ]
    },
    {
     "name": "stderr",
     "output_type": "stream",
     "text": [
      " 64%|██████████████████████████████████████████████████████████████████████████████████████████▏                                                  | 64/100 [02:17<01:16,  2.13s/it]"
     ]
    },
    {
     "name": "stdout",
     "output_type": "stream",
     "text": [
      "24h: Only 15.3% (90% CL) can lie above our limiting magnitude.\n"
     ]
    },
    {
     "name": "stderr",
     "output_type": "stream",
     "text": [
      " 65%|███████████████████████████████████████████████████████████████████████████████████████████▋                                                 | 65/100 [02:19<01:14,  2.12s/it]"
     ]
    },
    {
     "name": "stdout",
     "output_type": "stream",
     "text": [
      "24h: Only 15.3% (90% CL) can lie above our limiting magnitude.\n"
     ]
    },
    {
     "name": "stderr",
     "output_type": "stream",
     "text": [
      " 67%|██████████████████████████████████████████████████████████████████████████████████████████████▍                                              | 67/100 [02:24<01:10,  2.13s/it]"
     ]
    },
    {
     "name": "stdout",
     "output_type": "stream",
     "text": [
      "24h: Only 15.3% (90% CL) can lie above our limiting magnitude.\n",
      "24h: Only 15.3% (90% CL) can lie above our limiting magnitude.\n"
     ]
    },
    {
     "name": "stderr",
     "output_type": "stream",
     "text": [
      " 69%|█████████████████████████████████████████████████████████████████████████████████████████████████▎                                           | 69/100 [02:28<01:06,  2.14s/it]"
     ]
    },
    {
     "name": "stdout",
     "output_type": "stream",
     "text": [
      "24h: Only 15.3% (90% CL) can lie above our limiting magnitude.\n",
      "24h: Only 15.3% (90% CL) can lie above our limiting magnitude.\n"
     ]
    },
    {
     "name": "stderr",
     "output_type": "stream",
     "text": [
      " 70%|██████████████████████████████████████████████████████████████████████████████████████████████████▋                                          | 70/100 [02:30<01:04,  2.14s/it]"
     ]
    },
    {
     "name": "stdout",
     "output_type": "stream",
     "text": [
      "24h: Only 15.3% (90% CL) can lie above our limiting magnitude.\n"
     ]
    },
    {
     "name": "stderr",
     "output_type": "stream",
     "text": [
      " 73%|██████████████████████████████████████████████████████████████████████████████████████████████████████▉                                      | 73/100 [02:37<00:58,  2.17s/it]"
     ]
    },
    {
     "name": "stdout",
     "output_type": "stream",
     "text": [
      "24h: Only 15.3% (90% CL) can lie above our limiting magnitude.\n",
      "24h: Only 15.3% (90% CL) can lie above our limiting magnitude.\n",
      "24h: Only 15.3% (90% CL) can lie above our limiting magnitude.\n"
     ]
    },
    {
     "name": "stderr",
     "output_type": "stream",
     "text": [
      " 75%|█████████████████████████████████████████████████████████████████████████████████████████████████████████▊                                   | 75/100 [02:41<00:53,  2.16s/it]"
     ]
    },
    {
     "name": "stdout",
     "output_type": "stream",
     "text": [
      "24h: Only 15.3% (90% CL) can lie above our limiting magnitude.\n",
      "24h: Only 15.3% (90% CL) can lie above our limiting magnitude.\n"
     ]
    },
    {
     "name": "stderr",
     "output_type": "stream",
     "text": [
      " 77%|████████████████████████████████████████████████████████████████████████████████████████████████████████████▌                                | 77/100 [02:45<00:49,  2.15s/it]"
     ]
    },
    {
     "name": "stdout",
     "output_type": "stream",
     "text": [
      "24h: Only 15.3% (90% CL) can lie above our limiting magnitude.\n",
      "24h: Only 15.3% (90% CL) can lie above our limiting magnitude.\n"
     ]
    },
    {
     "name": "stderr",
     "output_type": "stream",
     "text": [
      " 79%|███████████████████████████████████████████████████████████████████████████████████████████████████████████████▍                             | 79/100 [02:50<00:44,  2.14s/it]"
     ]
    },
    {
     "name": "stdout",
     "output_type": "stream",
     "text": [
      "24h: Only 15.3% (90% CL) can lie above our limiting magnitude.\n",
      "24h: Only 15.3% (90% CL) can lie above our limiting magnitude.\n"
     ]
    },
    {
     "name": "stderr",
     "output_type": "stream",
     "text": [
      " 81%|██████████████████████████████████████████████████████████████████████████████████████████████████████████████████▏                          | 81/100 [02:54<00:40,  2.14s/it]"
     ]
    },
    {
     "name": "stdout",
     "output_type": "stream",
     "text": [
      "24h: Only 15.3% (90% CL) can lie above our limiting magnitude.\n",
      "24h: Only 15.3% (90% CL) can lie above our limiting magnitude.\n"
     ]
    },
    {
     "name": "stderr",
     "output_type": "stream",
     "text": [
      " 83%|█████████████████████████████████████████████████████████████████████████████████████████████████████████████████████                        | 83/100 [02:58<00:36,  2.12s/it]"
     ]
    },
    {
     "name": "stdout",
     "output_type": "stream",
     "text": [
      "24h: Only 15.3% (90% CL) can lie above our limiting magnitude.\n",
      "24h: Only 15.3% (90% CL) can lie above our limiting magnitude.\n"
     ]
    },
    {
     "name": "stderr",
     "output_type": "stream",
     "text": [
      " 85%|███████████████████████████████████████████████████████████████████████████████████████████████████████████████████████▊                     | 85/100 [03:02<00:32,  2.15s/it]"
     ]
    },
    {
     "name": "stdout",
     "output_type": "stream",
     "text": [
      "24h: Only 15.3% (90% CL) can lie above our limiting magnitude.\n",
      "24h: Only 15.3% (90% CL) can lie above our limiting magnitude.\n"
     ]
    },
    {
     "name": "stderr",
     "output_type": "stream",
     "text": [
      " 87%|██████████████████████████████████████████████████████████████████████████████████████████████████████████████████████████▋                  | 87/100 [03:07<00:27,  2.14s/it]"
     ]
    },
    {
     "name": "stdout",
     "output_type": "stream",
     "text": [
      "24h: Only 15.3% (90% CL) can lie above our limiting magnitude.\n",
      "24h: Only 15.3% (90% CL) can lie above our limiting magnitude.\n"
     ]
    },
    {
     "name": "stderr",
     "output_type": "stream",
     "text": [
      " 89%|█████████████████████████████████████████████████████████████████████████████████████████████████████████████████████████████▍               | 89/100 [03:11<00:23,  2.15s/it]"
     ]
    },
    {
     "name": "stdout",
     "output_type": "stream",
     "text": [
      "24h: Only 15.3% (90% CL) can lie above our limiting magnitude.\n",
      "24h: Only 15.3% (90% CL) can lie above our limiting magnitude.\n"
     ]
    },
    {
     "name": "stderr",
     "output_type": "stream",
     "text": [
      " 90%|██████████████████████████████████████████████████████████████████████████████████████████████████████████████████████████████▉              | 90/100 [03:13<00:21,  2.13s/it]"
     ]
    },
    {
     "name": "stdout",
     "output_type": "stream",
     "text": [
      "24h: Only 15.3% (90% CL) can lie above our limiting magnitude.\n"
     ]
    },
    {
     "name": "stderr",
     "output_type": "stream",
     "text": [
      " 91%|████████████████████████████████████████████████████████████████████████████████████████████████████████████████████████████████▎            | 91/100 [03:16<00:19,  2.21s/it]"
     ]
    },
    {
     "name": "stdout",
     "output_type": "stream",
     "text": [
      "24h: Only 15.3% (90% CL) can lie above our limiting magnitude.\n"
     ]
    },
    {
     "name": "stderr",
     "output_type": "stream",
     "text": [
      " 92%|█████████████████████████████████████████████████████████████████████████████████████████████████████████████████████████████████▋           | 92/100 [03:18<00:18,  2.26s/it]"
     ]
    },
    {
     "name": "stdout",
     "output_type": "stream",
     "text": [
      "24h: Only 15.3% (90% CL) can lie above our limiting magnitude.\n"
     ]
    },
    {
     "name": "stderr",
     "output_type": "stream",
     "text": [
      " 94%|████████████████████████████████████████████████████████████████████████████████████████████████████████████████████████████████████▌        | 94/100 [03:22<00:13,  2.21s/it]"
     ]
    },
    {
     "name": "stdout",
     "output_type": "stream",
     "text": [
      "24h: Only 15.3% (90% CL) can lie above our limiting magnitude.\n",
      "24h: Only 15.3% (90% CL) can lie above our limiting magnitude.\n"
     ]
    },
    {
     "name": "stderr",
     "output_type": "stream",
     "text": [
      " 95%|█████████████████████████████████████████████████████████████████████████████████████████████████████████████████████████████████████▉       | 95/100 [03:26<00:10,  2.17s/it]"
     ]
    },
    {
     "name": "stdout",
     "output_type": "stream",
     "text": [
      "24h: Only 15.3% (90% CL) can lie above our limiting magnitude.\n"
     ]
    },
    {
     "name": "stderr",
     "output_type": "stream",
     "text": [
      "\n"
     ]
    },
    {
     "ename": "KeyboardInterrupt",
     "evalue": "",
     "output_type": "error",
     "traceback": [
      "\u001b[0;31m---------------------------------------------------------------------------\u001b[0m",
      "\u001b[0;31mKeyboardInterrupt\u001b[0m                         Traceback (most recent call last)",
      "Input \u001b[0;32mIn [151]\u001b[0m, in \u001b[0;36m<module>\u001b[0;34m\u001b[0m\n\u001b[1;32m     22\u001b[0m     \u001b[38;5;28;01mreturn\u001b[39;00m P\n\u001b[1;32m     24\u001b[0m fs \u001b[38;5;241m=\u001b[39m np\u001b[38;5;241m.\u001b[39mlinspace(\u001b[38;5;241m0\u001b[39m, \u001b[38;5;241m1\u001b[39m, \u001b[38;5;241m1000\u001b[39m)\n\u001b[0;32m---> 25\u001b[0m Ps \u001b[38;5;241m=\u001b[39m {t: [P_det(f, t) \u001b[38;5;28;01mfor\u001b[39;00m f \u001b[38;5;129;01min\u001b[39;00m fs] \u001b[38;5;28;01mfor\u001b[39;00m t \u001b[38;5;129;01min\u001b[39;00m ts}\n\u001b[1;32m     27\u001b[0m inverse_pdet \u001b[38;5;241m=\u001b[39m {t: interp1d(iPs, fs) \u001b[38;5;28;01mfor\u001b[39;00m t, iPs \u001b[38;5;129;01min\u001b[39;00m Ps\u001b[38;5;241m.\u001b[39mitems()}\n\u001b[1;32m     29\u001b[0m cl \u001b[38;5;241m=\u001b[39m \u001b[38;5;241m0.9\u001b[39m\n",
      "Input \u001b[0;32mIn [151]\u001b[0m, in \u001b[0;36m<dictcomp>\u001b[0;34m(.0)\u001b[0m\n\u001b[1;32m     22\u001b[0m     \u001b[38;5;28;01mreturn\u001b[39;00m P\n\u001b[1;32m     24\u001b[0m fs \u001b[38;5;241m=\u001b[39m np\u001b[38;5;241m.\u001b[39mlinspace(\u001b[38;5;241m0\u001b[39m, \u001b[38;5;241m1\u001b[39m, \u001b[38;5;241m1000\u001b[39m)\n\u001b[0;32m---> 25\u001b[0m Ps \u001b[38;5;241m=\u001b[39m {t: [P_det(f, t) \u001b[38;5;28;01mfor\u001b[39;00m f \u001b[38;5;129;01min\u001b[39;00m fs] \u001b[38;5;28;01mfor\u001b[39;00m t \u001b[38;5;129;01min\u001b[39;00m ts}\n\u001b[1;32m     27\u001b[0m inverse_pdet \u001b[38;5;241m=\u001b[39m {t: interp1d(iPs, fs) \u001b[38;5;28;01mfor\u001b[39;00m t, iPs \u001b[38;5;129;01min\u001b[39;00m Ps\u001b[38;5;241m.\u001b[39mitems()}\n\u001b[1;32m     29\u001b[0m cl \u001b[38;5;241m=\u001b[39m \u001b[38;5;241m0.9\u001b[39m\n",
      "Input \u001b[0;32mIn [151]\u001b[0m, in \u001b[0;36m<listcomp>\u001b[0;34m(.0)\u001b[0m\n\u001b[1;32m     22\u001b[0m     \u001b[38;5;28;01mreturn\u001b[39;00m P\n\u001b[1;32m     24\u001b[0m fs \u001b[38;5;241m=\u001b[39m np\u001b[38;5;241m.\u001b[39mlinspace(\u001b[38;5;241m0\u001b[39m, \u001b[38;5;241m1\u001b[39m, \u001b[38;5;241m1000\u001b[39m)\n\u001b[0;32m---> 25\u001b[0m Ps \u001b[38;5;241m=\u001b[39m {t: [\u001b[43mP_det\u001b[49m\u001b[43m(\u001b[49m\u001b[43mf\u001b[49m\u001b[43m,\u001b[49m\u001b[43m \u001b[49m\u001b[43mt\u001b[49m\u001b[43m)\u001b[49m \u001b[38;5;28;01mfor\u001b[39;00m f \u001b[38;5;129;01min\u001b[39;00m fs] \u001b[38;5;28;01mfor\u001b[39;00m t \u001b[38;5;129;01min\u001b[39;00m ts}\n\u001b[1;32m     27\u001b[0m inverse_pdet \u001b[38;5;241m=\u001b[39m {t: interp1d(iPs, fs) \u001b[38;5;28;01mfor\u001b[39;00m t, iPs \u001b[38;5;129;01min\u001b[39;00m Ps\u001b[38;5;241m.\u001b[39mitems()}\n\u001b[1;32m     29\u001b[0m cl \u001b[38;5;241m=\u001b[39m \u001b[38;5;241m0.9\u001b[39m\n",
      "Input \u001b[0;32mIn [151]\u001b[0m, in \u001b[0;36mP_det\u001b[0;34m(f, t)\u001b[0m\n\u001b[1;32m     16\u001b[0m \u001b[38;5;28;01mdef\u001b[39;00m \u001b[38;5;21mP_det\u001b[39m(f, t):\n\u001b[1;32m     17\u001b[0m     P \u001b[38;5;241m=\u001b[39m \u001b[38;5;241m1\u001b[39m\n\u001b[0;32m---> 18\u001b[0m     \u001b[38;5;28;01mfor\u001b[39;00m i, r \u001b[38;5;129;01min\u001b[39;00m sample\u001b[38;5;241m.\u001b[39miterrows():\n\u001b[1;32m     19\u001b[0m         \u001b[38;5;28;01mif\u001b[39;00m r\u001b[38;5;241m.\u001b[39mEvent \u001b[38;5;241m==\u001b[39m \u001b[38;5;124m'\u001b[39m\u001b[38;5;124mIC160731A\u001b[39m\u001b[38;5;124m'\u001b[39m \u001b[38;5;129;01mand\u001b[39;00m r\u001b[38;5;241m.\u001b[39mClass \u001b[38;5;241m==\u001b[39m \u001b[38;5;124m'\u001b[39m\u001b[38;5;124mHESE\u001b[39m\u001b[38;5;124m'\u001b[39m:\n\u001b[1;32m     20\u001b[0m             \u001b[38;5;28;01mcontinue\u001b[39;00m\n",
      "File \u001b[0;32m/lustre/fs23/group/icecube/necker/anaconda3/envs/followup_stats/lib/python3.10/site-packages/pandas/core/frame.py:1324\u001b[0m, in \u001b[0;36mDataFrame.iterrows\u001b[0;34m(self)\u001b[0m\n\u001b[1;32m   1322\u001b[0m klass \u001b[38;5;241m=\u001b[39m \u001b[38;5;28mself\u001b[39m\u001b[38;5;241m.\u001b[39m_constructor_sliced\n\u001b[1;32m   1323\u001b[0m \u001b[38;5;28;01mfor\u001b[39;00m k, v \u001b[38;5;129;01min\u001b[39;00m \u001b[38;5;28mzip\u001b[39m(\u001b[38;5;28mself\u001b[39m\u001b[38;5;241m.\u001b[39mindex, \u001b[38;5;28mself\u001b[39m\u001b[38;5;241m.\u001b[39mvalues):\n\u001b[0;32m-> 1324\u001b[0m     s \u001b[38;5;241m=\u001b[39m \u001b[43mklass\u001b[49m\u001b[43m(\u001b[49m\u001b[43mv\u001b[49m\u001b[43m,\u001b[49m\u001b[43m \u001b[49m\u001b[43mindex\u001b[49m\u001b[38;5;241;43m=\u001b[39;49m\u001b[43mcolumns\u001b[49m\u001b[43m,\u001b[49m\u001b[43m \u001b[49m\u001b[43mname\u001b[49m\u001b[38;5;241;43m=\u001b[39;49m\u001b[43mk\u001b[49m\u001b[43m)\u001b[49m\n\u001b[1;32m   1325\u001b[0m     \u001b[38;5;28;01myield\u001b[39;00m k, s\n",
      "File \u001b[0;32m/lustre/fs23/group/icecube/necker/anaconda3/envs/followup_stats/lib/python3.10/site-packages/pandas/core/series.py:455\u001b[0m, in \u001b[0;36mSeries.__init__\u001b[0;34m(self, data, index, dtype, name, copy, fastpath)\u001b[0m\n\u001b[1;32m    453\u001b[0m manager \u001b[38;5;241m=\u001b[39m get_option(\u001b[38;5;124m\"\u001b[39m\u001b[38;5;124mmode.data_manager\u001b[39m\u001b[38;5;124m\"\u001b[39m)\n\u001b[1;32m    454\u001b[0m \u001b[38;5;28;01mif\u001b[39;00m manager \u001b[38;5;241m==\u001b[39m \u001b[38;5;124m\"\u001b[39m\u001b[38;5;124mblock\u001b[39m\u001b[38;5;124m\"\u001b[39m:\n\u001b[0;32m--> 455\u001b[0m     data \u001b[38;5;241m=\u001b[39m \u001b[43mSingleBlockManager\u001b[49m\u001b[38;5;241;43m.\u001b[39;49m\u001b[43mfrom_array\u001b[49m\u001b[43m(\u001b[49m\u001b[43mdata\u001b[49m\u001b[43m,\u001b[49m\u001b[43m \u001b[49m\u001b[43mindex\u001b[49m\u001b[43m)\u001b[49m\n\u001b[1;32m    456\u001b[0m \u001b[38;5;28;01melif\u001b[39;00m manager \u001b[38;5;241m==\u001b[39m \u001b[38;5;124m\"\u001b[39m\u001b[38;5;124marray\u001b[39m\u001b[38;5;124m\"\u001b[39m:\n\u001b[1;32m    457\u001b[0m     data \u001b[38;5;241m=\u001b[39m SingleArrayManager\u001b[38;5;241m.\u001b[39mfrom_array(data, index)\n",
      "File \u001b[0;32m/lustre/fs23/group/icecube/necker/anaconda3/envs/followup_stats/lib/python3.10/site-packages/pandas/core/internals/managers.py:1736\u001b[0m, in \u001b[0;36mSingleBlockManager.from_array\u001b[0;34m(cls, array, index)\u001b[0m\n\u001b[1;32m   1731\u001b[0m \u001b[38;5;129m@classmethod\u001b[39m\n\u001b[1;32m   1732\u001b[0m \u001b[38;5;28;01mdef\u001b[39;00m \u001b[38;5;21mfrom_array\u001b[39m(\u001b[38;5;28mcls\u001b[39m, array: ArrayLike, index: Index) \u001b[38;5;241m-\u001b[39m\u001b[38;5;241m>\u001b[39m SingleBlockManager:\n\u001b[1;32m   1733\u001b[0m     \u001b[38;5;124;03m\"\"\"\u001b[39;00m\n\u001b[1;32m   1734\u001b[0m \u001b[38;5;124;03m    Constructor for if we have an array that is not yet a Block.\u001b[39;00m\n\u001b[1;32m   1735\u001b[0m \u001b[38;5;124;03m    \"\"\"\u001b[39;00m\n\u001b[0;32m-> 1736\u001b[0m     block \u001b[38;5;241m=\u001b[39m \u001b[43mnew_block\u001b[49m\u001b[43m(\u001b[49m\u001b[43marray\u001b[49m\u001b[43m,\u001b[49m\u001b[43m \u001b[49m\u001b[43mplacement\u001b[49m\u001b[38;5;241;43m=\u001b[39;49m\u001b[38;5;28;43mslice\u001b[39;49m\u001b[43m(\u001b[49m\u001b[38;5;241;43m0\u001b[39;49m\u001b[43m,\u001b[49m\u001b[43m \u001b[49m\u001b[38;5;28;43mlen\u001b[39;49m\u001b[43m(\u001b[49m\u001b[43mindex\u001b[49m\u001b[43m)\u001b[49m\u001b[43m)\u001b[49m\u001b[43m,\u001b[49m\u001b[43m \u001b[49m\u001b[43mndim\u001b[49m\u001b[38;5;241;43m=\u001b[39;49m\u001b[38;5;241;43m1\u001b[39;49m\u001b[43m)\u001b[49m\n\u001b[1;32m   1737\u001b[0m     \u001b[38;5;28;01mreturn\u001b[39;00m \u001b[38;5;28mcls\u001b[39m(block, index)\n",
      "File \u001b[0;32m/lustre/fs23/group/icecube/necker/anaconda3/envs/followup_stats/lib/python3.10/site-packages/pandas/core/internals/blocks.py:2029\u001b[0m, in \u001b[0;36mnew_block\u001b[0;34m(values, placement, ndim)\u001b[0m\n\u001b[1;32m   2025\u001b[0m \u001b[38;5;28;01mdef\u001b[39;00m \u001b[38;5;21mnew_block\u001b[39m(values, placement, \u001b[38;5;241m*\u001b[39m, ndim: \u001b[38;5;28mint\u001b[39m) \u001b[38;5;241m-\u001b[39m\u001b[38;5;241m>\u001b[39m Block:\n\u001b[1;32m   2026\u001b[0m     \u001b[38;5;66;03m# caller is responsible for ensuring values is NOT a PandasArray\u001b[39;00m\n\u001b[1;32m   2028\u001b[0m     \u001b[38;5;28;01mif\u001b[39;00m \u001b[38;5;129;01mnot\u001b[39;00m \u001b[38;5;28misinstance\u001b[39m(placement, BlockPlacement):\n\u001b[0;32m-> 2029\u001b[0m         placement \u001b[38;5;241m=\u001b[39m \u001b[43mBlockPlacement\u001b[49m\u001b[43m(\u001b[49m\u001b[43mplacement\u001b[49m\u001b[43m)\u001b[49m\n\u001b[1;32m   2031\u001b[0m     check_ndim(values, placement, ndim)\n\u001b[1;32m   2033\u001b[0m     klass \u001b[38;5;241m=\u001b[39m get_block_type(values\u001b[38;5;241m.\u001b[39mdtype)\n",
      "\u001b[0;31mKeyboardInterrupt\u001b[0m: "
     ]
    }
   ],
   "source": [
    "uls = dict()\n",
    "ts = ['24h']\n",
    "Ntrials = 100\n",
    "\n",
    "\n",
    "for inst, info in instruments.items():\n",
    "    \n",
    "    print(f'---------- {inst} -----------')\n",
    "    \n",
    "    ul_samples = list()\n",
    "    \n",
    "    for i in tqdm.tqdm(range(Ntrials)):\n",
    "        \n",
    "        sample = observed.sample(frac=info[0])\n",
    "\n",
    "        def P_det(f, t):\n",
    "            P = 1\n",
    "            for i, r in sample.iterrows():\n",
    "                if r.Event == 'IC160731A' and r.Class == 'HESE':\n",
    "                    continue\n",
    "                P *= 1 - r.Signalness * r[f'{t} coverage']/100 * f\n",
    "            return P\n",
    "\n",
    "        fs = np.linspace(0, 1, 1000)\n",
    "        Ps = {t: [P_det(f, t) for f in fs] for t in ts}\n",
    "\n",
    "        inverse_pdet = {t: interp1d(iPs, fs) for t, iPs in Ps.items()}\n",
    "\n",
    "        cl = 0.9\n",
    "        pval = 1-cl\n",
    "\n",
    "        ul_sample = {t: ip(pval) for t, ip in inverse_pdet.items()} \n",
    "        for t, iul in ul_sample.items():\n",
    "            print(f'{t}: Only {iul*100:.1f}% ({cl*100:.0f}% CL) can lie above our limiting magnitude.')\n",
    "            \n",
    "        \"\"\"\n",
    "        for t, iPs in Ps.items():\n",
    "            fig, ax = plt.subplots()#figsize=(base_width, base_height), dpi=dpi)\n",
    "            ax.plot(fs, iPs, color='k')\n",
    "            plt.axhline(pval)\n",
    "            plt.axvline(ul_sample[t])\n",
    "            # plt.yscale('log')\n",
    "            ax.set_xlim((0, 1))\n",
    "            ax.set_title(t)\n",
    "            plt.show()\n",
    "            plt.close()\n",
    "        \"\"\"\n",
    "            \n",
    "        ul_samples.append(ul_sample)\n",
    "            \n",
    "    ul = {t: np.median([ul_sample[t] for ul_sample in ul_samples])\n",
    "         for t in ts}\n",
    "        \n",
    "    uls[inst] = ul"
   ]
  },
  {
   "cell_type": "code",
   "execution_count": 153,
   "id": "1a8078d0-0771-4ddf-81ed-d125784cbc23",
   "metadata": {},
   "outputs": [
    {
     "data": {
      "text/plain": [
       "{'ZTF': [(-30, 90), 20.8, '#984ea3', '-.'],\n",
       " 'LSST': [(-90, 5), 25, '#a65628', '--'],\n",
       " 'All-Sky LSST': [(-90, 90), 25, '#999999', ':']}"
      ]
     },
     "execution_count": 153,
     "metadata": {},
     "output_type": "execute_result"
    }
   ],
   "source": [
    "full_sky_sqd = 41252.961\n",
    "# the list elements: declination range, completeness magnitude, color, linestyle\n",
    "instruments = {\n",
    "    'ZTF': [(-30, 90), 20.8, CB_color_cycle[5], \"-.\"],\n",
    "    'LSST': [(-90, 5), 25, CB_color_cycle[4], \"--\"],\n",
    "    'All-Sky LSST': [(-90, 90), 25, CB_color_cycle[6], \":\"]\n",
    "}\n",
    "instruments"
   ]
  },
  {
   "cell_type": "code",
   "execution_count": 179,
   "id": "41d86b6a-df66-4c69-b740-0e613b5bd63f",
   "metadata": {
    "scrolled": true,
    "tags": []
   },
   "outputs": [
    {
     "name": "stdout",
     "output_type": "stream",
     "text": [
      "---------- ZTF -----------\n",
      "70 alerts used\n",
      "median coverage 38.0 %\n",
      "24h: Only 13.5% (90% CL) can lie above our limiting magnitude.\n",
      "---------- LSST -----------\n",
      "31 alerts used\n",
      "median coverage 19.25 %\n",
      "24h: Only 21.6% (90% CL) can lie above our limiting magnitude.\n",
      "---------- All-Sky LSST -----------\n",
      "74 alerts used\n",
      "median coverage 36.2 %\n",
      "24h: Only 14.2% (90% CL) can lie above our limiting magnitude.\n"
     ]
    }
   ],
   "source": [
    "uls = dict()\n",
    "ts = ['24h']\n",
    "\n",
    "\n",
    "for inst, info in instruments.items():\n",
    "    \n",
    "    print(f'---------- {inst} -----------')\n",
    "        \n",
    "    sample = use_alerts[(use_alerts.Dec > min(info[0])) & (use_alerts.Dec < max(info[0]))]\n",
    "    print(len(sample), 'alerts used')\n",
    "    median_coverage = np.median(sample[f\"{t} coverage\"][~np.isnan(sample[f\"{t} coverage\"])])\n",
    "    print('median coverage', median_coverage, '%')\n",
    "\n",
    "    def P_det(f, t):\n",
    "        P = 1\n",
    "        for i, r in sample.iterrows():\n",
    "            if r.Event == 'IC160731A' and r.Class == 'HESE':\n",
    "                continue\n",
    "            P *= 1 - r.Signalness * median_coverage * f\n",
    "        return P\n",
    "\n",
    "    fs = np.linspace(0, 1, 1000)\n",
    "    Ps = {t: [P_det(f, t) for f in fs] for t in ts}\n",
    "\n",
    "    inverse_pdet = {t: interp1d(iPs, fs) for t, iPs in Ps.items()}\n",
    "\n",
    "    cl = 0.9\n",
    "    pval = 1-cl\n",
    "\n",
    "    ul_sample = {t: ip(pval) for t, ip in inverse_pdet.items()} \n",
    "    for t, iul in ul_sample.items():\n",
    "        print(f'{t}: Only {iul*100:.1f}% ({cl*100:.0f}% CL) can lie above our limiting magnitude.')\n",
    "\n",
    "    uls[inst] = ul_sample\n",
    "    \"\"\"\n",
    "    for t, iPs in Ps.items():\n",
    "        fig, ax = plt.subplots()#figsize=(base_width, base_height), dpi=dpi)\n",
    "        ax.plot(fs, iPs, color='k')\n",
    "        plt.axhline(pval)\n",
    "        plt.axvline(ul_sample[t])\n",
    "        # plt.yscale('log')\n",
    "        ax.set_xlim((0, 1))\n",
    "        ax.set_title(t)\n",
    "        plt.show()\n",
    "        plt.close()\n",
    "    \"\"\""
   ]
  },
  {
   "cell_type": "code",
   "execution_count": 180,
   "id": "5cc84396-0c28-4e3b-9f42-883ed758a32b",
   "metadata": {},
   "outputs": [
    {
     "data": {
      "text/plain": [
       "{'ZTF': {'24h': array(0.13512409)},\n",
       " 'LSST': {'24h': array(0.21584351)},\n",
       " 'All-Sky LSST': {'24h': array(0.14178064)},\n",
       " 'ASAS-SN': {'1h': array(0.59235191),\n",
       "  '2h': array(0.39285012),\n",
       "  '4h': array(0.34533338),\n",
       "  '24h': array(0.15301986),\n",
       "  '14d': array(0.10259228)}}"
      ]
     },
     "execution_count": 180,
     "metadata": {},
     "output_type": "execute_result"
    }
   ],
   "source": [
    "with open('data/asassn_ul.pkl', 'rb') as f:\n",
    "    uls['ASAS-SN'] = pickle.load(f)\n",
    "    \n",
    "asassn_comp_mag = 17.5\n",
    "asassn_color = CB_color_cycle[0]\n",
    "uls"
   ]
  },
  {
   "cell_type": "code",
   "execution_count": 194,
   "id": "14ea64e0-5dad-4b37-b163-93cc3618264d",
   "metadata": {},
   "outputs": [
    {
     "name": "stderr",
     "output_type": "stream",
     "text": [
      "/tmp/ipykernel_119236/1050577742.py:26: RuntimeWarning: divide by zero encountered in true_divide\n",
      "  res = d[t]/f(max_dl(abs_mags, compmag))\n"
     ]
    },
    {
     "name": "stdout",
     "output_type": "stream",
     "text": [
      "../figures/future_inst.pdf\n"
     ]
    },
    {
     "data": {
      "image/png": "[encoded data removed]",
      "text/plain": [
       "<Figure size 1200x741.656 with 1 Axes>"
      ]
     },
     "metadata": {
      "needs_background": "light"
     },
     "output_type": "display_data"
    }
   ],
   "source": [
    "f = cdf_mpc[\"GRB\"]\n",
    "\n",
    "fig, ax = plt.subplots(\n",
    "    figsize=(base_width, base_height), \n",
    "    dpi=dpi, \n",
    "    sharey='all',\n",
    "    gridspec_kw={'wspace': 0}\n",
    ")\n",
    "\n",
    "abs_mag = np.linspace(-20, -31, 1000)\n",
    "\n",
    "for inst, d in uls.items():\n",
    "    \n",
    "    if inst == 'ASAS-SN':\n",
    "        compmag = asassn_comp_mag\n",
    "        color = asassn_color\n",
    "        ls = \"-\"\n",
    "        lw = 1.5\n",
    "    else:\n",
    "        compmag = instruments[inst][1]\n",
    "        color = instruments[inst][2]\n",
    "        ls = instruments[inst][3]\n",
    "        lw = 1\n",
    "    \n",
    "    def max_f(abs_mags):\n",
    "        res = d[t]/f(max_dl(abs_mags, compmag))\n",
    "        return res\n",
    "\n",
    "    ax.plot(abs_mag, max_f(abs_mag), label=inst, color=color, ls=ls, lw=lw)\n",
    "    mag_scatter = np.linspace(abs_mag[0], abs_mag[-1], 10)[1:-1]\n",
    "    eb = ax.errorbar(\n",
    "        mag_scatter, \n",
    "        max_f(mag_scatter), \n",
    "        yerr=0.0, \n",
    "        uplims=True, \n",
    "        color=color, \n",
    "        linestyle=\"\",\n",
    "        capsize=0, \n",
    "        mew=1\n",
    "    )\n",
    "    \n",
    "ax.set_xlim((max(abs_mag), min(abs_mag)+1))\n",
    "ax.set_ylim((0, 1))\n",
    "ax.legend()\n",
    "ax.set_xlabel('g-Band Peak Absolute Mag')\n",
    "ax.set_ylabel('$F_{L}$')\n",
    "fig.tight_layout()\n",
    "fn = os.path.join(output_folder, \"future_inst.pdf\")\n",
    "print(fn)\n",
    "fig.savefig(fn)\n",
    "\n",
    "plt.show()"
   ]
  },
  {
   "cell_type": "code",
   "execution_count": null,
   "id": "fb935d8f-7ef7-4f95-b718-5066c99e29f5",
   "metadata": {},
   "outputs": [],
   "source": []
  }
 ],
 "metadata": {
  "kernelspec": {
   "display_name": "Python 3 (ipykernel)",
   "language": "python",
   "name": "python3"
  },
  "language_info": {
   "codemirror_mode": {
    "name": "ipython",
    "version": 3
   },
   "file_extension": ".py",
   "mimetype": "text/x-python",
   "name": "python",
   "nbconvert_exporter": "python",
   "pygments_lexer": "ipython3",
   "version": "3.10.2"
  }
 },
 "nbformat": 4,
 "nbformat_minor": 5
}
