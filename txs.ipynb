{
 "cells": [
  {
   "cell_type": "code",
   "execution_count": 1,
   "id": "183cb119-813c-4bea-a049-eaf03d45ece3",
   "metadata": {
    "pycharm": {
     "name": "#%%\n"
    }
   },
   "outputs": [
    {
     "ename": "ModuleNotFoundError",
     "evalue": "No module named 'astropy'",
     "output_type": "error",
     "traceback": [
      "\u001B[0;31m---------------------------------------------------------------------------\u001B[0m",
      "\u001B[0;31mModuleNotFoundError\u001B[0m                       Traceback (most recent call last)",
      "Input \u001B[0;32mIn [1]\u001B[0m, in \u001B[0;36m<module>\u001B[0;34m\u001B[0m\n\u001B[1;32m      1\u001B[0m \u001B[38;5;28;01mimport\u001B[39;00m \u001B[38;5;21;01mpandas\u001B[39;00m \u001B[38;5;28;01mas\u001B[39;00m \u001B[38;5;21;01mpd\u001B[39;00m\n\u001B[1;32m      2\u001B[0m \u001B[38;5;28;01mimport\u001B[39;00m \u001B[38;5;21;01mmatplotlib\u001B[39;00m \u001B[38;5;28;01mas\u001B[39;00m \u001B[38;5;21;01mplt\u001B[39;00m\n\u001B[0;32m----> 3\u001B[0m \u001B[38;5;28;01mfrom\u001B[39;00m \u001B[38;5;21;01mastropy\u001B[39;00m\u001B[38;5;21;01m.\u001B[39;00m\u001B[38;5;21;01mtime\u001B[39;00m \u001B[38;5;28;01mimport\u001B[39;00m Time\n\u001B[1;32m      4\u001B[0m \u001B[38;5;28;01mfrom\u001B[39;00m \u001B[38;5;21;01mastropy\u001B[39;00m\u001B[38;5;21;01m.\u001B[39;00m\u001B[38;5;21;01mcoordinates\u001B[39;00m \u001B[38;5;28;01mimport\u001B[39;00m SkyCoord, EarthLocation\n\u001B[1;32m      5\u001B[0m \u001B[38;5;28;01mfrom\u001B[39;00m \u001B[38;5;21;01mastropy\u001B[39;00m \u001B[38;5;28;01mimport\u001B[39;00m units \u001B[38;5;28;01mas\u001B[39;00m u\n",
      "\u001B[0;31mModuleNotFoundError\u001B[0m: No module named 'astropy'"
     ]
    }
   ],
   "source": [
    "import pandas as pd\n",
    "import matplotlib as plt\n",
    "from astropy.time import Time\n",
    "from astropy.coordinates import SkyCoord, EarthLocation\n",
    "from astropy import units as u\n",
    "import matplotlib.pyplot as plt\n",
    "import numpy as np\n",
    "import json \n",
    "\n",
    "from alerts import get_alerts"
   ]
  },
  {
   "cell_type": "code",
   "execution_count": 107,
   "id": "b6a71531-97cc-4dce-9396-19e9f5d898a7",
   "metadata": {
    "pycharm": {
     "name": "#%%\n"
    }
   },
   "outputs": [],
   "source": [
    "alerts = get_alerts()"
   ]
  },
  {
   "cell_type": "code",
   "execution_count": 113,
   "id": "4b23d588-df59-4723-bfa7-5af37a5cf0d1",
   "metadata": {
    "pycharm": {
     "name": "#%%\n"
    }
   },
   "outputs": [
    {
     "data": {
      "text/plain": [
       "Index(['Event', 'Class', 'RA', 'RA Unc (rectangle)', 'Dec',\n",
       "       'Dec Unc (rectangle)', 'arrival time [UT]', 'Signalness', 'initial RA',\n",
       "       'initial Dec', 'initial Error90 [arcmin]', 'retracted',\n",
       "       'direction uncertainty missing', 'reason', 'RA Unc (rectangle) float',\n",
       "       'Dec Unc (rectangle) float', '1h coverage', '2h coverage',\n",
       "       '4h coverage', '8h coverage', '12h coverage', '24h coverage',\n",
       "       '2d coverage', '3d coverage', '4d coverage', '5d coverage',\n",
       "       '6d coverage', '7d coverage', '14d coverage', 'observed',\n",
       "       'controll_Event', 'Before', 'After', 'closest_obs', 'closest_obs_side'],\n",
       "      dtype='object')"
      ]
     },
     "execution_count": 113,
     "metadata": {},
     "output_type": "execute_result"
    }
   ],
   "source": [
    "alerts.columns"
   ]
  },
  {
   "cell_type": "code",
   "execution_count": 121,
   "id": "945c2128-8ca4-428b-a79b-28c03733ae0e",
   "metadata": {
    "pycharm": {
     "name": "#%%\n"
    }
   },
   "outputs": [],
   "source": [
    "info = alerts[alerts.Event == \"IC170922A\"].iloc[0][[\n",
    "    'Event', 'RA', 'RA Unc (rectangle)', 'Dec',\n",
    "       'Dec Unc (rectangle)', 'arrival time [UT]', 'Signalness', 'initial RA',\n",
    "       'initial Dec', 'initial Error90 [arcmin]', '1h coverage', '2h coverage',\n",
    "       '4h coverage', '8h coverage', '12h coverage', '24h coverage',\n",
    "       '2d coverage', '3d coverage', '4d coverage', '5d coverage',\n",
    "       '6d coverage', '7d coverage', '14d coverage'\n",
    "]].to_dict()\n",
    "\n",
    "with open(\"data/ic170922a_info.json\", \"w\") as f:\n",
    "    json.dump(info, f, indent=4)"
   ]
  },
  {
   "cell_type": "code",
   "execution_count": 14,
   "id": "262c2fbb-2a4a-48f2-97a1-b5e00a7a7039",
   "metadata": {
    "pycharm": {
     "name": "#%%\n"
    }
   },
   "outputs": [],
   "source": [
    "r = pd.read_csv(\"data/fermi_matches.csv\", index_col=[0,1,2]).iloc[1]"
   ]
  },
  {
   "cell_type": "code",
   "execution_count": 19,
   "id": "0b1295bc-eecc-4bb5-92b5-d75a7cf815ad",
   "metadata": {
    "pycharm": {
     "name": "#%%\n"
    }
   },
   "outputs": [
    {
     "data": {
      "text/plain": [
       "3FHL Name                     3FHL J0509.4+0542 \n",
       "4FGL Name                     4FGL J0509.4+0542 \n",
       "Fermi ra                                 77.3593\n",
       "Fermi dec                                 5.7014\n",
       "Counterpart         TXS 0506+056                \n",
       "Counterpart ra                         77.358185\n",
       "Counterpart dec                         5.693148\n",
       "Counterpart prob                        0.990185\n",
       "ra                                     77.358185\n",
       "dec                                     5.693148\n",
       "Name: (IC170922A, 4FGL, 0), dtype: object"
      ]
     },
     "execution_count": 19,
     "metadata": {},
     "output_type": "execute_result"
    }
   ],
   "source": [
    "r"
   ]
  },
  {
   "cell_type": "code",
   "execution_count": 3,
   "id": "2403a0b4-c034-47d2-aef0-e034afd0ae0f",
   "metadata": {
    "pycharm": {
     "name": "#%%\n"
    }
   },
   "outputs": [],
   "source": [
    "txs_data = pd.read_csv(\"data/txs.csv\")"
   ]
  },
  {
   "cell_type": "code",
   "execution_count": 15,
   "id": "7854f95f-9780-4f60-a100-c0fd023b7f2f",
   "metadata": {
    "pycharm": {
     "name": "#%%\n"
    }
   },
   "outputs": [],
   "source": [
    "fgl_name = r['4FGL Name']\n",
    "counterpart_name = r['Counterpart']\n",
    "neutrino_name = r.name[0]\n",
    "neutrino_time_pre = r.name[0].strip('A').strip('B').split('IC')[-1]\n",
    "neutrino_mjd = Time(f\"20{neutrino_time_pre[:2]}-{neutrino_time_pre[2:4]}-{neutrino_time_pre[-2:]}\").mjd"
   ]
  },
  {
   "cell_type": "code",
   "execution_count": 38,
   "id": "a0484f1e-2b00-4f41-b2ce-fa5544428be7",
   "metadata": {
    "pycharm": {
     "name": "#%%\n"
    }
   },
   "outputs": [],
   "source": [
    "icecube_loc = EarthLocation(lon=0, lat=-90, height=2450)\n",
    "time_inp = Time(neutrino_mjd, format='mjd', scale='utc', location=icecube_loc)\n",
    "\n",
    "target = SkyCoord(r.ra, r.dec, unit=(u.deg, u.deg), frame='icrs')\n",
    "ltt_helio = time_inp.light_travel_time(target, 'heliocentric')\n",
    "time_inp = Time(time_inp.utc - ltt_helio, format='jd', scale='utc', location=icecube_loc)\n",
    "\n"
   ]
  },
  {
   "cell_type": "code",
   "execution_count": 25,
   "id": "baa35184-6a3f-4ed2-b5be-ea43b97f58b8",
   "metadata": {
    "pycharm": {
     "name": "#%%\n"
    }
   },
   "outputs": [
    {
     "data": {
      "text/plain": [
       "2458018.4988370547"
      ]
     },
     "execution_count": 25,
     "metadata": {},
     "output_type": "execute_result"
    }
   ],
   "source": [
    "time_inp.jd"
   ]
  },
  {
   "cell_type": "code",
   "execution_count": 4,
   "id": "b76c256b-5cda-4e70-9f48-1d87b3de1445",
   "metadata": {
    "pycharm": {
     "name": "#%%\n"
    }
   },
   "outputs": [
    {
     "data": {
      "text/html": [
       "<div>\n",
       "<style scoped>\n",
       "    .dataframe tbody tr th:only-of-type {\n",
       "        vertical-align: middle;\n",
       "    }\n",
       "\n",
       "    .dataframe tbody tr th {\n",
       "        vertical-align: top;\n",
       "    }\n",
       "\n",
       "    .dataframe thead th {\n",
       "        text-align: right;\n",
       "    }\n",
       "</style>\n",
       "<table border=\"1\" class=\"dataframe\">\n",
       "  <thead>\n",
       "    <tr style=\"text-align: right;\">\n",
       "      <th></th>\n",
       "      <th>HJD</th>\n",
       "      <th>UT Date</th>\n",
       "      <th>Camera</th>\n",
       "      <th>FWHM</th>\n",
       "      <th>Limit</th>\n",
       "      <th>mag</th>\n",
       "      <th>mag_err</th>\n",
       "      <th>flux(mJy)</th>\n",
       "      <th>flux_err</th>\n",
       "      <th>Filter</th>\n",
       "    </tr>\n",
       "  </thead>\n",
       "  <tbody>\n",
       "    <tr>\n",
       "      <th>0</th>\n",
       "      <td>2.457676e+06</td>\n",
       "      <td>2016-10-14.4214702</td>\n",
       "      <td>bc</td>\n",
       "      <td>1.53</td>\n",
       "      <td>17.112</td>\n",
       "      <td>16.199</td>\n",
       "      <td>0.094</td>\n",
       "      <td>1.271</td>\n",
       "      <td>0.110</td>\n",
       "      <td>V</td>\n",
       "    </tr>\n",
       "    <tr>\n",
       "      <th>1</th>\n",
       "      <td>2.457679e+06</td>\n",
       "      <td>2016-10-17.4769062</td>\n",
       "      <td>bc</td>\n",
       "      <td>1.63</td>\n",
       "      <td>17.151</td>\n",
       "      <td>&gt;17.151</td>\n",
       "      <td>99.990</td>\n",
       "      <td>0.512</td>\n",
       "      <td>0.106</td>\n",
       "      <td>V</td>\n",
       "    </tr>\n",
       "    <tr>\n",
       "      <th>2</th>\n",
       "      <td>2.457687e+06</td>\n",
       "      <td>2016-10-25.4200721</td>\n",
       "      <td>bc</td>\n",
       "      <td>1.48</td>\n",
       "      <td>17.860</td>\n",
       "      <td>17.091</td>\n",
       "      <td>0.107</td>\n",
       "      <td>0.559</td>\n",
       "      <td>0.055</td>\n",
       "      <td>V</td>\n",
       "    </tr>\n",
       "    <tr>\n",
       "      <th>3</th>\n",
       "      <td>2.457690e+06</td>\n",
       "      <td>2016-10-28.5366350</td>\n",
       "      <td>bc</td>\n",
       "      <td>1.69</td>\n",
       "      <td>17.700</td>\n",
       "      <td>16.934</td>\n",
       "      <td>0.108</td>\n",
       "      <td>0.646</td>\n",
       "      <td>0.064</td>\n",
       "      <td>V</td>\n",
       "    </tr>\n",
       "    <tr>\n",
       "      <th>4</th>\n",
       "      <td>2.457692e+06</td>\n",
       "      <td>2016-10-30.1759349</td>\n",
       "      <td>bg</td>\n",
       "      <td>1.37</td>\n",
       "      <td>17.184</td>\n",
       "      <td>&gt;17.184</td>\n",
       "      <td>99.990</td>\n",
       "      <td>0.124</td>\n",
       "      <td>0.103</td>\n",
       "      <td>V</td>\n",
       "    </tr>\n",
       "    <tr>\n",
       "      <th>...</th>\n",
       "      <td>...</td>\n",
       "      <td>...</td>\n",
       "      <td>...</td>\n",
       "      <td>...</td>\n",
       "      <td>...</td>\n",
       "      <td>...</td>\n",
       "      <td>...</td>\n",
       "      <td>...</td>\n",
       "      <td>...</td>\n",
       "      <td>...</td>\n",
       "    </tr>\n",
       "    <tr>\n",
       "      <th>771</th>\n",
       "      <td>2.459667e+06</td>\n",
       "      <td>2022-03-28.1072677</td>\n",
       "      <td>bs</td>\n",
       "      <td>1.61</td>\n",
       "      <td>18.043</td>\n",
       "      <td>16.838</td>\n",
       "      <td>0.072</td>\n",
       "      <td>0.668</td>\n",
       "      <td>0.044</td>\n",
       "      <td>g</td>\n",
       "    </tr>\n",
       "    <tr>\n",
       "      <th>772</th>\n",
       "      <td>2.459667e+06</td>\n",
       "      <td>2022-03-28.9943907</td>\n",
       "      <td>bG</td>\n",
       "      <td>1.60</td>\n",
       "      <td>18.037</td>\n",
       "      <td>17.172</td>\n",
       "      <td>0.098</td>\n",
       "      <td>0.491</td>\n",
       "      <td>0.044</td>\n",
       "      <td>g</td>\n",
       "    </tr>\n",
       "    <tr>\n",
       "      <th>773</th>\n",
       "      <td>2.459669e+06</td>\n",
       "      <td>2022-03-30.0144550</td>\n",
       "      <td>bk</td>\n",
       "      <td>1.45</td>\n",
       "      <td>18.429</td>\n",
       "      <td>&gt;18.429</td>\n",
       "      <td>99.990</td>\n",
       "      <td>-0.137</td>\n",
       "      <td>0.031</td>\n",
       "      <td>g</td>\n",
       "    </tr>\n",
       "    <tr>\n",
       "      <th>774</th>\n",
       "      <td>2.459671e+06</td>\n",
       "      <td>2022-04-01.1001081</td>\n",
       "      <td>bs</td>\n",
       "      <td>2.04</td>\n",
       "      <td>18.237</td>\n",
       "      <td>&gt;18.237</td>\n",
       "      <td>99.990</td>\n",
       "      <td>-0.451</td>\n",
       "      <td>0.037</td>\n",
       "      <td>g</td>\n",
       "    </tr>\n",
       "    <tr>\n",
       "      <th>775</th>\n",
       "      <td>2.459672e+06</td>\n",
       "      <td>2022-04-02.9888866</td>\n",
       "      <td>bG</td>\n",
       "      <td>1.45</td>\n",
       "      <td>17.853</td>\n",
       "      <td>&gt;17.853</td>\n",
       "      <td>99.990</td>\n",
       "      <td>-0.665</td>\n",
       "      <td>0.052</td>\n",
       "      <td>g</td>\n",
       "    </tr>\n",
       "  </tbody>\n",
       "</table>\n",
       "<p>776 rows × 10 columns</p>\n",
       "</div>"
      ],
      "text/plain": [
       "              HJD             UT Date Camera  FWHM   Limit      mag  mag_err  \\\n",
       "0    2.457676e+06  2016-10-14.4214702     bc  1.53  17.112   16.199    0.094   \n",
       "1    2.457679e+06  2016-10-17.4769062     bc  1.63  17.151  >17.151   99.990   \n",
       "2    2.457687e+06  2016-10-25.4200721     bc  1.48  17.860   17.091    0.107   \n",
       "3    2.457690e+06  2016-10-28.5366350     bc  1.69  17.700   16.934    0.108   \n",
       "4    2.457692e+06  2016-10-30.1759349     bg  1.37  17.184  >17.184   99.990   \n",
       "..            ...                 ...    ...   ...     ...      ...      ...   \n",
       "771  2.459667e+06  2022-03-28.1072677     bs  1.61  18.043   16.838    0.072   \n",
       "772  2.459667e+06  2022-03-28.9943907     bG  1.60  18.037   17.172    0.098   \n",
       "773  2.459669e+06  2022-03-30.0144550     bk  1.45  18.429  >18.429   99.990   \n",
       "774  2.459671e+06  2022-04-01.1001081     bs  2.04  18.237  >18.237   99.990   \n",
       "775  2.459672e+06  2022-04-02.9888866     bG  1.45  17.853  >17.853   99.990   \n",
       "\n",
       "     flux(mJy)  flux_err Filter  \n",
       "0        1.271     0.110      V  \n",
       "1        0.512     0.106      V  \n",
       "2        0.559     0.055      V  \n",
       "3        0.646     0.064      V  \n",
       "4        0.124     0.103      V  \n",
       "..         ...       ...    ...  \n",
       "771      0.668     0.044      g  \n",
       "772      0.491     0.044      g  \n",
       "773     -0.137     0.031      g  \n",
       "774     -0.451     0.037      g  \n",
       "775     -0.665     0.052      g  \n",
       "\n",
       "[776 rows x 10 columns]"
      ]
     },
     "execution_count": 4,
     "metadata": {},
     "output_type": "execute_result"
    }
   ],
   "source": []
  },
  {
   "cell_type": "code",
   "execution_count": 111,
   "id": "ae4cd4f8-5bb0-4599-ba23-7f9507268272",
   "metadata": {
    "pycharm": {
     "name": "#%%\n"
    }
   },
   "outputs": [
    {
     "data": {
      "image/png": "[encoded data removed]",
      "text/plain": [
       "<Figure size 432x288 with 1 Axes>"
      ]
     },
     "metadata": {
      "needs_background": "light"
     },
     "output_type": "display_data"
    },
    {
     "data": {
      "text/html": [
       "<div>\n",
       "<style scoped>\n",
       "    .dataframe tbody tr th:only-of-type {\n",
       "        vertical-align: middle;\n",
       "    }\n",
       "\n",
       "    .dataframe tbody tr th {\n",
       "        vertical-align: top;\n",
       "    }\n",
       "\n",
       "    .dataframe thead th {\n",
       "        text-align: right;\n",
       "    }\n",
       "</style>\n",
       "<table border=\"1\" class=\"dataframe\">\n",
       "  <thead>\n",
       "    <tr style=\"text-align: right;\">\n",
       "      <th></th>\n",
       "      <th>HJD</th>\n",
       "      <th>UT Date</th>\n",
       "      <th>Camera</th>\n",
       "      <th>FWHM</th>\n",
       "      <th>Limit</th>\n",
       "      <th>mag</th>\n",
       "      <th>mag_err</th>\n",
       "      <th>flux(mJy)</th>\n",
       "      <th>flux_err</th>\n",
       "      <th>Filter</th>\n",
       "    </tr>\n",
       "  </thead>\n",
       "  <tbody>\n",
       "    <tr>\n",
       "      <th>55</th>\n",
       "      <td>2.457984e+06</td>\n",
       "      <td>2017-08-18.5982202</td>\n",
       "      <td>bc</td>\n",
       "      <td>1.57</td>\n",
       "      <td>17.490</td>\n",
       "      <td>15.908</td>\n",
       "      <td>0.051</td>\n",
       "      <td>1.662</td>\n",
       "      <td>0.078</td>\n",
       "      <td>V</td>\n",
       "    </tr>\n",
       "    <tr>\n",
       "      <th>56</th>\n",
       "      <td>2.457993e+06</td>\n",
       "      <td>2017-08-27.5486944</td>\n",
       "      <td>bc</td>\n",
       "      <td>1.65</td>\n",
       "      <td>17.604</td>\n",
       "      <td>16.235</td>\n",
       "      <td>0.062</td>\n",
       "      <td>1.231</td>\n",
       "      <td>0.070</td>\n",
       "      <td>V</td>\n",
       "    </tr>\n",
       "    <tr>\n",
       "      <th>57</th>\n",
       "      <td>2.457997e+06</td>\n",
       "      <td>2017-08-31.5799047</td>\n",
       "      <td>bc</td>\n",
       "      <td>1.54</td>\n",
       "      <td>17.737</td>\n",
       "      <td>16.452</td>\n",
       "      <td>0.067</td>\n",
       "      <td>1.007</td>\n",
       "      <td>0.062</td>\n",
       "      <td>V</td>\n",
       "    </tr>\n",
       "    <tr>\n",
       "      <th>58</th>\n",
       "      <td>2.458000e+06</td>\n",
       "      <td>2017-09-03.5310643</td>\n",
       "      <td>bc</td>\n",
       "      <td>1.41</td>\n",
       "      <td>16.994</td>\n",
       "      <td>15.521</td>\n",
       "      <td>0.056</td>\n",
       "      <td>2.374</td>\n",
       "      <td>0.122</td>\n",
       "      <td>V</td>\n",
       "    </tr>\n",
       "    <tr>\n",
       "      <th>59</th>\n",
       "      <td>2.458003e+06</td>\n",
       "      <td>2017-09-06.5269636</td>\n",
       "      <td>bc</td>\n",
       "      <td>1.63</td>\n",
       "      <td>16.316</td>\n",
       "      <td>16.100</td>\n",
       "      <td>0.180</td>\n",
       "      <td>1.393</td>\n",
       "      <td>0.228</td>\n",
       "      <td>V</td>\n",
       "    </tr>\n",
       "    <tr>\n",
       "      <th>60</th>\n",
       "      <td>2.458005e+06</td>\n",
       "      <td>2017-09-08.5594254</td>\n",
       "      <td>bc</td>\n",
       "      <td>1.58</td>\n",
       "      <td>16.567</td>\n",
       "      <td>16.346</td>\n",
       "      <td>0.179</td>\n",
       "      <td>1.111</td>\n",
       "      <td>0.181</td>\n",
       "      <td>V</td>\n",
       "    </tr>\n",
       "    <tr>\n",
       "      <th>61</th>\n",
       "      <td>2.458013e+06</td>\n",
       "      <td>2017-09-16.3309614</td>\n",
       "      <td>bg</td>\n",
       "      <td>1.74</td>\n",
       "      <td>17.349</td>\n",
       "      <td>16.031</td>\n",
       "      <td>0.065</td>\n",
       "      <td>1.484</td>\n",
       "      <td>0.088</td>\n",
       "      <td>V</td>\n",
       "    </tr>\n",
       "    <tr>\n",
       "      <th>62</th>\n",
       "      <td>2.458020e+06</td>\n",
       "      <td>2017-09-23.4173850</td>\n",
       "      <td>bs</td>\n",
       "      <td>2.48</td>\n",
       "      <td>17.693</td>\n",
       "      <td>16.057</td>\n",
       "      <td>0.048</td>\n",
       "      <td>1.372</td>\n",
       "      <td>0.061</td>\n",
       "      <td>g</td>\n",
       "    </tr>\n",
       "    <tr>\n",
       "      <th>63</th>\n",
       "      <td>2.458020e+06</td>\n",
       "      <td>2017-09-23.6084454</td>\n",
       "      <td>bc</td>\n",
       "      <td>1.56</td>\n",
       "      <td>17.349</td>\n",
       "      <td>15.406</td>\n",
       "      <td>0.036</td>\n",
       "      <td>2.639</td>\n",
       "      <td>0.088</td>\n",
       "      <td>V</td>\n",
       "    </tr>\n",
       "    <tr>\n",
       "      <th>64</th>\n",
       "      <td>2.458022e+06</td>\n",
       "      <td>2017-09-25.3166042</td>\n",
       "      <td>bg</td>\n",
       "      <td>1.49</td>\n",
       "      <td>17.623</td>\n",
       "      <td>16.653</td>\n",
       "      <td>0.089</td>\n",
       "      <td>0.837</td>\n",
       "      <td>0.069</td>\n",
       "      <td>V</td>\n",
       "    </tr>\n",
       "    <tr>\n",
       "      <th>65</th>\n",
       "      <td>2.458027e+06</td>\n",
       "      <td>2017-09-30.4609967</td>\n",
       "      <td>bc</td>\n",
       "      <td>1.56</td>\n",
       "      <td>17.244</td>\n",
       "      <td>15.826</td>\n",
       "      <td>0.059</td>\n",
       "      <td>1.792</td>\n",
       "      <td>0.097</td>\n",
       "      <td>V</td>\n",
       "    </tr>\n",
       "    <tr>\n",
       "      <th>66</th>\n",
       "      <td>2.458033e+06</td>\n",
       "      <td>2017-10-06.4716501</td>\n",
       "      <td>bc</td>\n",
       "      <td>1.56</td>\n",
       "      <td>16.677</td>\n",
       "      <td>15.689</td>\n",
       "      <td>0.088</td>\n",
       "      <td>2.034</td>\n",
       "      <td>0.164</td>\n",
       "      <td>V</td>\n",
       "    </tr>\n",
       "    <tr>\n",
       "      <th>67</th>\n",
       "      <td>2.458035e+06</td>\n",
       "      <td>2017-10-08.2680129</td>\n",
       "      <td>bg</td>\n",
       "      <td>1.53</td>\n",
       "      <td>16.664</td>\n",
       "      <td>16.459</td>\n",
       "      <td>0.181</td>\n",
       "      <td>1.000</td>\n",
       "      <td>0.166</td>\n",
       "      <td>V</td>\n",
       "    </tr>\n",
       "    <tr>\n",
       "      <th>68</th>\n",
       "      <td>2.458044e+06</td>\n",
       "      <td>2017-10-17.4470189</td>\n",
       "      <td>bs</td>\n",
       "      <td>2.05</td>\n",
       "      <td>17.817</td>\n",
       "      <td>15.996</td>\n",
       "      <td>0.041</td>\n",
       "      <td>1.450</td>\n",
       "      <td>0.054</td>\n",
       "      <td>g</td>\n",
       "    </tr>\n",
       "    <tr>\n",
       "      <th>69</th>\n",
       "      <td>2.458051e+06</td>\n",
       "      <td>2017-10-24.3530233</td>\n",
       "      <td>bs</td>\n",
       "      <td>1.61</td>\n",
       "      <td>18.389</td>\n",
       "      <td>17.308</td>\n",
       "      <td>0.080</td>\n",
       "      <td>0.433</td>\n",
       "      <td>0.032</td>\n",
       "      <td>g</td>\n",
       "    </tr>\n",
       "    <tr>\n",
       "      <th>70</th>\n",
       "      <td>2.458053e+06</td>\n",
       "      <td>2017-10-26.3535031</td>\n",
       "      <td>bs</td>\n",
       "      <td>1.98</td>\n",
       "      <td>18.200</td>\n",
       "      <td>16.912</td>\n",
       "      <td>0.066</td>\n",
       "      <td>0.624</td>\n",
       "      <td>0.038</td>\n",
       "      <td>g</td>\n",
       "    </tr>\n",
       "    <tr>\n",
       "      <th>71</th>\n",
       "      <td>2.458054e+06</td>\n",
       "      <td>2017-10-27.3491774</td>\n",
       "      <td>bs</td>\n",
       "      <td>1.63</td>\n",
       "      <td>18.223</td>\n",
       "      <td>17.070</td>\n",
       "      <td>0.075</td>\n",
       "      <td>0.539</td>\n",
       "      <td>0.037</td>\n",
       "      <td>g</td>\n",
       "    </tr>\n",
       "    <tr>\n",
       "      <th>72</th>\n",
       "      <td>2.458056e+06</td>\n",
       "      <td>2017-10-29.3247423</td>\n",
       "      <td>bs</td>\n",
       "      <td>1.52</td>\n",
       "      <td>18.228</td>\n",
       "      <td>16.886</td>\n",
       "      <td>0.063</td>\n",
       "      <td>0.639</td>\n",
       "      <td>0.037</td>\n",
       "      <td>g</td>\n",
       "    </tr>\n",
       "    <tr>\n",
       "      <th>73</th>\n",
       "      <td>2.458057e+06</td>\n",
       "      <td>2017-10-30.2825535</td>\n",
       "      <td>bs</td>\n",
       "      <td>1.58</td>\n",
       "      <td>17.762</td>\n",
       "      <td>16.370</td>\n",
       "      <td>0.061</td>\n",
       "      <td>1.028</td>\n",
       "      <td>0.057</td>\n",
       "      <td>g</td>\n",
       "    </tr>\n",
       "    <tr>\n",
       "      <th>74</th>\n",
       "      <td>2.458058e+06</td>\n",
       "      <td>2017-10-31.2837429</td>\n",
       "      <td>bk</td>\n",
       "      <td>1.76</td>\n",
       "      <td>17.886</td>\n",
       "      <td>16.571</td>\n",
       "      <td>0.065</td>\n",
       "      <td>0.855</td>\n",
       "      <td>0.051</td>\n",
       "      <td>g</td>\n",
       "    </tr>\n",
       "  </tbody>\n",
       "</table>\n",
       "</div>"
      ],
      "text/plain": [
       "             HJD             UT Date Camera  FWHM   Limit     mag  mag_err  \\\n",
       "55  2.457984e+06  2017-08-18.5982202     bc  1.57  17.490  15.908    0.051   \n",
       "56  2.457993e+06  2017-08-27.5486944     bc  1.65  17.604  16.235    0.062   \n",
       "57  2.457997e+06  2017-08-31.5799047     bc  1.54  17.737  16.452    0.067   \n",
       "58  2.458000e+06  2017-09-03.5310643     bc  1.41  16.994  15.521    0.056   \n",
       "59  2.458003e+06  2017-09-06.5269636     bc  1.63  16.316  16.100    0.180   \n",
       "60  2.458005e+06  2017-09-08.5594254     bc  1.58  16.567  16.346    0.179   \n",
       "61  2.458013e+06  2017-09-16.3309614     bg  1.74  17.349  16.031    0.065   \n",
       "62  2.458020e+06  2017-09-23.4173850     bs  2.48  17.693  16.057    0.048   \n",
       "63  2.458020e+06  2017-09-23.6084454     bc  1.56  17.349  15.406    0.036   \n",
       "64  2.458022e+06  2017-09-25.3166042     bg  1.49  17.623  16.653    0.089   \n",
       "65  2.458027e+06  2017-09-30.4609967     bc  1.56  17.244  15.826    0.059   \n",
       "66  2.458033e+06  2017-10-06.4716501     bc  1.56  16.677  15.689    0.088   \n",
       "67  2.458035e+06  2017-10-08.2680129     bg  1.53  16.664  16.459    0.181   \n",
       "68  2.458044e+06  2017-10-17.4470189     bs  2.05  17.817  15.996    0.041   \n",
       "69  2.458051e+06  2017-10-24.3530233     bs  1.61  18.389  17.308    0.080   \n",
       "70  2.458053e+06  2017-10-26.3535031     bs  1.98  18.200  16.912    0.066   \n",
       "71  2.458054e+06  2017-10-27.3491774     bs  1.63  18.223  17.070    0.075   \n",
       "72  2.458056e+06  2017-10-29.3247423     bs  1.52  18.228  16.886    0.063   \n",
       "73  2.458057e+06  2017-10-30.2825535     bs  1.58  17.762  16.370    0.061   \n",
       "74  2.458058e+06  2017-10-31.2837429     bk  1.76  17.886  16.571    0.065   \n",
       "\n",
       "    flux(mJy)  flux_err Filter  \n",
       "55      1.662     0.078      V  \n",
       "56      1.231     0.070      V  \n",
       "57      1.007     0.062      V  \n",
       "58      2.374     0.122      V  \n",
       "59      1.393     0.228      V  \n",
       "60      1.111     0.181      V  \n",
       "61      1.484     0.088      V  \n",
       "62      1.372     0.061      g  \n",
       "63      2.639     0.088      V  \n",
       "64      0.837     0.069      V  \n",
       "65      1.792     0.097      V  \n",
       "66      2.034     0.164      V  \n",
       "67      1.000     0.166      V  \n",
       "68      1.450     0.054      g  \n",
       "69      0.433     0.032      g  \n",
       "70      0.624     0.038      g  \n",
       "71      0.539     0.037      g  \n",
       "72      0.639     0.037      g  \n",
       "73      1.028     0.057      g  \n",
       "74      0.855     0.051      g  "
      ]
     },
     "execution_count": 111,
     "metadata": {},
     "output_type": "execute_result"
    }
   ],
   "source": [
    "m = (txs_data.HJD > time_inp.jd - 40) & (txs_data.HJD < time_inp.jd + 40)\n",
    "\n",
    "min_ind = np.argmin(abs(txs_data.HJD - time_inp.jd))\n",
    "min_r = txs_data.iloc[min_ind]\n",
    "\n",
    "fig, ax = plt.subplots()\n",
    "\n",
    "for f in txs_data.Filter.unique():\n",
    "    bm = txs_data.Filter == f\n",
    "    ax.errorbar(txs_data.HJD[m & bm]-time_inp.jd, txs_data[\"flux(mJy)\"][m & bm], yerr=txs_data[\"flux_err\"][m & bm], \n",
    "                ls='', marker='s', mec='k', ecolor='k', capsize=2, label=f\"{f}-band\")\n",
    "    \n",
    "ax.axvline(0)\n",
    "ax.annotate(\n",
    "    f\"closest datapoint:\\n{(min_r.HJD - time_inp.jd) * 24:.0f}h after neutrino\",\n",
    "    (min_r.HJD - time_inp.jd, min_r[\"flux(mJy)\"]),\n",
    "    (-14, 2.),\n",
    "    arrowprops={\n",
    "        'width': 1,\n",
    "        'headwidth': 7,\n",
    "        'headlength': 5,\n",
    "        'shrink': 0.15\n",
    "    },\n",
    "    backgroundcolor='w'\n",
    ")\n",
    "\n",
    "\n",
    "ax.set_xlabel(\"time from neutrino [d]\")\n",
    "ax.set_ylabel(\"difference flux [mJy]\")\n",
    "ax.legend()\n",
    "fig.savefig(\"../figures/txs_dif.pdf\")\n",
    "plt.show()\n",
    "\n",
    "txs_data[m]"
   ]
  },
  {
   "cell_type": "code",
   "execution_count": null,
   "id": "0cdf11f7-725b-4648-822b-b9591a9eab86",
   "metadata": {
    "pycharm": {
     "name": "#%%\n"
    }
   },
   "outputs": [],
   "source": [
    "time_inp = Time(tinp, format='jd', scale='utc', location=location)\n",
    "\n",
    "target = SkyCoord(ra, dec, unit=(u.deg, u.deg), frame='icrs')\n",
    "ltt_helio = time_inp.light_travel_time(target, 'heliocentric')\n",
    "time_inp = Time(time_inp.utc - ltt_helio, format='jd', scale='utc', location=location)"
   ]
  },
  {
   "cell_type": "code",
   "execution_count": 36,
   "id": "53e59d6b-a300-4e05-899d-3a56e5287840",
   "metadata": {
    "pycharm": {
     "name": "#%%\n"
    }
   },
   "outputs": [
    {
     "data": {
      "text/plain": [
       "-342.57420705491677"
      ]
     },
     "execution_count": 36,
     "metadata": {},
     "output_type": "execute_result"
    }
   ],
   "source": [
    "min(txs_data.HJD - time_inp.jd)\n",
    "\n"
   ]
  },
  {
   "cell_type": "code",
   "execution_count": 64,
   "id": "1bb1da44-5dc7-4f89-974b-364448cb4e73",
   "metadata": {
    "pycharm": {
     "name": "#%%\n"
    }
   },
   "outputs": [
    {
     "data": {
      "text/plain": [
       "HJD               2458019.91873\n",
       "UT Date      2017-09-23.4173850\n",
       "Camera                       bs\n",
       "FWHM                       2.48\n",
       "Limit                    17.693\n",
       "mag                      16.057\n",
       "mag_err                   0.048\n",
       "flux(mJy)                 1.372\n",
       "flux_err                  0.061\n",
       "Filter                        g\n",
       "Name: 62, dtype: object"
      ]
     },
     "execution_count": 64,
     "metadata": {},
     "output_type": "execute_result"
    }
   ],
   "source": [
    "txs_data.iloc[min_ind]"
   ]
  },
  {
   "cell_type": "code",
   "execution_count": null,
   "id": "1d427db5-db05-4391-b805-6cf13c217ebd",
   "metadata": {
    "pycharm": {
     "name": "#%%\n"
    }
   },
   "outputs": [],
   "source": [
    "info = {\n",
    "    \"neutrino_mjd\": neutrino_mjd,\n",
    "    \"txs_ra\": r.ra,\n",
    "    \"txs_dec\": r.dec\n",
    "}"
   ]
  }
 ],
 "metadata": {
  "kernelspec": {
   "display_name": "Python 3 (ipykernel)",
   "language": "python",
   "name": "python3"
  },
  "language_info": {
   "codemirror_mode": {
    "name": "ipython",
    "version": 3
   },
   "file_extension": ".py",
   "mimetype": "text/x-python",
   "name": "python",
   "nbconvert_exporter": "python",
   "pygments_lexer": "ipython3",
   "version": "3.10.2"
  }
 },
 "nbformat": 4,
 "nbformat_minor": 5
}