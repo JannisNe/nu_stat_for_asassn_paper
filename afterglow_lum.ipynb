{
 "cells": [
  {
   "cell_type": "code",
   "execution_count": 1,
   "id": "1e9e9a22-84a0-4c06-a3c3-f9ab4b1a4b62",
   "metadata": {},
   "outputs": [],
   "source": [
    "%matplotlib inline\n",
    "%load_ext autoreload\n",
    "%autoreload 2"
   ]
  },
  {
   "cell_type": "code",
   "execution_count": 56,
   "id": "ac252307-8de0-4063-ba42-3b2e57e97a8e",
   "metadata": {},
   "outputs": [],
   "source": [
    "import tarfile\n",
    "from astropy.io import ascii\n",
    "import numpy as np\n",
    "import matplotlib.pyplot as plt\n",
    "from astropy.cosmology import Planck18 as cosmo\n",
    "import astropy.units as u"
   ]
  },
  {
   "cell_type": "code",
   "execution_count": 73,
   "id": "0a761edf-f26a-444e-a9a1-7dea5d5c21da",
   "metadata": {},
   "outputs": [
    {
     "data": {
      "text/plain": [
       "-25.183735451261985"
      ]
     },
     "execution_count": 73,
     "metadata": {},
     "output_type": "execute_result"
    }
   ],
   "source": [
    "f = 1e-1 * 1e-3 * u.Jy\n",
    "m = -2.5*np.log10(f.to('Jy').value / 3631)\n",
    "z = 0.972\n",
    "dl = cosmo.luminosity_distance(z=z).to(u.pc)\n",
    "m - 5. * np.log10(dl/(10.*u.pc)).value"
   ]
  },
  {
   "cell_type": "code",
   "execution_count": 6,
   "id": "ad96642b-9b3e-4f27-a22c-3d1b156beccf",
   "metadata": {},
   "outputs": [],
   "source": [
    "grb_tar_dir = 'data/garb_afterglow_lf'\n",
    "\n",
    "with tarfile.open('data/1307.5939') as tar:\n",
    "    tar.extractall(grb_tar_dir)\n",
    "    "
   ]
  },
  {
   "cell_type": "code",
   "execution_count": 20,
   "id": "88c96789-9ecd-482c-b937-565867b99dea",
   "metadata": {},
   "outputs": [],
   "source": [
    "tab = \"\"\"\n",
    "    990123  &   22  &   1229240    &   1.6 &   0.75    $\\pm$   0.07    &   10.2    &   15.4    &   17.3    \\\\\n",
    "    021004  &   155 &   2421620 &   2.335   &   0.39            &   15.4    &   16.1    &   16.5    \\\\\n",
    "    021211  &   130 &   8957    &   1.01    &   0.69            &   14.1    &   17.8    &   19.3    \\\\\n",
    "    030418  &   288 &   7192    &   ... &   ...         &   18.3    &   16.5    &   16.8    \\\\\n",
    "    040924  &   950 &   62986   &   0.859   &   0.70            &   17.5    &   17.7    &   18.7    \\\\\n",
    "    041006  &   230 &   5577258 &   0.716   &   0.55            &   16.5    &   17.6    &   18.2    \\\\\n",
    "    041219A &   441 &   186558  &   ... &   ...         &   ... &   17.2    &   16.9    \\\\\n",
    "    050319  &   40  &   994118  &   3.24    &   0.74    $\\pm$   0.42    &   16.7    &   18.1    &   19.0    \\\\\n",
    "    050401  &   3456    &   1120000 &   2.9 &   0.39    $\\pm$   0.05    &   ... &   19.9    &   20.9    \\\\\n",
    "    050408  &   3352    &   36710070    &   1.2357  &   0.28    $\\pm$   0.33    &   18.3    &   19.6    &   20.3    \\\\\n",
    "    050502A &   47  &   17850   &   3.793   &   0.76    $\\pm$   0.16    &   13.9    &   17.0    &   18.3    \\\\\n",
    "    050525A &   66  &   35638   &   0.606   &   0.97    $\\pm$   0.10    &   14.2    &   16.1    &   17.8    \\\\\n",
    "    050721  &   1484    &   248596  &   ... &   1.16    $\\pm$   0.35    &   ... &   16.8    &   18.6    \\\\\n",
    "    050730  &   67  &   72697   &   3.969   &   0.52    $\\pm$   0.05    &   15.9    &   16.7    &   17.3    \\\\\n",
    "    050801  &   24  &   21652   &   1.56    &   1.00    $\\pm$   0.16    &   14.7    &   16.7    &   18.1    \\\\\n",
    "    050820A &   230 &   663300  &   2.612   &   0.72    $\\pm$   0.03    &   16.5    &   15.2    &   16.7    \\\\\n",
    "    050824  &   635 &   8994457 &   0.83    &   0.40    $\\pm$   0.04    &   17.1    &   18.5    &   19.2    \\\\\n",
    "    050922C &   745 &   606010  &   2.198   &   0.51    $\\pm$   0.05    &   14.9    &   15.9    &   16.9    \\\\\n",
    "    051021  &   1611    &   35820   &   ... &   0.75            &   17.5    &   18.2    &   18.6    \\\\\n",
    "    051109A &   40  &   1040000 &   2.346   &   0.70            &   14.9    &   16.6    &   17.7    \\\\\n",
    "    051111  &   32  &   7588    &   1.55    &   0.76    $\\pm$   0.07    &   13.7    &   15.7    &   17.2    \\\\\n",
    "    060110  &   25  &   4781    &   ... &   0.75            &   12.9    &   14.8    &   15.9    \\\\\n",
    "    060111B &   30  &   264806  &   ... &   0.70            &   16.2    &   19.0    &   20.6    \\\\\n",
    "    060124  &   3335    &   1980000 &   2.296   &   0.73    $\\pm$   0.08    &   ... &   15.4    &   16.7    \\\\\n",
    "    060206  &   319 &   201580  &   4.048   &   0.73    $\\pm$   0.05    &   15.5    &   17.9    &   19.7    \\\\\n",
    "    060210  &   63  &   7190    &   3.91    &   0.37            &   17.8    &   18.1    &   19.7    \\\\\n",
    "    060218  &   253 &   2850000 &   0.0331  &   0.75            &   21.0    &   20.1    &   19.6    \\\\\n",
    "    060418  &   76  &   7659    &   1.489   &   0.78    $\\pm$   0.09    &   13.9    &   15.7    &   17.4    \\\\\n",
    "    060512  &   112 &   5927    &   0.4428  &   0.68    $\\pm$   0.05    &   15.4    &   17.2    &   18.2    \\\\\n",
    "    060526  &   60  &   893550  &   3.21    &   0.51    $\\pm$   0.32    &   15.0    &   16.5    &   17.3    \\\\\n",
    "    060605  &   74  &   6317    &   3.78    &   1.06            &   15.9    &   15.6    &   17.1    \\\\\n",
    "    060607A &   73  &   14733   &   3.082   &   0.72    $\\pm$   0.27    &   15.9    &   17.0    &   19.0    \\\\\n",
    "    060614  &   1547    &   1276350 &   0.125   &   0.47    $\\pm$   0.04    &   20.9    &   20.1    &   19.6    \\\\\n",
    "    060729  &   696 &   662390  &   0.54    &   0.78    $\\pm$   0.03    &   15.3    &   15.6    &   15.8    \\\\\n",
    "    060904B &   21  &   163131  &   0.703   &   1.11    $\\pm$   0.10    &   16.8    &   16.4    &   18.9    \\\\\n",
    "    060906  &   661 &   13610   &   3.686   &   0.56    $\\pm$   0.02    &   20.1    &   18.8    &   19.8    \\\\\n",
    "    060908  &   825 &   7242    &   2.43    &   0.30            &   14.7    &   17.5    &   19.0    \\\\\n",
    "    060912A &   1100    &   23900   &   0.937   &   0.62            &   ... &   18.0    &   19.3    \\\\\n",
    "    060926  &   57  &   1200    &   3.2 &   0.82    $\\pm$   0.01    &   16.7    &   19.1    &   ... \\\\\n",
    "    060927  &   17  &   1169    &   5.6 &   0.86    $\\pm$   0.03    &   16.0    &   16.6    &   18.2    \\\\\n",
    "    061007  &   30  &   14599   &   1.261   &   0.78    $\\pm$   0.02    &   9.6 &   13.4    &   15.7    \\\\\n",
    "    061121  &   49  &   554 &   1.1588  &   0.95            &   11.6    &   12.6    &   14.1    \\\\\n",
    "    061126  &   36  &   156381  &   1.1588  &   0.95            &   13.8    &   17.3    &   18.5    \\\\\n",
    "    070110  &   662 &   34762   &   1.547   &   0.55    $\\pm$   0.04    &   18.6    &   19.0    &   19.2    \\\\\n",
    "    070208  &   329 &   13460   &   1.165   &   0.68            &   18.6    &   19.8    &   20.4    \\\\\n",
    "    070311  &   74  &   350926  &   ... &   1.00    $\\pm$   0.20    &   14.8    &   16.6    &   17.6    \\\\\n",
    "    070318  &   61  &   87366   &   0.836   &   0.78            &   15.5    &   15.4    &   17.0    \\\\\n",
    "    070411  &   184 &   516628  &   2.954   &   0.75            &   16.5    &   16.6    &   18.1    \\\\\n",
    "    070419A &   206 &   62218   &   0.97    &   0.80            &   20.4    &   18.8    &   20.5    \\\\\n",
    "    070420  &   116 &   10842   &   ... &   0.75            &   15.6    &   16.2    &   17.4    \\\\\n",
    "    070518  &   1069    &   311763  &   1.16    &   0.80            &   18.0    &   19.6    &   20.6    \\\\\n",
    "    070611  &   274 &   8867    &   2.04    &   0.73            &   17.7    &   20.1    &   18.6    \\\\\n",
    "    071003  &   569 &   5003    &   1.605   &   1.25    $\\pm$   0.09    &   13.4    &   17.3    &   18.7    \\\\\n",
    "    071010A &   321 &   523226  &   0.98    &   0.68            &   17.0    &   16.7    &   17.7    \\\\\n",
    "    071010B &   64  &   174464  &   0.947   &   0.00            &   16.8    &   17.2    &   18.0    \\\\\n",
    "    071025  &   175 &   14885   &   ... &   0.42    $\\pm$   0.08    &   17.7    &   16.2    &   17.5    \\\\\n",
    "    071031  &   287 &   350926  &   2.692   &   0.64    $\\pm$   0.01    &   19.5    &   18.1    &   18.8    \\\\\n",
    "    071112C &   132 &   69638   &   0.823   &   0.63    $\\pm$   0.29    &   17.5    &   18.1    &   19.3    \\\\\n",
    "    071122  &   1303    &   9047    &   1.14    &   0.83            &   ... &   20.1    &   19.8    \\\\\n",
    "    080310  &   151 &   124416  &   2.4266  &   0.42    $\\pm$   0.12    &   17.3    &   16.9    &   17.5    \\\\\n",
    "    080319A &   150 &   4462    &   ... &   0.77    $\\pm$   0.02    &   21.0    &   20.3    &   21.2    \\\\\n",
    "    080319B &   5   &   4590000 &   0.937   &   0.75            &   9.4 &   14.1    &   16.0    \\\\\n",
    "    080319C &   78  &   1432    &   1.949   &   0.77    $\\pm$   0.02    &   16.8    &   17.4    &   18.7    \\\\\n",
    "    080330  &   89  &   116557  &   1.51    &   0.49            &   17.8    &   17.5    &   18.3    \\\\\n",
    "    080413A &   7   &   18339   &   2.433   &   0.67            &   14.1    &   16.5    &   18.2    \\\\\n",
    "    080413B &   77  &   5185072 &   1.1 &   0.25    $\\pm$   0.07    &   16.2    &   18.1    &   18.9    \\\\\n",
    "    080506  &   210 &   5371    &   ... &   0.95    $\\pm$   0.05    &   16.4    &   17.6    &   18.5    \\\\\n",
    "    080603A &   105 &   350436  &   ... &   0.75            &   21.5    &   18.4    &   18.5    \\\\\n",
    "    080710  &   417 &   34762   &   0.845   &   0.80    $\\pm$   0.09    &   19.1    &   16.9    &   16.7    \\\\\n",
    "    080804  &   1160    &   26112   &   2.2 &   0.43            &   ... &   17.9    &   19.2    \\\\\n",
    "    080810  &   38  &   7898    &   3.35    &   0.44            &   12.6    &   14.7    &   16.4    \\\\\n",
    "    080913  &   576 &   870036  &   6.7 &   0.79    $\\pm$   0.03    &   19.3    &   21.7    &   23.1    \\\\\n",
    "    080928  &   390 &   13425   &   1.692   &   1.08    $\\pm$   0.02    &   18.7    &   17.0    &   17.2    \\\\\n",
    "    081008  &   109 &   184525  &   1.692   &   1.08    $\\pm$   0.02    &   17.0    &   17.4    &   18.7    \\\\\n",
    "    081029  &   529 &   252674  &   3.85    &   0.00            &   15.6    &   17.4    &   18.0    \\\\\n",
    "    081109A &   169 &   66600   &   ... &   0.75            &   17.8    &   18.1    &   19.3    \\\\\n",
    "    081126  &   102 &   541 &   ... &   0.75            &   15.4    &   15.5    &   16.1    \\\\\n",
    "    081203A &   78  &   5758    &   2.1 &   0.60            &   14.0    &   13.1    &   15.2    \\\\\n",
    "    090102  &   41  &   264553  &   1.547   &   0.74            &   14.2    &   18.1    &   19.7    \\\\\n",
    "    090313  &   205 &   7874700 &   3.375   &   0.71            &   18.8    &   15.8    &   16.8    \\\\\n",
    "    090426  &   86  &   10748   &   2.609   &   0.76    $\\pm$   0.14    &   16.4    &   18.6    &   19.8    \\\\\n",
    "    090510  &   114 &   103794  &   0.903   &   0.76    $\\pm$   0.14    &   22.2    &   21.5    &   21.9    \\\\\n",
    "    090618  &   76  &   72576   &   0.54    &   0.50            &   13.7    &   15.5    &   16.4    \\\\\n",
    "    090726  &   204 &   3015    &   2.71    &   0.75            &   19.1    &   20.7    &   ... \\\\\n",
    "    090812  &   27  &   142 &   2.452   &   0.36            &   15.1    &   18.5    &   20.4    \\\\\n",
    "    100219A &   936 &   34978   &   0.49    &   0.18            &   16.4    &   19.0    &   20.8    \\\\\n",
    "    100418A &   1099    &   1371570 &   ... &   0.75            &   ... &   21.4    &   20.5    \\\\\n",
    "    100728B &   159 &   5644    &   ... &   0.75            &   16.3    &   18.8    &   19.7    \\\\\n",
    "    100901A &   634 &   543008  &   1.408   &   0.75            &   22.2    &   17.6    &   18.2    \\\\\n",
    "    100906A &   51  &   10937   &   1.408   &   0.75            &   13.0    &   14.9    &   16.4    \\\\\n",
    "    101024A &   219 &   160000  &   ... &   0.75            &   ... &   19.3    &   19.8    \\\\\n",
    "    110205A &   540 &   384000  &   ... &   0.75            &   ... &   14.2    &   16.1    \\\\\n",
    "    110213A &   104 &   183368  &   ... &   0.75            &   15.1 & 14.4    &   14.8\n",
    "\"\"\""
   ]
  },
  {
   "cell_type": "code",
   "execution_count": 59,
   "id": "7415f889-594e-4339-bca5-0917fd98d83c",
   "metadata": {},
   "outputs": [],
   "source": [
    "t = np.array([l.replace(' ', '').split('&') for l in tab.replace('\\n', '').replace('$\\pm$', 'pm').split('\\\\')])\n",
    "\n",
    "z = dict()\n",
    "M = dict()\n",
    "Mabs = dict()\n",
    "ts = ['100s', '1000s', '1h']\n",
    "iss = [5, 6, 7]\n",
    "for i, it in zip(iss, ts):\n",
    "    tm = t[:, 3] != '...'\n",
    "    Mm = t[:, i] != '...'\n",
    "    m = tm & Mm\n",
    "    z[it] = t[m][:, 3].astype(float)\n",
    "    M[it] = t[m][:, i].astype(float)\n",
    "    \n",
    "    dl = cosmo.luminosity_distance(z=z[it]).to(u.pc)\n",
    "    Mabs[it] = M[it] - 5. * np.log10(dl/(10.*u.pc)).value\n"
   ]
  },
  {
   "cell_type": "code",
   "execution_count": 64,
   "id": "301e91a9-63a2-4632-9937-c93ec632861d",
   "metadata": {},
   "outputs": [],
   "source": [
    "med = {float(k.strip('s')) if 's' in k else float(k.strip('h'))*3600: np.median(mm) for k, mm in Mabs.items()}"
   ]
  },
  {
   "cell_type": "code",
   "execution_count": 67,
   "id": "d2ca703f-d473-49b0-b175-406ece107194",
   "metadata": {},
   "outputs": [
    {
     "data": {
      "text/plain": [
       "[<matplotlib.lines.Line2D at 0x7f4c18892d00>]"
      ]
     },
     "execution_count": 67,
     "metadata": {},
     "output_type": "execute_result"
    },
    {
     "data": {
      "image/png": "[encoded data removed]",
      "text/plain": [
       "<Figure size 432x288 with 1 Axes>"
      ]
     },
     "metadata": {
      "needs_background": "light"
     },
     "output_type": "display_data"
    }
   ],
   "source": [
    "plt.plot(list(med.keys()), list(med.values()))"
   ]
  },
  {
   "cell_type": "code",
   "execution_count": 32,
   "id": "107e6b51-874c-4f0d-8297-f707a9d2cea0",
   "metadata": {},
   "outputs": [
    {
     "ename": "InconsistentTableError",
     "evalue": "Could not find table start",
     "output_type": "error",
     "traceback": [
      "\u001b[0;31m---------------------------------------------------------------------------\u001b[0m",
      "\u001b[0;31mInconsistentTableError\u001b[0m                    Traceback (most recent call last)",
      "\u001b[0;32m/tmp/ipykernel_30176/419813671.py\u001b[0m in \u001b[0;36m<module>\u001b[0;34m\u001b[0m\n\u001b[0;32m----> 1\u001b[0;31m ascii.read(tab, names=['name', 'start', 'end', 'z', 'beta', 'M100', 'M1000', 'M1h'],\n\u001b[0m\u001b[1;32m      2\u001b[0m           format='latex')\n",
      "\u001b[0;32m~/scratch/envs/nu_ztf/lib/python3.8/site-packages/astropy/io/ascii/ui.py\u001b[0m in \u001b[0;36mread\u001b[0;34m(table, guess, **kwargs)\u001b[0m\n\u001b[1;32m    374\u001b[0m         \u001b[0;32melse\u001b[0m\u001b[0;34m:\u001b[0m\u001b[0;34m\u001b[0m\u001b[0;34m\u001b[0m\u001b[0m\n\u001b[1;32m    375\u001b[0m             \u001b[0mreader\u001b[0m \u001b[0;34m=\u001b[0m \u001b[0mget_reader\u001b[0m\u001b[0;34m(\u001b[0m\u001b[0;34m**\u001b[0m\u001b[0mnew_kwargs\u001b[0m\u001b[0;34m)\u001b[0m\u001b[0;34m\u001b[0m\u001b[0;34m\u001b[0m\u001b[0m\n\u001b[0;32m--> 376\u001b[0;31m             \u001b[0mdat\u001b[0m \u001b[0;34m=\u001b[0m \u001b[0mreader\u001b[0m\u001b[0;34m.\u001b[0m\u001b[0mread\u001b[0m\u001b[0;34m(\u001b[0m\u001b[0mtable\u001b[0m\u001b[0;34m)\u001b[0m\u001b[0;34m\u001b[0m\u001b[0;34m\u001b[0m\u001b[0m\n\u001b[0m\u001b[1;32m    377\u001b[0m             _read_trace.append({'kwargs': copy.deepcopy(new_kwargs),\n\u001b[1;32m    378\u001b[0m                                 \u001b[0;34m'Reader'\u001b[0m\u001b[0;34m:\u001b[0m \u001b[0mreader\u001b[0m\u001b[0;34m.\u001b[0m\u001b[0m__class__\u001b[0m\u001b[0;34m,\u001b[0m\u001b[0;34m\u001b[0m\u001b[0;34m\u001b[0m\u001b[0m\n",
      "\u001b[0;32m~/scratch/envs/nu_ztf/lib/python3.8/site-packages/astropy/io/ascii/core.py\u001b[0m in \u001b[0;36mread\u001b[0;34m(self, table)\u001b[0m\n\u001b[1;32m   1266\u001b[0m \u001b[0;34m\u001b[0m\u001b[0m\n\u001b[1;32m   1267\u001b[0m         \u001b[0;31m# Set self.data.data_lines to a slice of lines contain the data rows\u001b[0m\u001b[0;34m\u001b[0m\u001b[0;34m\u001b[0m\u001b[0;34m\u001b[0m\u001b[0m\n\u001b[0;32m-> 1268\u001b[0;31m         \u001b[0mself\u001b[0m\u001b[0;34m.\u001b[0m\u001b[0mdata\u001b[0m\u001b[0;34m.\u001b[0m\u001b[0mget_data_lines\u001b[0m\u001b[0;34m(\u001b[0m\u001b[0mself\u001b[0m\u001b[0;34m.\u001b[0m\u001b[0mlines\u001b[0m\u001b[0;34m)\u001b[0m\u001b[0;34m\u001b[0m\u001b[0;34m\u001b[0m\u001b[0m\n\u001b[0m\u001b[1;32m   1269\u001b[0m \u001b[0;34m\u001b[0m\u001b[0m\n\u001b[1;32m   1270\u001b[0m         \u001b[0;31m# Extract table meta values (e.g. keywords, comments, etc).  Updates self.meta.\u001b[0m\u001b[0;34m\u001b[0m\u001b[0;34m\u001b[0m\u001b[0;34m\u001b[0m\u001b[0m\n",
      "\u001b[0;32m~/scratch/envs/nu_ztf/lib/python3.8/site-packages/astropy/io/ascii/core.py\u001b[0m in \u001b[0;36mget_data_lines\u001b[0;34m(self, lines)\u001b[0m\n\u001b[1;32m    775\u001b[0m         table data values.\"\"\"\n\u001b[1;32m    776\u001b[0m         \u001b[0mdata_lines\u001b[0m \u001b[0;34m=\u001b[0m \u001b[0mself\u001b[0m\u001b[0;34m.\u001b[0m\u001b[0mprocess_lines\u001b[0m\u001b[0;34m(\u001b[0m\u001b[0mlines\u001b[0m\u001b[0;34m)\u001b[0m\u001b[0;34m\u001b[0m\u001b[0;34m\u001b[0m\u001b[0m\n\u001b[0;32m--> 777\u001b[0;31m         \u001b[0mstart_line\u001b[0m \u001b[0;34m=\u001b[0m \u001b[0m_get_line_index\u001b[0m\u001b[0;34m(\u001b[0m\u001b[0mself\u001b[0m\u001b[0;34m.\u001b[0m\u001b[0mstart_line\u001b[0m\u001b[0;34m,\u001b[0m \u001b[0mdata_lines\u001b[0m\u001b[0;34m)\u001b[0m\u001b[0;34m\u001b[0m\u001b[0;34m\u001b[0m\u001b[0m\n\u001b[0m\u001b[1;32m    778\u001b[0m         \u001b[0mend_line\u001b[0m \u001b[0;34m=\u001b[0m \u001b[0m_get_line_index\u001b[0m\u001b[0;34m(\u001b[0m\u001b[0mself\u001b[0m\u001b[0;34m.\u001b[0m\u001b[0mend_line\u001b[0m\u001b[0;34m,\u001b[0m \u001b[0mdata_lines\u001b[0m\u001b[0;34m)\u001b[0m\u001b[0;34m\u001b[0m\u001b[0;34m\u001b[0m\u001b[0m\n\u001b[1;32m    779\u001b[0m \u001b[0;34m\u001b[0m\u001b[0m\n",
      "\u001b[0;32m~/scratch/envs/nu_ztf/lib/python3.8/site-packages/astropy/io/ascii/core.py\u001b[0m in \u001b[0;36m_get_line_index\u001b[0;34m(line_or_func, lines)\u001b[0m\n\u001b[1;32m    517\u001b[0m \u001b[0;34m\u001b[0m\u001b[0m\n\u001b[1;32m    518\u001b[0m     \u001b[0;32mif\u001b[0m \u001b[0mhasattr\u001b[0m\u001b[0;34m(\u001b[0m\u001b[0mline_or_func\u001b[0m\u001b[0;34m,\u001b[0m \u001b[0;34m'__call__'\u001b[0m\u001b[0;34m)\u001b[0m\u001b[0;34m:\u001b[0m\u001b[0;34m\u001b[0m\u001b[0;34m\u001b[0m\u001b[0m\n\u001b[0;32m--> 519\u001b[0;31m         \u001b[0;32mreturn\u001b[0m \u001b[0mline_or_func\u001b[0m\u001b[0;34m(\u001b[0m\u001b[0mlines\u001b[0m\u001b[0;34m)\u001b[0m\u001b[0;34m\u001b[0m\u001b[0;34m\u001b[0m\u001b[0m\n\u001b[0m\u001b[1;32m    520\u001b[0m     \u001b[0;32melif\u001b[0m \u001b[0mline_or_func\u001b[0m\u001b[0;34m:\u001b[0m\u001b[0;34m\u001b[0m\u001b[0;34m\u001b[0m\u001b[0m\n\u001b[1;32m    521\u001b[0m         \u001b[0;32mif\u001b[0m \u001b[0mline_or_func\u001b[0m \u001b[0;34m>=\u001b[0m \u001b[0;36m0\u001b[0m\u001b[0;34m:\u001b[0m\u001b[0;34m\u001b[0m\u001b[0;34m\u001b[0m\u001b[0m\n",
      "\u001b[0;32m~/scratch/envs/nu_ztf/lib/python3.8/site-packages/astropy/io/ascii/latex.py\u001b[0m in \u001b[0;36mstart_line\u001b[0;34m(self, lines)\u001b[0m\n\u001b[1;32m    176\u001b[0m             \u001b[0mstart\u001b[0m \u001b[0;34m=\u001b[0m \u001b[0mself\u001b[0m\u001b[0;34m.\u001b[0m\u001b[0mheader\u001b[0m\u001b[0;34m.\u001b[0m\u001b[0mstart_line\u001b[0m\u001b[0;34m(\u001b[0m\u001b[0mlines\u001b[0m\u001b[0;34m)\u001b[0m\u001b[0;34m\u001b[0m\u001b[0;34m\u001b[0m\u001b[0m\n\u001b[1;32m    177\u001b[0m             \u001b[0;32mif\u001b[0m \u001b[0mstart\u001b[0m \u001b[0;32mis\u001b[0m \u001b[0;32mNone\u001b[0m\u001b[0;34m:\u001b[0m\u001b[0;34m\u001b[0m\u001b[0;34m\u001b[0m\u001b[0m\n\u001b[0;32m--> 178\u001b[0;31m                 \u001b[0;32mraise\u001b[0m \u001b[0mcore\u001b[0m\u001b[0;34m.\u001b[0m\u001b[0mInconsistentTableError\u001b[0m\u001b[0;34m(\u001b[0m\u001b[0;34mr'Could not find table start'\u001b[0m\u001b[0;34m)\u001b[0m\u001b[0;34m\u001b[0m\u001b[0;34m\u001b[0m\u001b[0m\n\u001b[0m\u001b[1;32m    179\u001b[0m             \u001b[0;32mreturn\u001b[0m \u001b[0mstart\u001b[0m \u001b[0;34m+\u001b[0m \u001b[0;36m1\u001b[0m\u001b[0;34m\u001b[0m\u001b[0;34m\u001b[0m\u001b[0m\n\u001b[1;32m    180\u001b[0m \u001b[0;34m\u001b[0m\u001b[0m\n",
      "\u001b[0;31mInconsistentTableError\u001b[0m: Could not find table start"
     ]
    }
   ],
   "source": [
    "ascii.read(tab, names=['name', 'start', 'end', 'z', 'beta', 'M100', 'M1000', 'M1h'],\n",
    "          format='latex')"
   ]
  },
  {
   "cell_type": "code",
   "execution_count": 14,
   "id": "0e44dd6f-57dc-4c71-b2b4-2c35d56583d7",
   "metadata": {},
   "outputs": [
    {
     "ename": "UnicodeDecodeError",
     "evalue": "'utf-8' codec can't decode byte 0xa3 in position 63989: invalid start byte",
     "output_type": "error",
     "traceback": [
      "\u001b[0;31m---------------------------------------------------------------------------\u001b[0m",
      "\u001b[0;31mUnicodeDecodeError\u001b[0m                        Traceback (most recent call last)",
      "\u001b[0;32m/tmp/ipykernel_30176/2745193030.py\u001b[0m in \u001b[0;36m<module>\u001b[0;34m\u001b[0m\n\u001b[1;32m      1\u001b[0m \u001b[0;32mwith\u001b[0m \u001b[0mopen\u001b[0m\u001b[0;34m(\u001b[0m\u001b[0mgrb_tar_dir\u001b[0m \u001b[0;34m+\u001b[0m \u001b[0;34m'/ms.tex'\u001b[0m\u001b[0;34m,\u001b[0m \u001b[0;34m'rb'\u001b[0m\u001b[0;34m)\u001b[0m \u001b[0;32mas\u001b[0m \u001b[0mf\u001b[0m\u001b[0;34m:\u001b[0m\u001b[0;34m\u001b[0m\u001b[0;34m\u001b[0m\u001b[0m\n\u001b[0;32m----> 2\u001b[0;31m     \u001b[0mtexfile\u001b[0m \u001b[0;34m=\u001b[0m \u001b[0mf\u001b[0m\u001b[0;34m.\u001b[0m\u001b[0mread\u001b[0m\u001b[0;34m(\u001b[0m\u001b[0;34m)\u001b[0m\u001b[0;34m.\u001b[0m\u001b[0mdecode\u001b[0m\u001b[0;34m(\u001b[0m\u001b[0;34m)\u001b[0m\u001b[0;34m\u001b[0m\u001b[0;34m\u001b[0m\u001b[0m\n\u001b[0m\u001b[1;32m      3\u001b[0m \u001b[0;34m\u001b[0m\u001b[0m\n\u001b[1;32m      4\u001b[0m pre_table = \"\"\"\n\u001b[1;32m      5\u001b[0m     \u001b[0;31m\\\u001b[0m\u001b[0mclearpage\u001b[0m\u001b[0;34m\u001b[0m\u001b[0;34m\u001b[0m\u001b[0m\n",
      "\u001b[0;31mUnicodeDecodeError\u001b[0m: 'utf-8' codec can't decode byte 0xa3 in position 63989: invalid start byte"
     ]
    }
   ],
   "source": [
    "with open(grb_tar_dir + '/ms.tex', 'rb') as f:\n",
    "    texfile = f.read().decode()\n",
    "    \n",
    "pre_table = \"\"\"\n",
    "    \\clearpage\n",
    "    \\begin{deluxetable}{llllllllll}\n",
    "    %\\rotate\n",
    "    \\tablewidth{500pt} %\\tabletypesize{\\tiny}\n",
    "    \\tablecaption{The temporal coverage of the lightcurves, redshifts, spectral indices, apparent magnitudes at selected epochs for 93 GRBs that have well-sampled early optical lightcurves}\n",
    "    \\tablenum{1} \\tablehead{ \\colhead{GRB}  &\\colhead{$T_{\\rm start}$(s)}\n",
    "    &\\colhead{$T_{\\rm end}$(s)} &\\colhead{$z$} &\\colhead{$\\beta_{\\rm O}$}\n",
    "     &\\colhead{$M_{\\rm R, 10^2{\\rm s}}$} &\\colhead{$M_{\\rm R, 10^3{\\rm s}}$} &\\colhead{$M_{\\rm R, 1{\\rm h}}$}}\n",
    "    \\startdata\n",
    "\"\"\""
   ]
  },
  {
   "cell_type": "code",
   "execution_count": null,
   "id": "7ed100c5-5104-4f3d-ae0d-adf65a8c3bdb",
   "metadata": {},
   "outputs": [],
   "source": [
    "texfile.split(pre_table)[-1]"
   ]
  }
 ],
 "metadata": {
  "kernelspec": {
   "display_name": "Python 3 (ipykernel)",
   "language": "python",
   "name": "python3"
  },
  "language_info": {
   "codemirror_mode": {
    "name": "ipython",
    "version": 3
   },
   "file_extension": ".py",
   "mimetype": "text/x-python",
   "name": "python",
   "nbconvert_exporter": "python",
   "pygments_lexer": "ipython3",
   "version": "3.8.10"
  }
 },
 "nbformat": 4,
 "nbformat_minor": 5
}
