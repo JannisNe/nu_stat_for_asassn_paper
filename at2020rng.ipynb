{
 "cells": [
  {
   "cell_type": "code",
   "execution_count": 1,
   "id": "c837330a-b6ab-4681-bb7e-794c1a59ec5a",
   "metadata": {
    "pycharm": {
     "name": "#%%\n"
    }
   },
   "outputs": [],
   "source": [
    "%matplotlib inline\n",
    "%load_ext autoreload\n",
    "%autoreload 2\n",
    "import matplotlib\n",
    "import matplotlib.pyplot as plt\n",
    "from matplotlib.ticker import FormatStrFormatter\n",
    "from matplotlib.legend_handler import HandlerTuple\n",
    "from matplotlib.container import Container\n",
    "import pandas as pd\n",
    "import numpy as np\n",
    "import os, requests, tarfile, zipfile, io\n",
    "from astropy.time import Time\n",
    "from astropy.table import Table\n",
    "from astropy.coordinates import SkyCoord\n",
    "from astropy.cosmology import Planck18 as cosmo\n",
    "from astropy import units as u, io\n",
    "# from style import output_folder, big_fontsize, base_width, base_height, dpi\n",
    "import seaborn as sns\n",
    "import json\n",
    "from astropy.time import Time\n",
    "from style import *\n",
    "from LC import candidates_lc_dir, get_lc, names"
   ]
  },
  {
   "cell_type": "code",
   "execution_count": 2,
   "id": "1ffce5c7-909b-48c6-b06a-253568967d38",
   "metadata": {
    "pycharm": {
     "name": "#%%\n"
    }
   },
   "outputs": [],
   "source": [
    "disc_time = Time('2020-08-15 08:06:00.000').jd"
   ]
  },
  {
   "cell_type": "code",
   "execution_count": 3,
   "id": "b6faee27-7406-4434-9e77-7ce730ff00ae",
   "metadata": {
    "pycharm": {
     "name": "#%%\n"
    }
   },
   "outputs": [],
   "source": [
    "def plot_lc(name, sigma=5):\n",
    "    \n",
    "    jdass, jdice, data, nu_name, ttype = get_lc(name)\n",
    "    fig, ax = plt.subplots(figsize=(base_width, base_height), dpi=dpi)\n",
    "    conts = list()\n",
    "    labels = list()\n",
    "    for band, d in data.items():\n",
    "        \n",
    "        if 'corrupted' in band:\n",
    "            continue\n",
    "        \n",
    "#         m = np.array([i in corrupted for i in d.IMAGE])\n",
    "#         d = d[~m]\n",
    "        \n",
    "        jd = d['JD'] - jdass\n",
    "        mag = d['mag']\n",
    "        err = d['mag_err']\n",
    "        \n",
    "        if len(jd):\n",
    "            errm = (d['flux(mJy)'] < d.flux_err * sigma) | (err == 99.99)\n",
    "#             cont1 = ax.errorbar(jd[~errm], mag[~errm], yerr=err[~errm], color=bandcols[band], ls='',\n",
    "#                         markeredgecolor='k', ecolor='k', markersize=3, capsize=2, marker=bandmark[band], mew=0.5, elinewidth=0.5)\n",
    "            cont1 = ax.errorbar(jd[~errm], mag[~errm], yerr=err[~errm], color=bandcols[band], marker=bandmark[band], **lc_errbar_kw)\n",
    "#             cont2,  = ax.plot(jd[errm], mag[errm], marker='v', color=bandcols[band], ls='', markersize=2, \n",
    "#                                  mfc=None, markeredgecolor=bandcols[band], mew=0.5, fillstyle='none', zorder=0)\n",
    "            cont2,  = ax.plot(jd[errm], mag[errm], color=bandcols[band], markeredgecolor=bandcols[band], **lc_uplim_kw)\n",
    "            conts.append((cont1, cont2))\n",
    "            labels.append(f\"{band}, upper limits\")\n",
    "\n",
    "    ylim = ax.get_ylim()\n",
    "    ax.set_ylim([ylim[1], ylim[0]])\n",
    "    ax.set_ylabel('magnitude')\n",
    "    mjd_ass = Time(jdass[0], format='jd').mjd\n",
    "    mjd_ice = Time(jdice[0], format='jd').mjd\n",
    "    ax.set_xlabel(f'MJD - {mjd_ass:.0f}')\n",
    "    line = ax.axvline(mjd_ice-mjd_ass)\n",
    "    ax.legend([line] + conts, [nu_name] + labels, handler_map={tuple: HandlerTuple(ndivide=None)})\n",
    "    ax.set_title(name)\n",
    "    fig.tight_layout()\n",
    "    return fig, ax"
   ]
  },
  {
   "cell_type": "code",
   "execution_count": 4,
   "id": "eb1b4025-8ba4-4926-aac3-191a827366dd",
   "metadata": {
    "pycharm": {
     "name": "#%%\n"
    }
   },
   "outputs": [],
   "source": [
    "tab = io.ascii.read('data/at2020rng_ztffps.txt')\n",
    "names = list(tab[0])\n",
    "names[6] ='info'\n",
    "names = [i.strip(',') for i in names]\n",
    "tab = io.ascii.read('data/at2020rng_ztffps.txt', names=names)[1:]\n",
    "t = np.array(tab['jd']).astype(float)"
   ]
  },
  {
   "cell_type": "code",
   "execution_count": 5,
   "id": "8242a022-3ed5-4e7f-8977-2924c1a67f04",
   "metadata": {
    "pycharm": {
     "name": "#%%\n"
    }
   },
   "outputs": [
    {
     "data": {
      "text/plain": [
       "3.4700147807598114e-05"
      ]
     },
     "execution_count": 5,
     "metadata": {},
     "output_type": "execute_result"
    }
   ],
   "source": [
    "min(abs(t - disc_time))"
   ]
  },
  {
   "cell_type": "code",
   "execution_count": 6,
   "id": "f2e3d679-03b7-4d89-a557-99c0fce097c3",
   "metadata": {
    "pycharm": {
     "name": "#%%\n"
    }
   },
   "outputs": [
    {
     "name": "stdout",
     "output_type": "stream",
     "text": [
      "16.784695535673357 14.507115229947985 1 ZTF_r 15.4939998626709 0.211280122804579 0.296999990940094\n"
     ]
    }
   ],
   "source": [
    "det = tab[np.argmin(abs(t - disc_time))]\n",
    "fdet = float(det['forcediffimflux'])\n",
    "func = float(det['forcediffimfluxunc'])\n",
    "detmag = float(det['zpdiff']) - 2.5*np.log10(fdet)\n",
    "print(detmag, fdet/func, det['programid'], det['filter'], det['nearestrefmag'], det['dnearestrefsrc'], det['nearestrefsharp'])"
   ]
  },
  {
   "cell_type": "code",
   "execution_count": 7,
   "id": "55f572a7-3b4c-4016-b4aa-04ab3c8660b1",
   "metadata": {
    "pycharm": {
     "name": "#%%\n"
    }
   },
   "outputs": [
    {
     "data": {
      "text/plain": [
       "8"
      ]
     },
     "execution_count": 7,
     "metadata": {},
     "output_type": "execute_result"
    }
   ],
   "source": [
    "sum(tab['procstatus'] == '56')"
   ]
  },
  {
   "cell_type": "code",
   "execution_count": 8,
   "id": "d4af4589-bbb3-48af-8303-4592b94eba24",
   "metadata": {
    "pycharm": {
     "name": "#%%\n"
    }
   },
   "outputs": [
    {
     "data": {
      "text/plain": [
       "1019"
      ]
     },
     "execution_count": 8,
     "metadata": {},
     "output_type": "execute_result"
    }
   ],
   "source": [
    "sum(~(tab['forcediffimflux'] == 'null'))"
   ]
  },
  {
   "cell_type": "code",
   "execution_count": 9,
   "id": "8a7fd3d5-6fa0-4ce4-b0d0-9162edd0d504",
   "metadata": {
    "pycharm": {
     "name": "#%%\n"
    }
   },
   "outputs": [],
   "source": [
    "tab = tab[tab['programid'] == '1']\n",
    "tab = tab[~(tab['forcediffimflux'] == 'null')]"
   ]
  },
  {
   "cell_type": "code",
   "execution_count": 10,
   "id": "5934c5f1-7f08-483c-9e67-84a63b051fdd",
   "metadata": {
    "pycharm": {
     "name": "#%%\n"
    }
   },
   "outputs": [
    {
     "name": "stdout",
     "output_type": "stream",
     "text": [
      "no data for AT2020rng for V\n"
     ]
    },
    {
     "ename": "NameError",
     "evalue": "name 'm' is not defined",
     "output_type": "error",
     "traceback": [
      "\u001B[0;31m---------------------------------------------------------------------------\u001B[0m",
      "\u001B[0;31mNameError\u001B[0m                                 Traceback (most recent call last)",
      "\u001B[0;32m/tmp/ipykernel_287714/3152569513.py\u001B[0m in \u001B[0;36m<module>\u001B[0;34m\u001B[0m\n\u001B[1;32m      9\u001B[0m \u001B[0;31m# tab = tab[m]\u001B[0m\u001B[0;34m\u001B[0m\u001B[0;34m\u001B[0m\u001B[0;34m\u001B[0m\u001B[0m\n\u001B[1;32m     10\u001B[0m \u001B[0;34m\u001B[0m\u001B[0m\n\u001B[0;32m---> 11\u001B[0;31m \u001B[0mmag\u001B[0m \u001B[0;34m=\u001B[0m \u001B[0mzp\u001B[0m\u001B[0;34m[\u001B[0m\u001B[0mm\u001B[0m\u001B[0;34m]\u001B[0m \u001B[0;34m-\u001B[0m \u001B[0;36m2.5\u001B[0m\u001B[0;34m*\u001B[0m\u001B[0mnp\u001B[0m\u001B[0;34m.\u001B[0m\u001B[0mlog10\u001B[0m\u001B[0;34m(\u001B[0m\u001B[0mf\u001B[0m\u001B[0;34m[\u001B[0m\u001B[0mm\u001B[0m\u001B[0;34m]\u001B[0m\u001B[0;34m)\u001B[0m\u001B[0;34m\u001B[0m\u001B[0;34m\u001B[0m\u001B[0m\n\u001B[0m\u001B[1;32m     12\u001B[0m \u001B[0mmage\u001B[0m \u001B[0;34m=\u001B[0m \u001B[0;36m1.0857\u001B[0m\u001B[0;34m*\u001B[0m \u001B[0mfu\u001B[0m\u001B[0;34m[\u001B[0m\u001B[0mm\u001B[0m\u001B[0;34m]\u001B[0m \u001B[0;34m/\u001B[0m \u001B[0mf\u001B[0m\u001B[0;34m[\u001B[0m\u001B[0mm\u001B[0m\u001B[0;34m]\u001B[0m\u001B[0;34m\u001B[0m\u001B[0;34m\u001B[0m\u001B[0m\n",
      "\u001B[0;31mNameError\u001B[0m: name 'm' is not defined"
     ]
    }
   ],
   "source": [
    "jdass, jdice, data, nu_name, ttype = get_lc('AT2020rng')\n",
    "f = np.array(tab['forcediffimflux']).astype(float)\n",
    "fu = np.array(tab['forcediffimfluxunc']).astype(float)\n",
    "zp = np.array(tab['zpdiff']).astype(float)\n",
    "t = np.array(tab['jd']).astype(float) - jdass\n",
    "fltr = tab['filter']\n",
    "\n",
    "# m = f/fu > 0\n",
    "# tab = tab[m]\n",
    "\n",
    "mag = zp[m] - 2.5*np.log10(f[m])\n",
    "mage = 1.0857* fu[m] / f[m]"
   ]
  },
  {
   "cell_type": "code",
   "execution_count": null,
   "id": "5f09ab81-fc4f-4d4b-be9c-40074fb779a4",
   "metadata": {
    "pycharm": {
     "name": "#%%\n"
    }
   },
   "outputs": [],
   "source": []
  },
  {
   "cell_type": "code",
   "execution_count": 11,
   "id": "f775ab1a-b92c-46b5-97f9-7f2d0452331f",
   "metadata": {
    "pycharm": {
     "name": "#%%\n"
    }
   },
   "outputs": [],
   "source": [
    "def get_ztffps_at2020rng():\n",
    "    tab = io.ascii.read('data/at2020rng_ztffps.txt')\n",
    "    names = list(tab[0])\n",
    "    names[6] ='info'\n",
    "    names = [i.strip(',') for i in names]\n",
    "    tab = io.ascii.read('data/at2020rng_ztffps.txt', names=names)[1:]\n",
    "    tab = tab[tab['programid'] == '1']\n",
    "    tab = tab[~(tab['forcediffimflux'] == 'null')]\n",
    "\n",
    "    jdass, jdice, data, nu_name, ttype = get_lc('AT2020rng')\n",
    "    f = np.array(tab['forcediffimflux']).astype(float)\n",
    "    fu = np.array(tab['forcediffimfluxunc']).astype(float)\n",
    "    zp = np.array(tab['zpdiff']).astype(float)\n",
    "    t = np.array(tab['jd']).astype(float) - jdass\n",
    "    fltr = tab['filter']\n",
    "\n",
    "    m = f/fu > 5\n",
    "    print(f\"{sum(m)} detections\")\n",
    "    tab = tab\n",
    "\n",
    "    mag = np.zeros(len(tab))\n",
    "    mage = np.zeros(len(tab))\n",
    "    \n",
    "    mag[m] = zp[m] - 2.5*np.log10(f[m])\n",
    "    mage[m] = 1.0857* fu[m] / f[m]\n",
    "    \n",
    "    mag[~m] = zp[~m] - 2.5 * np.log10(5 * fu[~m])\n",
    "    mage[~m] = 99.99\n",
    "    \n",
    "    return t, mag, mage, fltr"
   ]
  },
  {
   "cell_type": "code",
   "execution_count": 12,
   "id": "b57d74da-a7aa-471c-ae57-5f364de67bb4",
   "metadata": {
    "pycharm": {
     "name": "#%%\n"
    }
   },
   "outputs": [
    {
     "name": "stdout",
     "output_type": "stream",
     "text": [
      "no data for AT2020rng for V\n",
      "13 detections\n"
     ]
    }
   ],
   "source": [
    "t, m, em, f = get_ztffps_at2020rng()"
   ]
  },
  {
   "cell_type": "code",
   "execution_count": 13,
   "id": "1a5dfde2-b148-4ffe-a1a0-7ecd6883a8b0",
   "metadata": {
    "pycharm": {
     "name": "#%%\n"
    }
   },
   "outputs": [
    {
     "data": {
      "text/plain": [
       "array([2459089.9])"
      ]
     },
     "execution_count": 13,
     "metadata": {},
     "output_type": "execute_result"
    }
   ],
   "source": [
    "jdass"
   ]
  },
  {
   "cell_type": "code",
   "execution_count": 14,
   "id": "52688a55-2b9f-4b54-b2d8-a4adbbf6dc70",
   "metadata": {
    "pycharm": {
     "name": "#%%\n"
    }
   },
   "outputs": [
    {
     "data": {
      "text/html": [
       "<div>\n",
       "<style scoped>\n",
       "    .dataframe tbody tr th:only-of-type {\n",
       "        vertical-align: middle;\n",
       "    }\n",
       "\n",
       "    .dataframe tbody tr th {\n",
       "        vertical-align: top;\n",
       "    }\n",
       "\n",
       "    .dataframe thead th {\n",
       "        text-align: right;\n",
       "    }\n",
       "</style>\n",
       "<table border=\"1\" class=\"dataframe\">\n",
       "  <thead>\n",
       "    <tr style=\"text-align: right;\">\n",
       "      <th></th>\n",
       "      <th>JD - 2459089.9</th>\n",
       "      <th>JD</th>\n",
       "      <th>mag</th>\n",
       "      <th>emag</th>\n",
       "      <th>filter</th>\n",
       "    </tr>\n",
       "  </thead>\n",
       "  <tbody>\n",
       "    <tr>\n",
       "      <th>66</th>\n",
       "      <td>-14.990451</td>\n",
       "      <td>2.459075e+06</td>\n",
       "      <td>17.808170</td>\n",
       "      <td>99.990000</td>\n",
       "      <td>ZTF_r</td>\n",
       "    </tr>\n",
       "    <tr>\n",
       "      <th>67</th>\n",
       "      <td>-14.069491</td>\n",
       "      <td>2.459076e+06</td>\n",
       "      <td>20.903979</td>\n",
       "      <td>99.990000</td>\n",
       "      <td>ZTF_r</td>\n",
       "    </tr>\n",
       "    <tr>\n",
       "      <th>68</th>\n",
       "      <td>-14.048692</td>\n",
       "      <td>2.459076e+06</td>\n",
       "      <td>21.035093</td>\n",
       "      <td>99.990000</td>\n",
       "      <td>ZTF_g</td>\n",
       "    </tr>\n",
       "    <tr>\n",
       "      <th>69</th>\n",
       "      <td>-14.013426</td>\n",
       "      <td>2.459076e+06</td>\n",
       "      <td>21.075864</td>\n",
       "      <td>99.990000</td>\n",
       "      <td>ZTF_g</td>\n",
       "    </tr>\n",
       "    <tr>\n",
       "      <th>70</th>\n",
       "      <td>-13.062465</td>\n",
       "      <td>2.459077e+06</td>\n",
       "      <td>16.784696</td>\n",
       "      <td>0.074839</td>\n",
       "      <td>ZTF_r</td>\n",
       "    </tr>\n",
       "    <tr>\n",
       "      <th>71</th>\n",
       "      <td>-12.038113</td>\n",
       "      <td>2.459078e+06</td>\n",
       "      <td>21.115463</td>\n",
       "      <td>99.990000</td>\n",
       "      <td>ZTF_g</td>\n",
       "    </tr>\n",
       "    <tr>\n",
       "      <th>72</th>\n",
       "      <td>-11.092917</td>\n",
       "      <td>2.459079e+06</td>\n",
       "      <td>20.306288</td>\n",
       "      <td>0.132422</td>\n",
       "      <td>ZTF_r</td>\n",
       "    </tr>\n",
       "    <tr>\n",
       "      <th>73</th>\n",
       "      <td>-11.063449</td>\n",
       "      <td>2.459079e+06</td>\n",
       "      <td>20.971868</td>\n",
       "      <td>99.990000</td>\n",
       "      <td>ZTF_r</td>\n",
       "    </tr>\n",
       "    <tr>\n",
       "      <th>74</th>\n",
       "      <td>-11.038738</td>\n",
       "      <td>2.459079e+06</td>\n",
       "      <td>21.147123</td>\n",
       "      <td>99.990000</td>\n",
       "      <td>ZTF_g</td>\n",
       "    </tr>\n",
       "    <tr>\n",
       "      <th>75</th>\n",
       "      <td>-11.008391</td>\n",
       "      <td>2.459079e+06</td>\n",
       "      <td>19.995195</td>\n",
       "      <td>99.990000</td>\n",
       "      <td>ZTF_g</td>\n",
       "    </tr>\n",
       "    <tr>\n",
       "      <th>76</th>\n",
       "      <td>-10.072732</td>\n",
       "      <td>2.459080e+06</td>\n",
       "      <td>21.094561</td>\n",
       "      <td>99.990000</td>\n",
       "      <td>ZTF_g</td>\n",
       "    </tr>\n",
       "    <tr>\n",
       "      <th>77</th>\n",
       "      <td>-10.007963</td>\n",
       "      <td>2.459080e+06</td>\n",
       "      <td>20.876055</td>\n",
       "      <td>99.990000</td>\n",
       "      <td>ZTF_r</td>\n",
       "    </tr>\n",
       "    <tr>\n",
       "      <th>78</th>\n",
       "      <td>-9.071134</td>\n",
       "      <td>2.459081e+06</td>\n",
       "      <td>20.740009</td>\n",
       "      <td>99.990000</td>\n",
       "      <td>ZTF_r</td>\n",
       "    </tr>\n",
       "    <tr>\n",
       "      <th>79</th>\n",
       "      <td>-8.970671</td>\n",
       "      <td>2.459081e+06</td>\n",
       "      <td>20.873182</td>\n",
       "      <td>99.990000</td>\n",
       "      <td>ZTF_g</td>\n",
       "    </tr>\n",
       "    <tr>\n",
       "      <th>80</th>\n",
       "      <td>-8.090694</td>\n",
       "      <td>2.459082e+06</td>\n",
       "      <td>20.959046</td>\n",
       "      <td>99.990000</td>\n",
       "      <td>ZTF_g</td>\n",
       "    </tr>\n",
       "    <tr>\n",
       "      <th>81</th>\n",
       "      <td>-8.081806</td>\n",
       "      <td>2.459082e+06</td>\n",
       "      <td>20.990750</td>\n",
       "      <td>99.990000</td>\n",
       "      <td>ZTF_g</td>\n",
       "    </tr>\n",
       "    <tr>\n",
       "      <th>82</th>\n",
       "      <td>-8.031215</td>\n",
       "      <td>2.459082e+06</td>\n",
       "      <td>20.781160</td>\n",
       "      <td>99.990000</td>\n",
       "      <td>ZTF_r</td>\n",
       "    </tr>\n",
       "    <tr>\n",
       "      <th>83</th>\n",
       "      <td>-7.994896</td>\n",
       "      <td>2.459082e+06</td>\n",
       "      <td>20.860433</td>\n",
       "      <td>99.990000</td>\n",
       "      <td>ZTF_r</td>\n",
       "    </tr>\n",
       "    <tr>\n",
       "      <th>84</th>\n",
       "      <td>-7.039178</td>\n",
       "      <td>2.459083e+06</td>\n",
       "      <td>19.468248</td>\n",
       "      <td>0.207324</td>\n",
       "      <td>ZTF_g</td>\n",
       "    </tr>\n",
       "    <tr>\n",
       "      <th>85</th>\n",
       "      <td>-5.061597</td>\n",
       "      <td>2.459085e+06</td>\n",
       "      <td>20.941146</td>\n",
       "      <td>99.990000</td>\n",
       "      <td>ZTF_g</td>\n",
       "    </tr>\n",
       "    <tr>\n",
       "      <th>86</th>\n",
       "      <td>-4.045579</td>\n",
       "      <td>2.459086e+06</td>\n",
       "      <td>21.063892</td>\n",
       "      <td>99.990000</td>\n",
       "      <td>ZTF_g</td>\n",
       "    </tr>\n",
       "    <tr>\n",
       "      <th>87</th>\n",
       "      <td>-3.068912</td>\n",
       "      <td>2.459087e+06</td>\n",
       "      <td>20.890154</td>\n",
       "      <td>99.990000</td>\n",
       "      <td>ZTF_r</td>\n",
       "    </tr>\n",
       "    <tr>\n",
       "      <th>88</th>\n",
       "      <td>-2.128981</td>\n",
       "      <td>2.459088e+06</td>\n",
       "      <td>20.608715</td>\n",
       "      <td>99.990000</td>\n",
       "      <td>ZTF_r</td>\n",
       "    </tr>\n",
       "    <tr>\n",
       "      <th>89</th>\n",
       "      <td>-2.094132</td>\n",
       "      <td>2.459088e+06</td>\n",
       "      <td>20.780061</td>\n",
       "      <td>99.990000</td>\n",
       "      <td>ZTF_r</td>\n",
       "    </tr>\n",
       "    <tr>\n",
       "      <th>90</th>\n",
       "      <td>-2.083032</td>\n",
       "      <td>2.459088e+06</td>\n",
       "      <td>20.928559</td>\n",
       "      <td>99.990000</td>\n",
       "      <td>ZTF_g</td>\n",
       "    </tr>\n",
       "    <tr>\n",
       "      <th>91</th>\n",
       "      <td>-2.046099</td>\n",
       "      <td>2.459088e+06</td>\n",
       "      <td>20.899183</td>\n",
       "      <td>99.990000</td>\n",
       "      <td>ZTF_g</td>\n",
       "    </tr>\n",
       "  </tbody>\n",
       "</table>\n",
       "</div>"
      ],
      "text/plain": [
       "    JD - 2459089.9            JD        mag       emag filter\n",
       "66      -14.990451  2.459075e+06  17.808170  99.990000  ZTF_r\n",
       "67      -14.069491  2.459076e+06  20.903979  99.990000  ZTF_r\n",
       "68      -14.048692  2.459076e+06  21.035093  99.990000  ZTF_g\n",
       "69      -14.013426  2.459076e+06  21.075864  99.990000  ZTF_g\n",
       "70      -13.062465  2.459077e+06  16.784696   0.074839  ZTF_r\n",
       "71      -12.038113  2.459078e+06  21.115463  99.990000  ZTF_g\n",
       "72      -11.092917  2.459079e+06  20.306288   0.132422  ZTF_r\n",
       "73      -11.063449  2.459079e+06  20.971868  99.990000  ZTF_r\n",
       "74      -11.038738  2.459079e+06  21.147123  99.990000  ZTF_g\n",
       "75      -11.008391  2.459079e+06  19.995195  99.990000  ZTF_g\n",
       "76      -10.072732  2.459080e+06  21.094561  99.990000  ZTF_g\n",
       "77      -10.007963  2.459080e+06  20.876055  99.990000  ZTF_r\n",
       "78       -9.071134  2.459081e+06  20.740009  99.990000  ZTF_r\n",
       "79       -8.970671  2.459081e+06  20.873182  99.990000  ZTF_g\n",
       "80       -8.090694  2.459082e+06  20.959046  99.990000  ZTF_g\n",
       "81       -8.081806  2.459082e+06  20.990750  99.990000  ZTF_g\n",
       "82       -8.031215  2.459082e+06  20.781160  99.990000  ZTF_r\n",
       "83       -7.994896  2.459082e+06  20.860433  99.990000  ZTF_r\n",
       "84       -7.039178  2.459083e+06  19.468248   0.207324  ZTF_g\n",
       "85       -5.061597  2.459085e+06  20.941146  99.990000  ZTF_g\n",
       "86       -4.045579  2.459086e+06  21.063892  99.990000  ZTF_g\n",
       "87       -3.068912  2.459087e+06  20.890154  99.990000  ZTF_r\n",
       "88       -2.128981  2.459088e+06  20.608715  99.990000  ZTF_r\n",
       "89       -2.094132  2.459088e+06  20.780061  99.990000  ZTF_r\n",
       "90       -2.083032  2.459088e+06  20.928559  99.990000  ZTF_g\n",
       "91       -2.046099  2.459088e+06  20.899183  99.990000  ZTF_g"
      ]
     },
     "execution_count": 14,
     "metadata": {},
     "output_type": "execute_result"
    }
   ],
   "source": [
    "ztfdat = pd.DataFrame({f'JD - {jdass[0]:.1f}': t, 'JD': t+jdass, 'mag': m, 'emag': em, 'filter': f})\n",
    "ztfdat[(ztfdat['JD - 2459089.9'] > -15) & (ztfdat['JD - 2459089.9'] < 0)]\n"
   ]
  },
  {
   "cell_type": "code",
   "execution_count": 129,
   "id": "09d37f0a-d25e-4ed2-b673-bc408f9729cf",
   "metadata": {
    "pycharm": {
     "name": "#%%\n"
    }
   },
   "outputs": [],
   "source": [
    "ztfdat.loc[68:72].to_csv('data/at2020rng_around_discovery.csv', index=False)"
   ]
  },
  {
   "cell_type": "code",
   "execution_count": 123,
   "id": "ac62044a-528f-4f62-b59a-4feda403f4cd",
   "metadata": {
    "pycharm": {
     "name": "#%%\n"
    }
   },
   "outputs": [
    {
     "data": {
      "text/plain": [
       "Index(['JD - 2459089.9', 'JD', 'mag', 'emag', 'filter'], dtype='object')"
      ]
     },
     "execution_count": 123,
     "metadata": {},
     "output_type": "execute_result"
    }
   ],
   "source": [
    "ztfdat.columns"
   ]
  },
  {
   "cell_type": "code",
   "execution_count": 85,
   "id": "caf70bda-1f2c-487f-9eb2-8cc0955b039f",
   "metadata": {
    "pycharm": {
     "name": "#%%\n"
    }
   },
   "outputs": [
    {
     "data": {
      "text/html": [
       "&lt;Column name=&apos;filter&apos; dtype=&apos;str7&apos; length=13&gt;\n",
       "<table>\n",
       "<tr><td>ZTF_r</td></tr>\n",
       "<tr><td>ZTF_r</td></tr>\n",
       "<tr><td>ZTF_r</td></tr>\n",
       "<tr><td>ZTF_g</td></tr>\n",
       "<tr><td>ZTF_r</td></tr>\n",
       "<tr><td>ZTF_r</td></tr>\n",
       "<tr><td>ZTF_r</td></tr>\n",
       "<tr><td>ZTF_r</td></tr>\n",
       "<tr><td>ZTF_r</td></tr>\n",
       "<tr><td>ZTF_r</td></tr>\n",
       "<tr><td>ZTF_r</td></tr>\n",
       "<tr><td>ZTF_g</td></tr>\n",
       "<tr><td>ZTF_r</td></tr>\n",
       "</table>"
      ],
      "text/plain": [
       "<Column name='filter' dtype='str7' length=13>\n",
       "ZTF_r\n",
       "ZTF_r\n",
       "ZTF_r\n",
       "ZTF_g\n",
       "ZTF_r\n",
       "ZTF_r\n",
       "ZTF_r\n",
       "ZTF_r\n",
       "ZTF_r\n",
       "ZTF_r\n",
       "ZTF_r\n",
       "ZTF_g\n",
       "ZTF_r"
      ]
     },
     "execution_count": 85,
     "metadata": {},
     "output_type": "execute_result"
    }
   ],
   "source": [
    "f"
   ]
  },
  {
   "cell_type": "code",
   "execution_count": 15,
   "id": "8ecc05a3-06d6-4d21-a76a-50823b47a655",
   "metadata": {
    "pycharm": {
     "name": "#%%\n"
    }
   },
   "outputs": [
    {
     "name": "stdout",
     "output_type": "stream",
     "text": [
      "no data for AT2020rng for V\n",
      "no data for AT2020rng for V\n",
      "13 detections\n",
      "no data for AT2020rng for V\n"
     ]
    },
    {
     "data": {
      "image/png": "[encoded data removed]",
      "text/plain": [
       "<Figure size 1200x741.656 with 1 Axes>"
      ]
     },
     "metadata": {},
     "output_type": "display_data"
    }
   ],
   "source": [
    "jdass, jdice, data, nu_name, ttype = get_lc('AT2020rng')\n",
    "ztft, ztfmag, ztfmage, ztfftr = get_ztffps_at2020rng()\n",
    "\n",
    "fig, ax = plot_lc('AT2020rng')\n",
    "for f in np.unique(ztfftr):\n",
    "    fm = ztfftr == f\n",
    "    \n",
    "    for ul in [True, False]:\n",
    "        if ul:\n",
    "            ulm = ztfmage == 99.99\n",
    "            marker = 'v'\n",
    "        else:\n",
    "            ulm = ztfmage != 99.99\n",
    "            marker = 'o'\n",
    "            \n",
    "        ax.scatter(ztft[fm & ulm], ztfmag[fm & ulm], s=2, marker=marker)\n",
    "        \n",
    "ax.set_ylim([24, 15])\n",
    "plt.show()\n",
    "plt.close()"
   ]
  },
  {
   "cell_type": "code",
   "execution_count": 63,
   "id": "19ffea79-5ef7-4fbb-b8e4-1b4a78941556",
   "metadata": {
    "pycharm": {
     "name": "#%%\n"
    }
   },
   "outputs": [
    {
     "data": {
      "text/plain": [
       "array([24.9682433 , 19.11545799, 16.78469554, 20.30628846, 21.47643245,\n",
       "       21.13785326, 19.46824767, 24.12837073, 22.49506941, 20.53560281,\n",
       "       19.68395112, 21.5075193 , 20.36970007, 22.5631997 , 23.15063365,\n",
       "       21.44935464, 22.15705419, 23.00331962, 21.48481887, 22.46797247,\n",
       "       26.45294691, 21.5501651 , 20.90222463])"
      ]
     },
     "execution_count": 63,
     "metadata": {},
     "output_type": "execute_result"
    }
   ],
   "source": [
    "ztfmag"
   ]
  },
  {
   "cell_type": "code",
   "execution_count": 2,
   "id": "55b3cb3e-2dd5-436d-bdcc-f67782fd4833",
   "metadata": {
    "pycharm": {
     "name": "#%%\n"
    }
   },
   "outputs": [],
   "source": [
    "aperture_phot = pd.read_csv('data/LC/at2020rng_aperture_phot.csv')"
   ]
  },
  {
   "cell_type": "code",
   "execution_count": 13,
   "id": "de2048a4-8f9d-46a9-8b71-c934f41d322a",
   "metadata": {
    "pycharm": {
     "name": "#%%\n"
    }
   },
   "outputs": [],
   "source": [
    "aperture_phot_g = aperture_phot[aperture_phot.Filter == 'g']\n",
    "aperture_phot_g_det = aperture_phot_g[aperture_phot_g.mag_err != 99.990]"
   ]
  },
  {
   "cell_type": "code",
   "execution_count": 18,
   "id": "e55d1e0f-61fa-4ad3-85c0-207d430a8b9d",
   "metadata": {
    "pycharm": {
     "name": "#%%\n"
    }
   },
   "outputs": [
    {
     "data": {
      "text/plain": [
       "15.29197972972973"
      ]
     },
     "execution_count": 18,
     "metadata": {},
     "output_type": "execute_result"
    }
   ],
   "source": [
    "aperture_phot_g_det.mag.astype(float).mean()"
   ]
  },
  {
   "cell_type": "code",
   "execution_count": null,
   "id": "8a2bde8d-810d-42a2-8cb9-ee5958438e25",
   "metadata": {
    "pycharm": {
     "name": "#%%\n"
    }
   },
   "outputs": [],
   "source": []
  }
 ],
 "metadata": {
  "kernelspec": {
   "display_name": "Python 3 (ipykernel)",
   "language": "python",
   "name": "python3"
  },
  "language_info": {
   "codemirror_mode": {
    "name": "ipython",
    "version": 3
   },
   "file_extension": ".py",
   "mimetype": "text/x-python",
   "name": "python",
   "nbconvert_exporter": "python",
   "pygments_lexer": "ipython3",
   "version": "3.10.2"
  }
 },
 "nbformat": 4,
 "nbformat_minor": 5
}