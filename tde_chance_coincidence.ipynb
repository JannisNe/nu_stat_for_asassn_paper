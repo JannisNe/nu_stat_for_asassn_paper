{
 "cells": [
  {
   "cell_type": "code",
   "execution_count": 1,
   "id": "95412abc-6d03-48d0-a9d2-4ab7a4813ed4",
   "metadata": {},
   "outputs": [],
   "source": [
    "%matplotlib inline\n",
    "import matplotlib\n",
    "import matplotlib.pyplot as plt\n",
    "import pandas as pd\n",
    "import numpy as np\n",
    "import os\n",
    "from astropy.time import Time\n",
    "from astropy.table import Table\n",
    "from astropy.coordinates import SkyCoord, get_sun\n",
    "from astropy.coordinates import Angle\n",
    "from astropy import units as u\n",
    "from alerts import get_alerts, make_alerts\n",
    "from datetime import datetime, date\n",
    "from style import output_folder, big_fontsize, base_width, base_height, dpi, CB_color_cycle\n",
    "import seaborn as sns\n",
    "import json\n",
    "from astropy.time import Time"
   ]
  },
  {
   "cell_type": "code",
   "execution_count": 2,
   "id": "85c723b5-328d-482b-9bb0-3222c5983dc3",
   "metadata": {},
   "outputs": [],
   "source": [
    "alerts = get_alerts()"
   ]
  },
  {
   "cell_type": "code",
   "execution_count": 96,
   "id": "511e27a0-92ec-4000-ba61-7ee4c7e3a308",
   "metadata": {},
   "outputs": [
    {
     "name": "stdout",
     "output_type": "stream",
     "text": [
      "Observed 1209.7099105888599 sqd in total!\n"
     ]
    }
   ],
   "source": [
    "ic16mask = (alerts.Event == 'IC160731A') & (alerts.Class == 'HESE')\n",
    "hese_mask = alerts.Class == 'HESE'\n",
    "m = alerts.observed & ~ic16mask &~ hese_mask\n",
    "\n",
    "unc = {k: np.array([tuple(l[f'{k} Unc (rectangle) float']) if not ((l.Event == 'IC190629A') and (k == 'RA'))\n",
    "                   else [-np.pi, np.pi]\n",
    "                   for i, l in alerts[m].iterrows()])\n",
    "        for k in ['RA', 'Dec']\n",
    "}\n",
    "\n",
    "perc = alerts[m]['14d coverage']\n",
    "delta = {k: (iunc.T + np.array(alerts[k][m])).T\n",
    "        for k, iunc in unc.items()}\n",
    "\n",
    "dra = abs(delta['RA'][:,1] - delta['RA'][:,0])\n",
    "dsindec = abs(np.sin(np.radians(delta['Dec'][:,1])) - np.sin(np.radians(delta['Dec'][:,0])))\n",
    "areas = 180/np.pi * dra * dsindec * perc/100\n",
    "\n",
    "complete_area_observed = sum(areas)\n",
    "print(f\"Observed {complete_area_observed} sqd in total!\")"
   ]
  },
  {
   "cell_type": "code",
   "execution_count": 106,
   "id": "6ba80e26-ed6c-4eb8-813f-9eebdf5f0d4a",
   "metadata": {},
   "outputs": [
    {
     "name": "stdout",
     "output_type": "stream",
     "text": [
      "4.109589041095891 TDEs on the sky at any time.\n",
      "chance coincidence = 0.12\n"
     ]
    }
   ],
   "source": [
    "tdes_per_year = 3\n",
    "tde_livetime = 500\n",
    "tdes_on_sky = tdes_per_year * tde_livetime/365\n",
    "sky_area = 41252.96\n",
    "chance_coincidence = tdes_on_sky / sky_area * complete_area_observed\n",
    "\n",
    "print(f\"{tdes_on_sky} TDEs on the sky at any time.\")\n",
    "print(f\"chance coincidence = {chance_coincidence:.2f}\")\n"
   ]
  },
  {
   "cell_type": "code",
   "execution_count": null,
   "id": "99474528-0b60-47b5-b5f7-59123eb776b3",
   "metadata": {},
   "outputs": [],
   "source": []
  }
 ],
 "metadata": {
  "kernelspec": {
   "display_name": "Python 3 (ipykernel)",
   "language": "python",
   "name": "python3"
  },
  "language_info": {
   "codemirror_mode": {
    "name": "ipython",
    "version": 3
   },
   "file_extension": ".py",
   "mimetype": "text/x-python",
   "name": "python",
   "nbconvert_exporter": "python",
   "pygments_lexer": "ipython3",
   "version": "3.8.10"
  }
 },
 "nbformat": 4,
 "nbformat_minor": 5
}
